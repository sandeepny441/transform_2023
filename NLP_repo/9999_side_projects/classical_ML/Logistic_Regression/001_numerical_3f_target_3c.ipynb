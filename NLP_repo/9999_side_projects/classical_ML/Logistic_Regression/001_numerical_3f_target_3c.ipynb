{
 "cells": [
  {
   "cell_type": "code",
   "execution_count": 1,
   "id": "317fdd9b",
   "metadata": {},
   "outputs": [],
   "source": [
    "import numpy as np\n",
    "import pandas as pd\n",
    "import seaborn as sns\n",
    "import matplotlib.pyplot as plt\n",
    "%matplotlib inline\n",
    "\n",
    "import warnings\n",
    "# Suppress warnings (if desired)\n",
    "warnings.filterwarnings(\"ignore\")"
   ]
  },
  {
   "cell_type": "code",
   "execution_count": 2,
   "id": "831f8601",
   "metadata": {},
   "outputs": [
    {
     "data": {
      "text/html": [
       "<div>\n",
       "<style scoped>\n",
       "    .dataframe tbody tr th:only-of-type {\n",
       "        vertical-align: middle;\n",
       "    }\n",
       "\n",
       "    .dataframe tbody tr th {\n",
       "        vertical-align: top;\n",
       "    }\n",
       "\n",
       "    .dataframe thead th {\n",
       "        text-align: right;\n",
       "    }\n",
       "</style>\n",
       "<table border=\"1\" class=\"dataframe\">\n",
       "  <thead>\n",
       "    <tr style=\"text-align: right;\">\n",
       "      <th></th>\n",
       "      <th>Age</th>\n",
       "      <th>Income</th>\n",
       "      <th>Spending_Score</th>\n",
       "      <th>Target</th>\n",
       "    </tr>\n",
       "  </thead>\n",
       "  <tbody>\n",
       "    <tr>\n",
       "      <th>0</th>\n",
       "      <td>64</td>\n",
       "      <td>68600</td>\n",
       "      <td>0.832620</td>\n",
       "      <td>High</td>\n",
       "    </tr>\n",
       "    <tr>\n",
       "      <th>1</th>\n",
       "      <td>67</td>\n",
       "      <td>59512</td>\n",
       "      <td>0.778157</td>\n",
       "      <td>High</td>\n",
       "    </tr>\n",
       "    <tr>\n",
       "      <th>2</th>\n",
       "      <td>20</td>\n",
       "      <td>72620</td>\n",
       "      <td>0.870012</td>\n",
       "      <td>High</td>\n",
       "    </tr>\n",
       "    <tr>\n",
       "      <th>3</th>\n",
       "      <td>23</td>\n",
       "      <td>37089</td>\n",
       "      <td>0.978618</td>\n",
       "      <td>High</td>\n",
       "    </tr>\n",
       "    <tr>\n",
       "      <th>4</th>\n",
       "      <td>23</td>\n",
       "      <td>52230</td>\n",
       "      <td>0.799159</td>\n",
       "      <td>High</td>\n",
       "    </tr>\n",
       "    <tr>\n",
       "      <th>5</th>\n",
       "      <td>59</td>\n",
       "      <td>38983</td>\n",
       "      <td>0.461479</td>\n",
       "      <td>Medium</td>\n",
       "    </tr>\n",
       "    <tr>\n",
       "      <th>6</th>\n",
       "      <td>29</td>\n",
       "      <td>26921</td>\n",
       "      <td>0.780529</td>\n",
       "      <td>High</td>\n",
       "    </tr>\n",
       "    <tr>\n",
       "      <th>7</th>\n",
       "      <td>39</td>\n",
       "      <td>58804</td>\n",
       "      <td>0.118274</td>\n",
       "      <td>Low</td>\n",
       "    </tr>\n",
       "    <tr>\n",
       "      <th>8</th>\n",
       "      <td>41</td>\n",
       "      <td>87699</td>\n",
       "      <td>0.639921</td>\n",
       "      <td>Medium</td>\n",
       "    </tr>\n",
       "    <tr>\n",
       "      <th>9</th>\n",
       "      <td>56</td>\n",
       "      <td>90608</td>\n",
       "      <td>0.143353</td>\n",
       "      <td>Low</td>\n",
       "    </tr>\n",
       "  </tbody>\n",
       "</table>\n",
       "</div>"
      ],
      "text/plain": [
       "   Age  Income  Spending_Score  Target\n",
       "0   64   68600        0.832620    High\n",
       "1   67   59512        0.778157    High\n",
       "2   20   72620        0.870012    High\n",
       "3   23   37089        0.978618    High\n",
       "4   23   52230        0.799159    High\n",
       "5   59   38983        0.461479  Medium\n",
       "6   29   26921        0.780529    High\n",
       "7   39   58804        0.118274     Low\n",
       "8   41   87699        0.639921  Medium\n",
       "9   56   90608        0.143353     Low"
      ]
     },
     "execution_count": 2,
     "metadata": {},
     "output_type": "execute_result"
    }
   ],
   "source": [
    "# Create a dataset with the descriptive features and 10 rows\n",
    "np.random.seed(0)  # for reproducibility\n",
    "data = {\n",
    "    'Age': np.random.randint(20, 70, 10),  # Age values between 20 and 70\n",
    "    'Income': np.random.randint(20000, 100000, 10),  # Income values between 20,000 and 100,000\n",
    "    'Spending_Score': np.random.rand(10),  # Random float values between 0 and 1\n",
    "    'Target': ['Yes' if i > 0.5 else 'No' for i in np.random.rand(10)]\n",
    "}\n",
    "\n",
    "df = pd.DataFrame(data)\n",
    "\n",
    "# Create a Target column with 'Low', 'Medium', 'High' based on Spending_Score\n",
    "bins = [0, 0.33, 0.66, 1]\n",
    "labels = ['Low', 'Medium', 'High']\n",
    "df['Target'] = pd.cut(df['Spending_Score'], bins=bins, labels=labels, include_lowest=True)\n",
    "\n",
    "\n",
    "df"
   ]
  },
  {
   "cell_type": "code",
   "execution_count": 3,
   "id": "f1705049",
   "metadata": {},
   "outputs": [],
   "source": [
    "df['Target'] = df['Target'].map({'Low': 0, 'Medium': 1, 'High': 2})\n",
    "\n",
    "X = df[['Age', 'Income', 'Spending_Score']]\n",
    "y = df['Target']\n",
    "\n"
   ]
  },
  {
   "cell_type": "code",
   "execution_count": 4,
   "id": "51984681",
   "metadata": {},
   "outputs": [
    {
     "name": "stdout",
     "output_type": "stream",
     "text": [
      "Coefficients: [[-1.53396263e-02  7.11681749e-06 -3.37749437e-03]\n",
      " [ 1.09470914e-02 -1.29032599e-05 -9.21876554e-04]\n",
      " [ 4.39253488e-03  5.78644239e-06  4.29937092e-03]]\n",
      "Intercept: [-0.00132344 -0.00065678  0.00198021]\n"
     ]
    }
   ],
   "source": [
    "from sklearn.linear_model import LogisticRegression\n",
    "\n",
    "# Initialize the logistic regression model\n",
    "clf = LogisticRegression()\n",
    "\n",
    "# Train the model\n",
    "clf.fit(X, y)\n",
    "\n",
    "# Print out the coefficients and intercept\n",
    "print('Coefficients:', clf.coef_)\n",
    "print('Intercept:', clf.intercept_)\n"
   ]
  },
  {
   "cell_type": "code",
   "execution_count": 5,
   "id": "188b7bc4",
   "metadata": {},
   "outputs": [],
   "source": [
    "y_pred = clf.predict(X)"
   ]
  },
  {
   "cell_type": "code",
   "execution_count": 6,
   "id": "182b2123",
   "metadata": {},
   "outputs": [
    {
     "data": {
      "text/plain": [
       "array([[0, 0, 2],\n",
       "       [0, 0, 2],\n",
       "       [0, 0, 6]], dtype=int64)"
      ]
     },
     "execution_count": 6,
     "metadata": {},
     "output_type": "execute_result"
    }
   ],
   "source": [
    "from sklearn.metrics import confusion_matrix\n",
    "\n",
    "conf_matrix = confusion_matrix(y, y_pred)\n",
    "conf_matrix"
   ]
  },
  {
   "cell_type": "code",
   "execution_count": 7,
   "id": "58007d82",
   "metadata": {},
   "outputs": [
    {
     "name": "stdout",
     "output_type": "stream",
     "text": [
      "Accuracy: 0.6000\n",
      "F1 Score: 0.2500\n",
      "Precision: 0.2000\n",
      "Recall: 0.3333\n"
     ]
    }
   ],
   "source": [
    "from sklearn.metrics import accuracy_score, f1_score, precision_score, recall_score\n",
    "\n",
    "# Compute the metrics\n",
    "accuracy = accuracy_score(y, y_pred)\n",
    "f1 = f1_score(y, y_pred, average = 'macro')\n",
    "precision = precision_score(y, y_pred,  average = 'macro')\n",
    "recall = recall_score(y, y_pred,  average = 'macro')\n",
    "\n",
    "# Print the metrics\n",
    "print(f\"Accuracy: {accuracy:.4f}\")\n",
    "print(f\"F1 Score: {f1:.4f}\")\n",
    "print(f\"Precision: {precision:.4f}\")\n",
    "print(f\"Recall: {recall:.4f}\")\n"
   ]
  },
  {
   "cell_type": "code",
   "execution_count": null,
   "id": "b095b2a2",
   "metadata": {},
   "outputs": [],
   "source": []
  }
 ],
 "metadata": {
  "kernelspec": {
   "display_name": "Python 3",
   "language": "python",
   "name": "python3"
  },
  "language_info": {
   "codemirror_mode": {
    "name": "ipython",
    "version": 3
   },
   "file_extension": ".py",
   "mimetype": "text/x-python",
   "name": "python",
   "nbconvert_exporter": "python",
   "pygments_lexer": "ipython3",
   "version": "3.8.3"
  }
 },
 "nbformat": 4,
 "nbformat_minor": 5
}
