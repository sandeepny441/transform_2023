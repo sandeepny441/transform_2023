{
 "cells": [
  {
   "cell_type": "code",
   "execution_count": 1,
   "id": "de2d27b2",
   "metadata": {},
   "outputs": [
    {
     "data": {
      "text/html": [
       "<div>\n",
       "<style scoped>\n",
       "    .dataframe tbody tr th:only-of-type {\n",
       "        vertical-align: middle;\n",
       "    }\n",
       "\n",
       "    .dataframe tbody tr th {\n",
       "        vertical-align: top;\n",
       "    }\n",
       "\n",
       "    .dataframe thead th {\n",
       "        text-align: right;\n",
       "    }\n",
       "</style>\n",
       "<table border=\"1\" class=\"dataframe\">\n",
       "  <thead>\n",
       "    <tr style=\"text-align: right;\">\n",
       "      <th></th>\n",
       "      <th>X1</th>\n",
       "      <th>X2</th>\n",
       "      <th>Y</th>\n",
       "    </tr>\n",
       "  </thead>\n",
       "  <tbody>\n",
       "    <tr>\n",
       "      <th>0</th>\n",
       "      <td>45</td>\n",
       "      <td>89</td>\n",
       "      <td>369.0</td>\n",
       "    </tr>\n",
       "    <tr>\n",
       "      <th>1</th>\n",
       "      <td>48</td>\n",
       "      <td>13</td>\n",
       "      <td>122.0</td>\n",
       "    </tr>\n",
       "    <tr>\n",
       "      <th>2</th>\n",
       "      <td>65</td>\n",
       "      <td>59</td>\n",
       "      <td>311.0</td>\n",
       "    </tr>\n",
       "    <tr>\n",
       "      <th>3</th>\n",
       "      <td>68</td>\n",
       "      <td>66</td>\n",
       "      <td>333.0</td>\n",
       "    </tr>\n",
       "    <tr>\n",
       "      <th>4</th>\n",
       "      <td>68</td>\n",
       "      <td>40</td>\n",
       "      <td>270.0</td>\n",
       "    </tr>\n",
       "    <tr>\n",
       "      <th>5</th>\n",
       "      <td>10</td>\n",
       "      <td>88</td>\n",
       "      <td>283.0</td>\n",
       "    </tr>\n",
       "    <tr>\n",
       "      <th>6</th>\n",
       "      <td>84</td>\n",
       "      <td>47</td>\n",
       "      <td>329.0</td>\n",
       "    </tr>\n",
       "    <tr>\n",
       "      <th>7</th>\n",
       "      <td>22</td>\n",
       "      <td>89</td>\n",
       "      <td>313.0</td>\n",
       "    </tr>\n",
       "    <tr>\n",
       "      <th>8</th>\n",
       "      <td>37</td>\n",
       "      <td>82</td>\n",
       "      <td>326.0</td>\n",
       "    </tr>\n",
       "    <tr>\n",
       "      <th>9</th>\n",
       "      <td>88</td>\n",
       "      <td>38</td>\n",
       "      <td>306.0</td>\n",
       "    </tr>\n",
       "    <tr>\n",
       "      <th>10</th>\n",
       "      <td>71</td>\n",
       "      <td>26</td>\n",
       "      <td>236.0</td>\n",
       "    </tr>\n",
       "    <tr>\n",
       "      <th>11</th>\n",
       "      <td>89</td>\n",
       "      <td>78</td>\n",
       "      <td>414.0</td>\n",
       "    </tr>\n",
       "  </tbody>\n",
       "</table>\n",
       "</div>"
      ],
      "text/plain": [
       "    X1  X2      Y\n",
       "0   45  89  369.0\n",
       "1   48  13  122.0\n",
       "2   65  59  311.0\n",
       "3   68  66  333.0\n",
       "4   68  40  270.0\n",
       "5   10  88  283.0\n",
       "6   84  47  329.0\n",
       "7   22  89  313.0\n",
       "8   37  82  326.0\n",
       "9   88  38  306.0\n",
       "10  71  26  236.0\n",
       "11  89  78  414.0"
      ]
     },
     "execution_count": 1,
     "metadata": {},
     "output_type": "execute_result"
    }
   ],
   "source": [
    "import pandas as pd\n",
    "import numpy as np\n",
    "\n",
    "# Set the seed for reproducibility\n",
    "np.random.seed(0)\n",
    "\n",
    "# Creating the DataFrame\n",
    "data = {\n",
    "    'X1': np.random.randint(1, 100, 12),\n",
    "    'X2': np.random.randint(1, 100, 12),\n",
    "}\n",
    "\n",
    "df = pd.DataFrame(data)\n",
    "\n",
    "# Assuming a linear relation: Y = 2*X1 + 3*X2 + some_noise\n",
    "df['Y'] = round(2*df['X1'] + 3*df['X2'] + np.random.normal(0, 10, 12))\n",
    "\n",
    "# Display the DataFrame\n",
    "df\n"
   ]
  },
  {
   "cell_type": "code",
   "execution_count": 2,
   "id": "a76de0ba",
   "metadata": {},
   "outputs": [
    {
     "name": "stdout",
     "output_type": "stream",
     "text": [
      "Coefficients: [2.31339084 3.19612503]\n",
      "Intercept: -23.23869013599989\n",
      "Mean Squared Error (MSE) on Test Data: 148.93258943139617\n",
      "R^2 Score on Test Data: 0.9573693370370026\n"
     ]
    }
   ],
   "source": [
    "import pandas as pd\n",
    "import numpy as np\n",
    "from sklearn.model_selection import train_test_split\n",
    "from sklearn.linear_model import LinearRegression\n",
    "from sklearn.metrics import mean_squared_error, r2_score\n",
    "\n",
    "# (Previous code for generating the DataFrame goes here)\n",
    "\n",
    "# Splitting the data into train and test sets\n",
    "X_train, X_test, y_train, y_test = train_test_split(df[['X1', 'X2']], df['Y'], test_size=0.2, random_state=0)\n",
    "\n",
    "# Creating the model\n",
    "model = LinearRegression()\n",
    "\n",
    "# Fitting the model with the training data\n",
    "model.fit(X_train, y_train)\n",
    "\n",
    "# Making predictions on the test data\n",
    "y_pred = model.predict(X_test)\n",
    "\n",
    "# Printing coefficients\n",
    "print(f\"Coefficients: {model.coef_}\")\n",
    "print(f\"Intercept: {model.intercept_}\")\n",
    "\n",
    "# Printing metrics\n",
    "print(f\"Mean Squared Error (MSE) on Test Data: {mean_squared_error(y_test, y_pred)}\")\n",
    "print(f\"R^2 Score on Test Data: {r2_score(y_test, y_pred)}\")\n"
   ]
  },
  {
   "cell_type": "code",
   "execution_count": 3,
   "id": "0261a80c",
   "metadata": {},
   "outputs": [
    {
     "name": "stdout",
     "output_type": "stream",
     "text": [
      "Y = -23.24 + 2.31 * X1 + 3.20 * X2\n"
     ]
    }
   ],
   "source": [
    "# Getting the coefficients and intercept\n",
    "intercept = model.intercept_\n",
    "coefficients = model.coef_\n",
    "\n",
    "print(f\"Y = {intercept:.2f} + {coefficients[0]:.2f} * X1 + {coefficients[1]:.2f} * X2\")"
   ]
  },
  {
   "cell_type": "code",
   "execution_count": 4,
   "id": "e25d5def",
   "metadata": {},
   "outputs": [
    {
     "name": "stdout",
     "output_type": "stream",
     "text": [
      "                            OLS Regression Results                            \n",
      "==============================================================================\n",
      "Dep. Variable:                      Y   R-squared:                       0.990\n",
      "Model:                            OLS   Adj. R-squared:                  0.987\n",
      "Method:                 Least Squares   F-statistic:                     310.6\n",
      "Date:                Tue, 31 Oct 2023   Prob (F-statistic):           8.76e-07\n",
      "Time:                        08:34:34   Log-Likelihood:                -29.842\n",
      "No. Observations:                   9   AIC:                             65.68\n",
      "Df Residuals:                       6   BIC:                             66.28\n",
      "Df Model:                           2                                         \n",
      "Covariance Type:            nonrobust                                         \n",
      "==============================================================================\n",
      "                 coef    std err          t      P>|t|      [0.025      0.975]\n",
      "------------------------------------------------------------------------------\n",
      "const        -23.2387     14.189     -1.638      0.153     -57.958      11.480\n",
      "X1             2.3134      0.150     15.458      0.000       1.947       2.680\n",
      "X2             3.1961      0.128     24.916      0.000       2.882       3.510\n",
      "==============================================================================\n",
      "Omnibus:                        0.202   Durbin-Watson:                   2.466\n",
      "Prob(Omnibus):                  0.904   Jarque-Bera (JB):                0.124\n",
      "Skew:                          -0.158   Prob(JB):                        0.940\n",
      "Kurtosis:                       2.520   Cond. No.                         422.\n",
      "==============================================================================\n",
      "\n",
      "Notes:\n",
      "[1] Standard Errors assume that the covariance matrix of the errors is correctly specified.\n"
     ]
    },
    {
     "name": "stderr",
     "output_type": "stream",
     "text": [
      "C:\\ProgramData\\Anaconda3\\lib\\site-packages\\scipy\\stats\\_stats_py.py:1736: UserWarning: kurtosistest only valid for n>=20 ... continuing anyway, n=9\n",
      "  warnings.warn(\"kurtosistest only valid for n>=20 ... continuing \"\n"
     ]
    }
   ],
   "source": [
    "import statsmodels.api as sm\n",
    "\n",
    "# Adding a constant to the model (intercept)\n",
    "X_train_sm = sm.add_constant(X_train)\n",
    "\n",
    "# Fitting the OLS (Ordinary Least Squares) model\n",
    "model = sm.OLS(y_train, X_train_sm).fit()\n",
    "\n",
    "# Displaying the summary which includes the t-tests and F-test\n",
    "print(model.summary())\n"
   ]
  },
  {
   "cell_type": "code",
   "execution_count": null,
   "id": "d2c7ab07",
   "metadata": {},
   "outputs": [],
   "source": []
  }
 ],
 "metadata": {
  "kernelspec": {
   "display_name": "Python 3",
   "language": "python",
   "name": "python3"
  },
  "language_info": {
   "codemirror_mode": {
    "name": "ipython",
    "version": 3
   },
   "file_extension": ".py",
   "mimetype": "text/x-python",
   "name": "python",
   "nbconvert_exporter": "python",
   "pygments_lexer": "ipython3",
   "version": "3.8.3"
  }
 },
 "nbformat": 4,
 "nbformat_minor": 5
}
