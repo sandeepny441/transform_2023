{
 "cells": [
  {
   "cell_type": "code",
   "execution_count": 2,
   "id": "fa5b11d1",
   "metadata": {},
   "outputs": [
    {
     "data": {
      "text/html": [
       "<div>\n",
       "<style scoped>\n",
       "    .dataframe tbody tr th:only-of-type {\n",
       "        vertical-align: middle;\n",
       "    }\n",
       "\n",
       "    .dataframe tbody tr th {\n",
       "        vertical-align: top;\n",
       "    }\n",
       "\n",
       "    .dataframe thead th {\n",
       "        text-align: right;\n",
       "    }\n",
       "</style>\n",
       "<table border=\"1\" class=\"dataframe\">\n",
       "  <thead>\n",
       "    <tr style=\"text-align: right;\">\n",
       "      <th></th>\n",
       "      <th>user_id</th>\n",
       "      <th>session_start</th>\n",
       "      <th>session_end</th>\n",
       "      <th>session_id</th>\n",
       "      <th>session_type</th>\n",
       "    </tr>\n",
       "  </thead>\n",
       "  <tbody>\n",
       "    <tr>\n",
       "      <th>0</th>\n",
       "      <td>0</td>\n",
       "      <td>2020-08-11 05:51:31</td>\n",
       "      <td>2020-08-11 05:54:45</td>\n",
       "      <td>539</td>\n",
       "      <td>streamer</td>\n",
       "    </tr>\n",
       "    <tr>\n",
       "      <th>1</th>\n",
       "      <td>2</td>\n",
       "      <td>2020-07-11 03:36:54</td>\n",
       "      <td>2020-07-11 03:37:08</td>\n",
       "      <td>840</td>\n",
       "      <td>streamer</td>\n",
       "    </tr>\n",
       "    <tr>\n",
       "      <th>2</th>\n",
       "      <td>3</td>\n",
       "      <td>2020-11-26 11:41:47</td>\n",
       "      <td>2020-11-26 11:52:01</td>\n",
       "      <td>848</td>\n",
       "      <td>streamer</td>\n",
       "    </tr>\n",
       "    <tr>\n",
       "      <th>3</th>\n",
       "      <td>1</td>\n",
       "      <td>2020-11-19 06:24:24</td>\n",
       "      <td>2020-11-19 07:24:38</td>\n",
       "      <td>515</td>\n",
       "      <td>viewer</td>\n",
       "    </tr>\n",
       "    <tr>\n",
       "      <th>4</th>\n",
       "      <td>2</td>\n",
       "      <td>2020-11-14 03:36:05</td>\n",
       "      <td>2020-11-14 03:39:19</td>\n",
       "      <td>646</td>\n",
       "      <td>viewer</td>\n",
       "    </tr>\n",
       "  </tbody>\n",
       "</table>\n",
       "</div>"
      ],
      "text/plain": [
       "   user_id        session_start          session_end  session_id session_type\n",
       "0        0  2020-08-11 05:51:31  2020-08-11 05:54:45         539     streamer\n",
       "1        2  2020-07-11 03:36:54  2020-07-11 03:37:08         840     streamer\n",
       "2        3  2020-11-26 11:41:47  2020-11-26 11:52:01         848     streamer\n",
       "3        1  2020-11-19 06:24:24  2020-11-19 07:24:38         515       viewer\n",
       "4        2  2020-11-14 03:36:05  2020-11-14 03:39:19         646       viewer"
      ]
     },
     "execution_count": 2,
     "metadata": {},
     "output_type": "execute_result"
    }
   ],
   "source": [
    "import pandas as pd\n",
    "\n",
    "# Create a dictionary with the data\n",
    "data = {\n",
    "    'user_id': [0, 2, 3, 1, 2],\n",
    "    'session_start': ['2020-08-11 05:51:31', '2020-07-11 03:36:54', '2020-11-26 11:41:47', '2020-11-19 06:24:24', '2020-11-14 03:36:05'],\n",
    "    'session_end': ['2020-08-11 05:54:45', '2020-07-11 03:37:08', '2020-11-26 11:52:01', '2020-11-19 07:24:38', '2020-11-14 03:39:19'],\n",
    "    'session_id': [539, 840, 848, 515, 646],\n",
    "    'session_type': ['streamer', 'streamer', 'streamer', 'viewer', 'viewer']\n",
    "}\n",
    "\n",
    "# Create the DataFrame\n",
    "df = pd.DataFrame(data)\n",
    "\n",
    "# Print the DataFrame\n",
    "df\n"
   ]
  },
  {
   "cell_type": "code",
   "execution_count": 3,
   "id": "339940b3",
   "metadata": {},
   "outputs": [
    {
     "data": {
      "text/html": [
       "<div>\n",
       "<style scoped>\n",
       "    .dataframe tbody tr th:only-of-type {\n",
       "        vertical-align: middle;\n",
       "    }\n",
       "\n",
       "    .dataframe tbody tr th {\n",
       "        vertical-align: top;\n",
       "    }\n",
       "\n",
       "    .dataframe thead th {\n",
       "        text-align: right;\n",
       "    }\n",
       "</style>\n",
       "<table border=\"1\" class=\"dataframe\">\n",
       "  <thead>\n",
       "    <tr style=\"text-align: right;\">\n",
       "      <th></th>\n",
       "      <th>user_id</th>\n",
       "      <th>session_start</th>\n",
       "      <th>session_end</th>\n",
       "      <th>session_id</th>\n",
       "      <th>session_type</th>\n",
       "    </tr>\n",
       "  </thead>\n",
       "  <tbody>\n",
       "    <tr>\n",
       "      <th>0</th>\n",
       "      <td>0</td>\n",
       "      <td>2020-08-11 05:51:31</td>\n",
       "      <td>2020-08-11 05:54:45</td>\n",
       "      <td>539</td>\n",
       "      <td>streamer</td>\n",
       "    </tr>\n",
       "    <tr>\n",
       "      <th>1</th>\n",
       "      <td>2</td>\n",
       "      <td>2020-07-11 03:36:54</td>\n",
       "      <td>2020-07-11 03:37:08</td>\n",
       "      <td>840</td>\n",
       "      <td>streamer</td>\n",
       "    </tr>\n",
       "    <tr>\n",
       "      <th>2</th>\n",
       "      <td>3</td>\n",
       "      <td>2020-11-26 11:41:47</td>\n",
       "      <td>2020-11-26 11:52:01</td>\n",
       "      <td>848</td>\n",
       "      <td>streamer</td>\n",
       "    </tr>\n",
       "    <tr>\n",
       "      <th>3</th>\n",
       "      <td>1</td>\n",
       "      <td>2020-11-19 06:24:24</td>\n",
       "      <td>2020-11-19 07:24:38</td>\n",
       "      <td>515</td>\n",
       "      <td>viewer</td>\n",
       "    </tr>\n",
       "    <tr>\n",
       "      <th>4</th>\n",
       "      <td>2</td>\n",
       "      <td>2020-11-14 03:36:05</td>\n",
       "      <td>2020-11-14 03:39:19</td>\n",
       "      <td>646</td>\n",
       "      <td>viewer</td>\n",
       "    </tr>\n",
       "    <tr>\n",
       "      <th>5</th>\n",
       "      <td>4</td>\n",
       "      <td>2020-11-14 03:42:19</td>\n",
       "      <td>2020-11-14 03:45:19</td>\n",
       "      <td>101</td>\n",
       "      <td>viewer</td>\n",
       "    </tr>\n",
       "    <tr>\n",
       "      <th>6</th>\n",
       "      <td>5</td>\n",
       "      <td>2020-11-14 03:45:19</td>\n",
       "      <td>2020-11-14 03:48:19</td>\n",
       "      <td>102</td>\n",
       "      <td>streamer</td>\n",
       "    </tr>\n",
       "    <tr>\n",
       "      <th>7</th>\n",
       "      <td>6</td>\n",
       "      <td>2020-11-14 03:48:19</td>\n",
       "      <td>2020-11-14 03:51:19</td>\n",
       "      <td>103</td>\n",
       "      <td>streamer</td>\n",
       "    </tr>\n",
       "    <tr>\n",
       "      <th>8</th>\n",
       "      <td>7</td>\n",
       "      <td>2020-11-14 03:51:19</td>\n",
       "      <td>2020-11-14 03:54:19</td>\n",
       "      <td>104</td>\n",
       "      <td>viewer</td>\n",
       "    </tr>\n",
       "    <tr>\n",
       "      <th>9</th>\n",
       "      <td>8</td>\n",
       "      <td>2020-11-14 03:54:19</td>\n",
       "      <td>2020-11-14 03:57:19</td>\n",
       "      <td>105</td>\n",
       "      <td>streamer</td>\n",
       "    </tr>\n",
       "    <tr>\n",
       "      <th>10</th>\n",
       "      <td>9</td>\n",
       "      <td>2020-11-14 03:57:19</td>\n",
       "      <td>2020-11-14 04:00:19</td>\n",
       "      <td>106</td>\n",
       "      <td>viewer</td>\n",
       "    </tr>\n",
       "    <tr>\n",
       "      <th>11</th>\n",
       "      <td>10</td>\n",
       "      <td>2020-11-14 04:00:19</td>\n",
       "      <td>2020-11-14 04:03:19</td>\n",
       "      <td>107</td>\n",
       "      <td>viewer</td>\n",
       "    </tr>\n",
       "    <tr>\n",
       "      <th>12</th>\n",
       "      <td>11</td>\n",
       "      <td>2020-11-14 04:03:19</td>\n",
       "      <td>2020-11-14 04:06:19</td>\n",
       "      <td>108</td>\n",
       "      <td>streamer</td>\n",
       "    </tr>\n",
       "    <tr>\n",
       "      <th>13</th>\n",
       "      <td>12</td>\n",
       "      <td>2020-11-14 04:06:19</td>\n",
       "      <td>2020-11-14 04:09:19</td>\n",
       "      <td>109</td>\n",
       "      <td>viewer</td>\n",
       "    </tr>\n",
       "    <tr>\n",
       "      <th>14</th>\n",
       "      <td>13</td>\n",
       "      <td>2020-11-14 04:09:19</td>\n",
       "      <td>2020-11-14 04:12:19</td>\n",
       "      <td>110</td>\n",
       "      <td>streamer</td>\n",
       "    </tr>\n",
       "  </tbody>\n",
       "</table>\n",
       "</div>"
      ],
      "text/plain": [
       "    user_id        session_start          session_end  session_id session_type\n",
       "0         0  2020-08-11 05:51:31  2020-08-11 05:54:45         539     streamer\n",
       "1         2  2020-07-11 03:36:54  2020-07-11 03:37:08         840     streamer\n",
       "2         3  2020-11-26 11:41:47  2020-11-26 11:52:01         848     streamer\n",
       "3         1  2020-11-19 06:24:24  2020-11-19 07:24:38         515       viewer\n",
       "4         2  2020-11-14 03:36:05  2020-11-14 03:39:19         646       viewer\n",
       "5         4  2020-11-14 03:42:19  2020-11-14 03:45:19         101       viewer\n",
       "6         5  2020-11-14 03:45:19  2020-11-14 03:48:19         102     streamer\n",
       "7         6  2020-11-14 03:48:19  2020-11-14 03:51:19         103     streamer\n",
       "8         7  2020-11-14 03:51:19  2020-11-14 03:54:19         104       viewer\n",
       "9         8  2020-11-14 03:54:19  2020-11-14 03:57:19         105     streamer\n",
       "10        9  2020-11-14 03:57:19  2020-11-14 04:00:19         106       viewer\n",
       "11       10  2020-11-14 04:00:19  2020-11-14 04:03:19         107       viewer\n",
       "12       11  2020-11-14 04:03:19  2020-11-14 04:06:19         108     streamer\n",
       "13       12  2020-11-14 04:06:19  2020-11-14 04:09:19         109       viewer\n",
       "14       13  2020-11-14 04:09:19  2020-11-14 04:12:19         110     streamer"
      ]
     },
     "execution_count": 3,
     "metadata": {},
     "output_type": "execute_result"
    }
   ],
   "source": [
    "import datetime\n",
    "\n",
    "# Create lists with additional data\n",
    "additional_user_ids = [4, 5, 6, 7, 8, 9, 10, 11, 12, 13]\n",
    "additional_session_ids = [101, 102, 103, 104, 105, 106, 107, 108, 109, 110]\n",
    "additional_session_types = ['viewer', 'streamer', 'streamer', 'viewer', 'streamer', 'viewer', 'viewer', 'streamer', 'viewer', 'streamer']\n",
    "\n",
    "# Calculate time increments\n",
    "start_time = datetime.datetime.strptime('2020-11-14 03:39:19', '%Y-%m-%d %H:%M:%S')\n",
    "session_duration = datetime.timedelta(minutes=3)  # Assuming each session lasts 3 minutes\n",
    "additional_session_start = [start_time + i*session_duration for i in range(1, 11)]\n",
    "additional_session_end = [start_time + (i+1)*session_duration for i in range(1, 11)]\n",
    "\n",
    "# Format times back to string\n",
    "additional_session_start = [time.strftime('%Y-%m-%d %H:%M:%S') for time in additional_session_start]\n",
    "additional_session_end = [time.strftime('%Y-%m-%d %H:%M:%S') for time in additional_session_end]\n",
    "\n",
    "# Add the additional data to the existing dictionary\n",
    "data['user_id'].extend(additional_user_ids)\n",
    "data['session_start'].extend(additional_session_start)\n",
    "data['session_end'].extend(additional_session_end)\n",
    "data['session_id'].extend(additional_session_ids)\n",
    "data['session_type'].extend(additional_session_types)\n",
    "\n",
    "# Create the updated DataFrame\n",
    "df = pd.DataFrame(data)\n",
    "\n",
    "df\n"
   ]
  },
  {
   "cell_type": "code",
   "execution_count": 4,
   "id": "f94f1240",
   "metadata": {},
   "outputs": [],
   "source": [
    "# Find users who are both a viewer and streamer."
   ]
  },
  {
   "cell_type": "code",
   "execution_count": null,
   "id": "9e15ef0a",
   "metadata": {},
   "outputs": [],
   "source": [
    "(df['session_type'] == 'streamer').sum() #BEST\n",
    "len(df[df['session_type'] == 'streamer'])\n",
    "df['session_type'].value_counts()['streamer']"
   ]
  },
  {
   "cell_type": "code",
   "execution_count": null,
   "id": "623205b2",
   "metadata": {},
   "outputs": [],
   "source": []
  },
  {
   "cell_type": "code",
   "execution_count": 60,
   "id": "c1b4f944",
   "metadata": {},
   "outputs": [
    {
     "data": {
      "text/html": [
       "<div>\n",
       "<style scoped>\n",
       "    .dataframe tbody tr th:only-of-type {\n",
       "        vertical-align: middle;\n",
       "    }\n",
       "\n",
       "    .dataframe tbody tr th {\n",
       "        vertical-align: top;\n",
       "    }\n",
       "\n",
       "    .dataframe thead th {\n",
       "        text-align: right;\n",
       "    }\n",
       "</style>\n",
       "<table border=\"1\" class=\"dataframe\">\n",
       "  <thead>\n",
       "    <tr style=\"text-align: right;\">\n",
       "      <th></th>\n",
       "      <th>user_id</th>\n",
       "      <th>session_start</th>\n",
       "      <th>session_end</th>\n",
       "      <th>session_id</th>\n",
       "      <th>session_type</th>\n",
       "    </tr>\n",
       "  </thead>\n",
       "  <tbody>\n",
       "    <tr>\n",
       "      <th>0</th>\n",
       "      <td>0</td>\n",
       "      <td>2020-08-11 05:51:31</td>\n",
       "      <td>2020-08-11 05:54:45</td>\n",
       "      <td>539</td>\n",
       "      <td>streamer</td>\n",
       "    </tr>\n",
       "    <tr>\n",
       "      <th>1</th>\n",
       "      <td>2</td>\n",
       "      <td>2020-07-11 03:36:54</td>\n",
       "      <td>2020-07-11 03:37:08</td>\n",
       "      <td>840</td>\n",
       "      <td>streamer</td>\n",
       "    </tr>\n",
       "    <tr>\n",
       "      <th>2</th>\n",
       "      <td>3</td>\n",
       "      <td>2020-11-26 11:41:47</td>\n",
       "      <td>2020-11-26 11:52:01</td>\n",
       "      <td>848</td>\n",
       "      <td>streamer</td>\n",
       "    </tr>\n",
       "    <tr>\n",
       "      <th>3</th>\n",
       "      <td>1</td>\n",
       "      <td>2020-11-19 06:24:24</td>\n",
       "      <td>2020-11-19 07:24:38</td>\n",
       "      <td>515</td>\n",
       "      <td>viewer</td>\n",
       "    </tr>\n",
       "    <tr>\n",
       "      <th>4</th>\n",
       "      <td>2</td>\n",
       "      <td>2020-11-14 03:36:05</td>\n",
       "      <td>2020-11-14 03:39:19</td>\n",
       "      <td>646</td>\n",
       "      <td>viewer</td>\n",
       "    </tr>\n",
       "  </tbody>\n",
       "</table>\n",
       "</div>"
      ],
      "text/plain": [
       "   user_id        session_start          session_end  session_id session_type\n",
       "0        0  2020-08-11 05:51:31  2020-08-11 05:54:45         539     streamer\n",
       "1        2  2020-07-11 03:36:54  2020-07-11 03:37:08         840     streamer\n",
       "2        3  2020-11-26 11:41:47  2020-11-26 11:52:01         848     streamer\n",
       "3        1  2020-11-19 06:24:24  2020-11-19 07:24:38         515       viewer\n",
       "4        2  2020-11-14 03:36:05  2020-11-14 03:39:19         646       viewer"
      ]
     },
     "execution_count": 60,
     "metadata": {},
     "output_type": "execute_result"
    }
   ],
   "source": [
    "df.head()"
   ]
  },
  {
   "cell_type": "code",
   "execution_count": 64,
   "id": "947e6931",
   "metadata": {},
   "outputs": [],
   "source": [
    "# 1. How many unique users are there in this DataFrame?"
   ]
  },
  {
   "cell_type": "code",
   "execution_count": 65,
   "id": "ef665aaa",
   "metadata": {},
   "outputs": [
    {
     "data": {
      "text/plain": [
       "14"
      ]
     },
     "execution_count": 65,
     "metadata": {},
     "output_type": "execute_result"
    }
   ],
   "source": [
    "df.user_id.nunique()"
   ]
  },
  {
   "cell_type": "code",
   "execution_count": 67,
   "id": "fe6ffd3f",
   "metadata": {},
   "outputs": [],
   "source": [
    "# How many sessions have a type of 'streamer'?"
   ]
  },
  {
   "cell_type": "code",
   "execution_count": 75,
   "id": "a316e98a",
   "metadata": {},
   "outputs": [
    {
     "data": {
      "text/plain": [
       "8"
      ]
     },
     "execution_count": 75,
     "metadata": {},
     "output_type": "execute_result"
    }
   ],
   "source": [
    "len(df[df['session_type'] == 'streamer'])"
   ]
  },
  {
   "cell_type": "code",
   "execution_count": 77,
   "id": "dded9567",
   "metadata": {},
   "outputs": [
    {
     "data": {
      "text/plain": [
       "8"
      ]
     },
     "execution_count": 77,
     "metadata": {},
     "output_type": "execute_result"
    }
   ],
   "source": [
    "df['session_type'].value_counts()['streamer']"
   ]
  },
  {
   "cell_type": "code",
   "execution_count": 78,
   "id": "dd30111a",
   "metadata": {},
   "outputs": [
    {
     "data": {
      "text/plain": [
       "8"
      ]
     },
     "execution_count": 78,
     "metadata": {},
     "output_type": "execute_result"
    }
   ],
   "source": []
  },
  {
   "cell_type": "code",
   "execution_count": null,
   "id": "fa72058f",
   "metadata": {},
   "outputs": [],
   "source": []
  }
 ],
 "metadata": {
  "kernelspec": {
   "display_name": "Python 3",
   "language": "python",
   "name": "python3"
  },
  "language_info": {
   "codemirror_mode": {
    "name": "ipython",
    "version": 3
   },
   "file_extension": ".py",
   "mimetype": "text/x-python",
   "name": "python",
   "nbconvert_exporter": "python",
   "pygments_lexer": "ipython3",
   "version": "3.8.3"
  }
 },
 "nbformat": 4,
 "nbformat_minor": 5
}
