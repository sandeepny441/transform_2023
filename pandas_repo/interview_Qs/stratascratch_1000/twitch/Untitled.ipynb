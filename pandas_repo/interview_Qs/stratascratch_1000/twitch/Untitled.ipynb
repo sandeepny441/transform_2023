{
 "cells": [
  {
   "cell_type": "code",
   "execution_count": 2,
   "id": "355fcd61",
   "metadata": {},
   "outputs": [
    {
     "data": {
      "text/html": [
       "<div>\n",
       "<style scoped>\n",
       "    .dataframe tbody tr th:only-of-type {\n",
       "        vertical-align: middle;\n",
       "    }\n",
       "\n",
       "    .dataframe tbody tr th {\n",
       "        vertical-align: top;\n",
       "    }\n",
       "\n",
       "    .dataframe thead th {\n",
       "        text-align: right;\n",
       "    }\n",
       "</style>\n",
       "<table border=\"1\" class=\"dataframe\">\n",
       "  <thead>\n",
       "    <tr style=\"text-align: right;\">\n",
       "      <th></th>\n",
       "      <th>user_id</th>\n",
       "      <th>session_start</th>\n",
       "      <th>session_end</th>\n",
       "      <th>session_id</th>\n",
       "      <th>session_type</th>\n",
       "    </tr>\n",
       "  </thead>\n",
       "  <tbody>\n",
       "    <tr>\n",
       "      <th>0</th>\n",
       "      <td>0</td>\n",
       "      <td>2020-08-11 05:51:31</td>\n",
       "      <td>2020-08-11 05:54:45</td>\n",
       "      <td>539</td>\n",
       "      <td>streamer</td>\n",
       "    </tr>\n",
       "    <tr>\n",
       "      <th>1</th>\n",
       "      <td>2</td>\n",
       "      <td>2020-07-11 03:36:54</td>\n",
       "      <td>2020-07-11 03:37:08</td>\n",
       "      <td>840</td>\n",
       "      <td>streamer</td>\n",
       "    </tr>\n",
       "    <tr>\n",
       "      <th>2</th>\n",
       "      <td>3</td>\n",
       "      <td>2020-11-26 11:41:47</td>\n",
       "      <td>2020-11-26 11:52:01</td>\n",
       "      <td>848</td>\n",
       "      <td>streamer</td>\n",
       "    </tr>\n",
       "    <tr>\n",
       "      <th>3</th>\n",
       "      <td>1</td>\n",
       "      <td>2020-11-19 06:24:24</td>\n",
       "      <td>2020-11-19 07:24:38</td>\n",
       "      <td>515</td>\n",
       "      <td>viewer</td>\n",
       "    </tr>\n",
       "    <tr>\n",
       "      <th>4</th>\n",
       "      <td>2</td>\n",
       "      <td>2020-11-14 03:36:05</td>\n",
       "      <td>2020-11-14 03:39:19</td>\n",
       "      <td>646</td>\n",
       "      <td>viewer</td>\n",
       "    </tr>\n",
       "  </tbody>\n",
       "</table>\n",
       "</div>"
      ],
      "text/plain": [
       "   user_id        session_start          session_end  session_id session_type\n",
       "0        0  2020-08-11 05:51:31  2020-08-11 05:54:45         539     streamer\n",
       "1        2  2020-07-11 03:36:54  2020-07-11 03:37:08         840     streamer\n",
       "2        3  2020-11-26 11:41:47  2020-11-26 11:52:01         848     streamer\n",
       "3        1  2020-11-19 06:24:24  2020-11-19 07:24:38         515       viewer\n",
       "4        2  2020-11-14 03:36:05  2020-11-14 03:39:19         646       viewer"
      ]
     },
     "execution_count": 2,
     "metadata": {},
     "output_type": "execute_result"
    }
   ],
   "source": [
    "import pandas as pd\n",
    "\n",
    "# Create a dictionary with the data\n",
    "data = {\n",
    "    'user_id': [0, 2, 3, 1, 2],\n",
    "    'session_start': ['2020-08-11 05:51:31', '2020-07-11 03:36:54', '2020-11-26 11:41:47', '2020-11-19 06:24:24', '2020-11-14 03:36:05'],\n",
    "    'session_end': ['2020-08-11 05:54:45', '2020-07-11 03:37:08', '2020-11-26 11:52:01', '2020-11-19 07:24:38', '2020-11-14 03:39:19'],\n",
    "    'session_id': [539, 840, 848, 515, 646],\n",
    "    'session_type': ['streamer', 'streamer', 'streamer', 'viewer', 'viewer']\n",
    "}\n",
    "\n",
    "# Create the DataFrame\n",
    "df = pd.DataFrame(data)\n",
    "\n",
    "# Print the DataFrame\n",
    "df\n"
   ]
  },
  {
   "cell_type": "code",
   "execution_count": null,
   "id": "86ef22ed",
   "metadata": {},
   "outputs": [],
   "source": []
  }
 ],
 "metadata": {
  "kernelspec": {
   "display_name": "Python 3",
   "language": "python",
   "name": "python3"
  },
  "language_info": {
   "codemirror_mode": {
    "name": "ipython",
    "version": 3
   },
   "file_extension": ".py",
   "mimetype": "text/x-python",
   "name": "python",
   "nbconvert_exporter": "python",
   "pygments_lexer": "ipython3",
   "version": "3.8.3"
  }
 },
 "nbformat": 4,
 "nbformat_minor": 5
}
