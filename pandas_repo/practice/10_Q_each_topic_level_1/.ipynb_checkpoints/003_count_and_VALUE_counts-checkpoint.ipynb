{
 "cells": [
  {
   "cell_type": "code",
   "execution_count": 2,
   "id": "2e8edc76",
   "metadata": {},
   "outputs": [],
   "source": [
    "import warnings\n",
    "warnings.filterwarnings('ignore')\n",
    "\n",
    "import numpy as np\n",
    "import pandas as pd\n",
    "\n"
   ]
  },
  {
   "cell_type": "code",
   "execution_count": 3,
   "id": "968f2644",
   "metadata": {},
   "outputs": [
    {
     "data": {
      "text/html": [
       "<div>\n",
       "<style scoped>\n",
       "    .dataframe tbody tr th:only-of-type {\n",
       "        vertical-align: middle;\n",
       "    }\n",
       "\n",
       "    .dataframe tbody tr th {\n",
       "        vertical-align: top;\n",
       "    }\n",
       "\n",
       "    .dataframe thead th {\n",
       "        text-align: right;\n",
       "    }\n",
       "</style>\n",
       "<table border=\"1\" class=\"dataframe\">\n",
       "  <thead>\n",
       "    <tr style=\"text-align: right;\">\n",
       "      <th></th>\n",
       "      <th>worker_id</th>\n",
       "      <th>first_name</th>\n",
       "      <th>last_name</th>\n",
       "      <th>salary</th>\n",
       "      <th>joining_date</th>\n",
       "      <th>department</th>\n",
       "    </tr>\n",
       "  </thead>\n",
       "  <tbody>\n",
       "    <tr>\n",
       "      <th>0</th>\n",
       "      <td>1</td>\n",
       "      <td>Monika</td>\n",
       "      <td>Arora</td>\n",
       "      <td>100000</td>\n",
       "      <td>2014-02-20 00:00:00</td>\n",
       "      <td>HR</td>\n",
       "    </tr>\n",
       "    <tr>\n",
       "      <th>1</th>\n",
       "      <td>2</td>\n",
       "      <td>Niharika</td>\n",
       "      <td>Verma</td>\n",
       "      <td>80000</td>\n",
       "      <td>2014-06-11 00:00:00</td>\n",
       "      <td>Admin</td>\n",
       "    </tr>\n",
       "    <tr>\n",
       "      <th>2</th>\n",
       "      <td>3</td>\n",
       "      <td>Vishal</td>\n",
       "      <td>Singhal</td>\n",
       "      <td>300000</td>\n",
       "      <td>2014-02-20 00:00:00</td>\n",
       "      <td>HR</td>\n",
       "    </tr>\n",
       "    <tr>\n",
       "      <th>3</th>\n",
       "      <td>4</td>\n",
       "      <td>Amitah</td>\n",
       "      <td>Singh</td>\n",
       "      <td>500000</td>\n",
       "      <td>2014-02-20 00:00:00</td>\n",
       "      <td>Admin</td>\n",
       "    </tr>\n",
       "    <tr>\n",
       "      <th>4</th>\n",
       "      <td>5</td>\n",
       "      <td>Vivek</td>\n",
       "      <td>Bhati</td>\n",
       "      <td>500000</td>\n",
       "      <td>2014-06-11 00:00:00</td>\n",
       "      <td>Admin</td>\n",
       "    </tr>\n",
       "  </tbody>\n",
       "</table>\n",
       "</div>"
      ],
      "text/plain": [
       "   worker_id first_name last_name  salary         joining_date department\n",
       "0          1     Monika     Arora  100000  2014-02-20 00:00:00         HR\n",
       "1          2   Niharika     Verma   80000  2014-06-11 00:00:00      Admin\n",
       "2          3     Vishal   Singhal  300000  2014-02-20 00:00:00         HR\n",
       "3          4     Amitah     Singh  500000  2014-02-20 00:00:00      Admin\n",
       "4          5      Vivek     Bhati  500000  2014-06-11 00:00:00      Admin"
      ]
     },
     "execution_count": 3,
     "metadata": {},
     "output_type": "execute_result"
    }
   ],
   "source": [
    "data = {\n",
    "    'worker_id': [1, 2, 3, 4, 5],\n",
    "    'first_name': ['Monika', 'Niharika', 'Vishal', 'Amitah', 'Vivek'],\n",
    "    'last_name': ['Arora', 'Verma', 'Singhal', 'Singh', 'Bhati'],\n",
    "    'salary': [100000, 80000, 300000, 500000, 500000],\n",
    "    'joining_date': ['2014-02-20 00:00:00', '2014-06-11 00:00:00', '2014-02-20 00:00:00', '2014-02-20 00:00:00', '2014-06-11 00:00:00'],\n",
    "    'department': ['HR', 'Admin', 'HR', 'Admin', 'Admin']\n",
    "}\n",
    "\n",
    "df = pd.DataFrame(data)\n",
    "df"
   ]
  },
  {
   "cell_type": "code",
   "execution_count": 18,
   "id": "5db28430",
   "metadata": {},
   "outputs": [],
   "source": [
    "# observations\n",
    "\n",
    "# idmin \n",
    "# count will give the counbt of ONLY non-null values\n",
    "# sum will give the count of null and non-null values"
   ]
  },
  {
   "cell_type": "code",
   "execution_count": 4,
   "id": "ce5d268c",
   "metadata": {},
   "outputs": [],
   "source": [
    "#10 COUNT Questions\n",
    "\n",
    "# How many non-null values are there in the salary column?\n",
    "# Across all columns, which column has the least non-null values?\n",
    "# Using the count method, how many non-null entries are there in each of the columns in the DataFrame?\n",
    "# In the department column, how many non-null entries are present?\n",
    "# By grouping by the department, how many non-null first_name entries are there for each department?\n",
    "# Group by joining_date and count how many workers joined on each distinct date.\n",
    "# How many workers have non-null last_name entries in the DataFrame?\n",
    "# By filtering the DataFrame for salary above 200000, how many non-null worker_id entries are present in the filtered data?\n",
    "# By grouping by both department and joining_date, how many non-null salary entries are there for each combination?\n",
    "# In the df, excluding the worker_id column, which columns have exactly 5 non-null values?\n",
    "\n"
   ]
  },
  {
   "cell_type": "code",
   "execution_count": 6,
   "id": "f99fc739",
   "metadata": {},
   "outputs": [
    {
     "data": {
      "text/html": [
       "<div>\n",
       "<style scoped>\n",
       "    .dataframe tbody tr th:only-of-type {\n",
       "        vertical-align: middle;\n",
       "    }\n",
       "\n",
       "    .dataframe tbody tr th {\n",
       "        vertical-align: top;\n",
       "    }\n",
       "\n",
       "    .dataframe thead th {\n",
       "        text-align: right;\n",
       "    }\n",
       "</style>\n",
       "<table border=\"1\" class=\"dataframe\">\n",
       "  <thead>\n",
       "    <tr style=\"text-align: right;\">\n",
       "      <th></th>\n",
       "      <th>worker_id</th>\n",
       "      <th>first_name</th>\n",
       "      <th>last_name</th>\n",
       "      <th>salary</th>\n",
       "      <th>joining_date</th>\n",
       "      <th>department</th>\n",
       "    </tr>\n",
       "  </thead>\n",
       "  <tbody>\n",
       "    <tr>\n",
       "      <th>0</th>\n",
       "      <td>1</td>\n",
       "      <td>Monika</td>\n",
       "      <td>Arora</td>\n",
       "      <td>100000</td>\n",
       "      <td>2014-02-20 00:00:00</td>\n",
       "      <td>HR</td>\n",
       "    </tr>\n",
       "    <tr>\n",
       "      <th>1</th>\n",
       "      <td>2</td>\n",
       "      <td>Niharika</td>\n",
       "      <td>Verma</td>\n",
       "      <td>80000</td>\n",
       "      <td>2014-06-11 00:00:00</td>\n",
       "      <td>Admin</td>\n",
       "    </tr>\n",
       "    <tr>\n",
       "      <th>2</th>\n",
       "      <td>3</td>\n",
       "      <td>Vishal</td>\n",
       "      <td>Singhal</td>\n",
       "      <td>300000</td>\n",
       "      <td>2014-02-20 00:00:00</td>\n",
       "      <td>HR</td>\n",
       "    </tr>\n",
       "    <tr>\n",
       "      <th>3</th>\n",
       "      <td>4</td>\n",
       "      <td>Amitah</td>\n",
       "      <td>Singh</td>\n",
       "      <td>500000</td>\n",
       "      <td>2014-02-20 00:00:00</td>\n",
       "      <td>Admin</td>\n",
       "    </tr>\n",
       "    <tr>\n",
       "      <th>4</th>\n",
       "      <td>5</td>\n",
       "      <td>Vivek</td>\n",
       "      <td>Bhati</td>\n",
       "      <td>500000</td>\n",
       "      <td>2014-06-11 00:00:00</td>\n",
       "      <td>Admin</td>\n",
       "    </tr>\n",
       "  </tbody>\n",
       "</table>\n",
       "</div>"
      ],
      "text/plain": [
       "   worker_id first_name last_name  salary         joining_date department\n",
       "0          1     Monika     Arora  100000  2014-02-20 00:00:00         HR\n",
       "1          2   Niharika     Verma   80000  2014-06-11 00:00:00      Admin\n",
       "2          3     Vishal   Singhal  300000  2014-02-20 00:00:00         HR\n",
       "3          4     Amitah     Singh  500000  2014-02-20 00:00:00      Admin\n",
       "4          5      Vivek     Bhati  500000  2014-06-11 00:00:00      Admin"
      ]
     },
     "execution_count": 6,
     "metadata": {},
     "output_type": "execute_result"
    }
   ],
   "source": [
    "#10 VALUE_COUNTS() Questions\n",
    "\n",
    "# Question #1: Which first_name appears the most in the dataset?\n",
    "\n",
    "# Question #2: How many unique department names are there in the dataset and what are their counts?\n",
    "\n",
    "# Question #3: Which joining_date is the most common among the workers?\n",
    "\n",
    "# Question #4: Are there any last_name values that appear more than once? If so, which ones?\n",
    "\n",
    "# Question #5: Using value_counts(), determine how many workers have salaries equal to 500000.\n",
    "\n",
    "# Question #6: Which salary amount appears the least frequently in the dataset?\n",
    "\n",
    "# Question #7: Use value_counts() to determine the number of workers in each department and sort the output by the department names.\n",
    "\n",
    "# Question #8: How many workers have the same first_name and last_name combinations? Use value_counts() on multiple columns to determine this.\n",
    "\n",
    "# Question #9: Can you display the frequency of each unique salary value in descending order?\n",
    "\n",
    "# Question #10: Using value_counts(), how many workers joined on each unique date? Display the results in ascending order based on counts.\n"
   ]
  },
  {
   "cell_type": "code",
   "execution_count": 9,
   "id": "27af9bb8",
   "metadata": {},
   "outputs": [
    {
     "data": {
      "text/plain": [
       "5"
      ]
     },
     "execution_count": 9,
     "metadata": {},
     "output_type": "execute_result"
    }
   ],
   "source": [
    "#1\n",
    "df['salary'].count()"
   ]
  },
  {
   "cell_type": "code",
   "execution_count": 15,
   "id": "3275c0f8",
   "metadata": {},
   "outputs": [
    {
     "data": {
      "text/plain": [
       "worker_id       5\n",
       "first_name      5\n",
       "last_name       5\n",
       "salary          5\n",
       "joining_date    5\n",
       "department      5\n",
       "dtype: int64"
      ]
     },
     "execution_count": 15,
     "metadata": {},
     "output_type": "execute_result"
    }
   ],
   "source": [
    "#2 \n",
    "# Across all columns, which column has the least non-null values?\n",
    "df.count()"
   ]
  },
  {
   "cell_type": "code",
   "execution_count": 17,
   "id": "8163f368",
   "metadata": {},
   "outputs": [
    {
     "data": {
      "text/plain": [
       "'worker_id'"
      ]
     },
     "execution_count": 17,
     "metadata": {},
     "output_type": "execute_result"
    }
   ],
   "source": [
    "df.count().idxmin()"
   ]
  },
  {
   "cell_type": "code",
   "execution_count": 19,
   "id": "576f85cd",
   "metadata": {},
   "outputs": [
    {
     "data": {
      "text/html": [
       "<div>\n",
       "<style scoped>\n",
       "    .dataframe tbody tr th:only-of-type {\n",
       "        vertical-align: middle;\n",
       "    }\n",
       "\n",
       "    .dataframe tbody tr th {\n",
       "        vertical-align: top;\n",
       "    }\n",
       "\n",
       "    .dataframe thead th {\n",
       "        text-align: right;\n",
       "    }\n",
       "</style>\n",
       "<table border=\"1\" class=\"dataframe\">\n",
       "  <thead>\n",
       "    <tr style=\"text-align: right;\">\n",
       "      <th></th>\n",
       "      <th>worker_id</th>\n",
       "      <th>first_name</th>\n",
       "      <th>last_name</th>\n",
       "      <th>salary</th>\n",
       "      <th>joining_date</th>\n",
       "      <th>department</th>\n",
       "    </tr>\n",
       "  </thead>\n",
       "  <tbody>\n",
       "    <tr>\n",
       "      <th>0</th>\n",
       "      <td>1</td>\n",
       "      <td>Monika</td>\n",
       "      <td>Arora</td>\n",
       "      <td>100000</td>\n",
       "      <td>2014-02-20 00:00:00</td>\n",
       "      <td>HR</td>\n",
       "    </tr>\n",
       "    <tr>\n",
       "      <th>1</th>\n",
       "      <td>2</td>\n",
       "      <td>Niharika</td>\n",
       "      <td>Verma</td>\n",
       "      <td>80000</td>\n",
       "      <td>2014-06-11 00:00:00</td>\n",
       "      <td>Admin</td>\n",
       "    </tr>\n",
       "    <tr>\n",
       "      <th>2</th>\n",
       "      <td>3</td>\n",
       "      <td>Vishal</td>\n",
       "      <td>Singhal</td>\n",
       "      <td>300000</td>\n",
       "      <td>2014-02-20 00:00:00</td>\n",
       "      <td>HR</td>\n",
       "    </tr>\n",
       "    <tr>\n",
       "      <th>3</th>\n",
       "      <td>4</td>\n",
       "      <td>Amitah</td>\n",
       "      <td>Singh</td>\n",
       "      <td>500000</td>\n",
       "      <td>2014-02-20 00:00:00</td>\n",
       "      <td>Admin</td>\n",
       "    </tr>\n",
       "    <tr>\n",
       "      <th>4</th>\n",
       "      <td>5</td>\n",
       "      <td>Vivek</td>\n",
       "      <td>Bhati</td>\n",
       "      <td>500000</td>\n",
       "      <td>2014-06-11 00:00:00</td>\n",
       "      <td>Admin</td>\n",
       "    </tr>\n",
       "  </tbody>\n",
       "</table>\n",
       "</div>"
      ],
      "text/plain": [
       "   worker_id first_name last_name  salary         joining_date department\n",
       "0          1     Monika     Arora  100000  2014-02-20 00:00:00         HR\n",
       "1          2   Niharika     Verma   80000  2014-06-11 00:00:00      Admin\n",
       "2          3     Vishal   Singhal  300000  2014-02-20 00:00:00         HR\n",
       "3          4     Amitah     Singh  500000  2014-02-20 00:00:00      Admin\n",
       "4          5      Vivek     Bhati  500000  2014-06-11 00:00:00      Admin"
      ]
     },
     "execution_count": 19,
     "metadata": {},
     "output_type": "execute_result"
    }
   ],
   "source": [
    "df"
   ]
  },
  {
   "cell_type": "code",
   "execution_count": 20,
   "id": "7e58d8de",
   "metadata": {},
   "outputs": [
    {
     "data": {
      "text/plain": [
       "5"
      ]
     },
     "execution_count": 20,
     "metadata": {},
     "output_type": "execute_result"
    }
   ],
   "source": [
    "df['department'].count()"
   ]
  },
  {
   "cell_type": "code",
   "execution_count": 21,
   "id": "6c998db6",
   "metadata": {},
   "outputs": [
    {
     "data": {
      "text/plain": [
       "4"
      ]
     },
     "execution_count": 21,
     "metadata": {},
     "output_type": "execute_result"
    }
   ],
   "source": [
    "df['salary'].nunique()"
   ]
  },
  {
   "cell_type": "code",
   "execution_count": 22,
   "id": "e6df09ae",
   "metadata": {},
   "outputs": [
    {
     "data": {
      "text/plain": [
       "5"
      ]
     },
     "execution_count": 22,
     "metadata": {},
     "output_type": "execute_result"
    }
   ],
   "source": [
    "df['joining_date'].count()"
   ]
  },
  {
   "cell_type": "code",
   "execution_count": 23,
   "id": "d57ae7cf",
   "metadata": {},
   "outputs": [
    {
     "data": {
      "text/plain": [
       "5"
      ]
     },
     "execution_count": 23,
     "metadata": {},
     "output_type": "execute_result"
    }
   ],
   "source": [
    "df['last_name'].count()"
   ]
  },
  {
   "cell_type": "code",
   "execution_count": 24,
   "id": "29dc93d1",
   "metadata": {},
   "outputs": [
    {
     "data": {
      "text/plain": [
       "5"
      ]
     },
     "execution_count": 24,
     "metadata": {},
     "output_type": "execute_result"
    }
   ],
   "source": [
    "df['first_name'].count()"
   ]
  },
  {
   "cell_type": "code",
   "execution_count": 26,
   "id": "175cb006",
   "metadata": {},
   "outputs": [
    {
     "data": {
      "text/plain": [
       "'Monika'"
      ]
     },
     "execution_count": 26,
     "metadata": {},
     "output_type": "execute_result"
    }
   ],
   "source": [
    "df.first_name.value_counts().idxmax()"
   ]
  },
  {
   "cell_type": "code",
   "execution_count": 27,
   "id": "ca0411cb",
   "metadata": {},
   "outputs": [],
   "source": []
  },
  {
   "cell_type": "code",
   "execution_count": null,
   "id": "7669168f",
   "metadata": {},
   "outputs": [],
   "source": []
  }
 ],
 "metadata": {
  "kernelspec": {
   "display_name": "Python 3",
   "language": "python",
   "name": "python3"
  },
  "language_info": {
   "codemirror_mode": {
    "name": "ipython",
    "version": 3
   },
   "file_extension": ".py",
   "mimetype": "text/x-python",
   "name": "python",
   "nbconvert_exporter": "python",
   "pygments_lexer": "ipython3",
   "version": "3.8.3"
  }
 },
 "nbformat": 4,
 "nbformat_minor": 5
}
