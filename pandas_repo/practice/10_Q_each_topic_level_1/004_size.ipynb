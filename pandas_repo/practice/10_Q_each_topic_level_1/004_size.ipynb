{
 "cells": [
  {
   "cell_type": "code",
   "execution_count": 2,
   "id": "de6a07f1",
   "metadata": {},
   "outputs": [],
   "source": [
    "import warnings\n",
    "warnings.filterwarnings('ignore')\n",
    "\n",
    "import numpy as np\n",
    "import pandas as pd\n",
    "\n"
   ]
  },
  {
   "cell_type": "code",
   "execution_count": 30,
   "id": "b8f680f3",
   "metadata": {},
   "outputs": [],
   "source": [
    "# observations:\n",
    "    \n",
    "# remeber size vs shape differences"
   ]
  },
  {
   "cell_type": "code",
   "execution_count": 5,
   "id": "1a52ddaf",
   "metadata": {},
   "outputs": [
    {
     "data": {
      "text/html": [
       "<div>\n",
       "<style scoped>\n",
       "    .dataframe tbody tr th:only-of-type {\n",
       "        vertical-align: middle;\n",
       "    }\n",
       "\n",
       "    .dataframe tbody tr th {\n",
       "        vertical-align: top;\n",
       "    }\n",
       "\n",
       "    .dataframe thead th {\n",
       "        text-align: right;\n",
       "    }\n",
       "</style>\n",
       "<table border=\"1\" class=\"dataframe\">\n",
       "  <thead>\n",
       "    <tr style=\"text-align: right;\">\n",
       "      <th></th>\n",
       "      <th>Name</th>\n",
       "      <th>Neighborhood</th>\n",
       "      <th>Revenue</th>\n",
       "    </tr>\n",
       "  </thead>\n",
       "  <tbody>\n",
       "    <tr>\n",
       "      <th>0</th>\n",
       "      <td>Peets Coffee</td>\n",
       "      <td>Downtown</td>\n",
       "      <td>25000</td>\n",
       "    </tr>\n",
       "    <tr>\n",
       "      <th>1</th>\n",
       "      <td>Starbucks</td>\n",
       "      <td>Hollywood</td>\n",
       "      <td>30000</td>\n",
       "    </tr>\n",
       "    <tr>\n",
       "      <th>2</th>\n",
       "      <td>Blue Bottle</td>\n",
       "      <td>Silver Lake</td>\n",
       "      <td>20000</td>\n",
       "    </tr>\n",
       "    <tr>\n",
       "      <th>3</th>\n",
       "      <td>Verve</td>\n",
       "      <td>Santa Monica</td>\n",
       "      <td>28000</td>\n",
       "    </tr>\n",
       "    <tr>\n",
       "      <th>4</th>\n",
       "      <td>Dinosaur Coffee</td>\n",
       "      <td>Los Feliz</td>\n",
       "      <td>18000</td>\n",
       "    </tr>\n",
       "  </tbody>\n",
       "</table>\n",
       "</div>"
      ],
      "text/plain": [
       "              Name  Neighborhood  Revenue\n",
       "0     Peets Coffee      Downtown    25000\n",
       "1        Starbucks     Hollywood    30000\n",
       "2      Blue Bottle   Silver Lake    20000\n",
       "3            Verve  Santa Monica    28000\n",
       "4  Dinosaur Coffee     Los Feliz    18000"
      ]
     },
     "execution_count": 5,
     "metadata": {},
     "output_type": "execute_result"
    }
   ],
   "source": [
    "import pandas as pd\n",
    "\n",
    "data = {'Name': ['Peets Coffee', 'Starbucks', 'Blue Bottle', 'Verve', \"Dinosaur Coffee\"],\n",
    "        'Neighborhood': ['Downtown', 'Hollywood', 'Silver Lake', 'Santa Monica', 'Los Feliz'], \n",
    "        'Revenue': [25000, 30000, 20000, 28000, 18000]}\n",
    "\n",
    "df = pd.DataFrame(data)\n",
    "df"
   ]
  },
  {
   "cell_type": "code",
   "execution_count": 6,
   "id": "a8ed5c9e",
   "metadata": {},
   "outputs": [],
   "source": [
    "# How many rows are in the DataFrame?\n",
    "# How many columns are in the DataFrame?\n",
    "# What is the size of the Name column?\n",
    "# What is the size of the Neighborhood and Revenue columns combined?\n",
    "# How many unique Neighborhood values are there?\n",
    "# How many coffee shops have revenue above 25000?\n",
    "# What is the size of df if filtered for only Downtown and Hollywood?\n",
    "# How many rows are left if filtered for Revenue above 30000?\n",
    "# What is size after dropping duplicates of Neighborhood?\n",
    "# How many elements in the transposed DataFrame?"
   ]
  },
  {
   "cell_type": "code",
   "execution_count": 13,
   "id": "c3582a61",
   "metadata": {},
   "outputs": [
    {
     "data": {
      "text/html": [
       "<div>\n",
       "<style scoped>\n",
       "    .dataframe tbody tr th:only-of-type {\n",
       "        vertical-align: middle;\n",
       "    }\n",
       "\n",
       "    .dataframe tbody tr th {\n",
       "        vertical-align: top;\n",
       "    }\n",
       "\n",
       "    .dataframe thead th {\n",
       "        text-align: right;\n",
       "    }\n",
       "</style>\n",
       "<table border=\"1\" class=\"dataframe\">\n",
       "  <thead>\n",
       "    <tr style=\"text-align: right;\">\n",
       "      <th></th>\n",
       "      <th>Name</th>\n",
       "      <th>Neighborhood</th>\n",
       "      <th>Revenue</th>\n",
       "    </tr>\n",
       "  </thead>\n",
       "  <tbody>\n",
       "    <tr>\n",
       "      <th>0</th>\n",
       "      <td>Peets Coffee</td>\n",
       "      <td>Downtown</td>\n",
       "      <td>25000</td>\n",
       "    </tr>\n",
       "    <tr>\n",
       "      <th>1</th>\n",
       "      <td>Starbucks</td>\n",
       "      <td>Hollywood</td>\n",
       "      <td>30000</td>\n",
       "    </tr>\n",
       "    <tr>\n",
       "      <th>2</th>\n",
       "      <td>Blue Bottle</td>\n",
       "      <td>Silver Lake</td>\n",
       "      <td>20000</td>\n",
       "    </tr>\n",
       "    <tr>\n",
       "      <th>3</th>\n",
       "      <td>Verve</td>\n",
       "      <td>Santa Monica</td>\n",
       "      <td>28000</td>\n",
       "    </tr>\n",
       "    <tr>\n",
       "      <th>4</th>\n",
       "      <td>Dinosaur Coffee</td>\n",
       "      <td>Los Feliz</td>\n",
       "      <td>18000</td>\n",
       "    </tr>\n",
       "  </tbody>\n",
       "</table>\n",
       "</div>"
      ],
      "text/plain": [
       "              Name  Neighborhood  Revenue\n",
       "0     Peets Coffee      Downtown    25000\n",
       "1        Starbucks     Hollywood    30000\n",
       "2      Blue Bottle   Silver Lake    20000\n",
       "3            Verve  Santa Monica    28000\n",
       "4  Dinosaur Coffee     Los Feliz    18000"
      ]
     },
     "execution_count": 13,
     "metadata": {},
     "output_type": "execute_result"
    }
   ],
   "source": [
    "df"
   ]
  },
  {
   "cell_type": "code",
   "execution_count": 9,
   "id": "cf5d7c0b",
   "metadata": {},
   "outputs": [
    {
     "data": {
      "text/plain": [
       "5"
      ]
     },
     "execution_count": 9,
     "metadata": {},
     "output_type": "execute_result"
    }
   ],
   "source": [
    "# How many rows are in the DataFrame?\n",
    "df.shape[0]"
   ]
  },
  {
   "cell_type": "code",
   "execution_count": 12,
   "id": "45f7dcaa",
   "metadata": {},
   "outputs": [
    {
     "data": {
      "text/plain": [
       "3"
      ]
     },
     "execution_count": 12,
     "metadata": {},
     "output_type": "execute_result"
    }
   ],
   "source": [
    "# How many columns are in the DataFrame?\n",
    "df.shape[1]"
   ]
  },
  {
   "cell_type": "code",
   "execution_count": 14,
   "id": "1c2dae10",
   "metadata": {},
   "outputs": [
    {
     "data": {
      "text/plain": [
       "5"
      ]
     },
     "execution_count": 14,
     "metadata": {},
     "output_type": "execute_result"
    }
   ],
   "source": [
    "# What is the size of the Name column?\n",
    "df['Name'].size"
   ]
  },
  {
   "cell_type": "code",
   "execution_count": 15,
   "id": "6196d318",
   "metadata": {},
   "outputs": [
    {
     "data": {
      "text/plain": [
       "10"
      ]
     },
     "execution_count": 15,
     "metadata": {},
     "output_type": "execute_result"
    }
   ],
   "source": [
    "# What is the size of the Neighborhood and Revenue columns combined?\n",
    "df[['Neighborhood', 'Revenue']].size"
   ]
  },
  {
   "cell_type": "code",
   "execution_count": 16,
   "id": "8ae9e36d",
   "metadata": {},
   "outputs": [
    {
     "data": {
      "text/plain": [
       "5"
      ]
     },
     "execution_count": 16,
     "metadata": {},
     "output_type": "execute_result"
    }
   ],
   "source": [
    "# How many unique Neighborhood values are there?\n",
    "df['Neighborhood'].nunique()"
   ]
  },
  {
   "cell_type": "code",
   "execution_count": 18,
   "id": "a3b2b229",
   "metadata": {},
   "outputs": [
    {
     "data": {
      "text/plain": [
       "6"
      ]
     },
     "execution_count": 18,
     "metadata": {},
     "output_type": "execute_result"
    }
   ],
   "source": [
    "# How many coffee shops have revenue above 25000?\n",
    "df[df['Revenue'] > 25000].size"
   ]
  },
  {
   "cell_type": "code",
   "execution_count": 26,
   "id": "1d525b6d",
   "metadata": {},
   "outputs": [
    {
     "data": {
      "text/plain": [
       "(2, 3)"
      ]
     },
     "execution_count": 26,
     "metadata": {},
     "output_type": "execute_result"
    }
   ],
   "source": [
    "# What is the size of df if filtered for only Downtown and Hollywood?\n",
    "df[df['Neighborhood'].isin(['Downtown', 'Hollywood'])].shape"
   ]
  },
  {
   "cell_type": "code",
   "execution_count": 28,
   "id": "c76e6dd6",
   "metadata": {},
   "outputs": [
    {
     "data": {
      "text/plain": [
       "5"
      ]
     },
     "execution_count": 28,
     "metadata": {},
     "output_type": "execute_result"
    }
   ],
   "source": [
    "# What is size after dropping duplicates of Neighborhood?\n",
    "df['Neighborhood'].drop_duplicates().size"
   ]
  },
  {
   "cell_type": "code",
   "execution_count": 29,
   "id": "5bd5976f",
   "metadata": {},
   "outputs": [
    {
     "data": {
      "text/plain": [
       "15"
      ]
     },
     "execution_count": 29,
     "metadata": {},
     "output_type": "execute_result"
    }
   ],
   "source": [
    "# How many elements in the transposed DataFrame?\n",
    "df.T.size"
   ]
  },
  {
   "cell_type": "code",
   "execution_count": null,
   "id": "71314b96",
   "metadata": {},
   "outputs": [],
   "source": []
  }
 ],
 "metadata": {
  "kernelspec": {
   "display_name": "Python 3",
   "language": "python",
   "name": "python3"
  },
  "language_info": {
   "codemirror_mode": {
    "name": "ipython",
    "version": 3
   },
   "file_extension": ".py",
   "mimetype": "text/x-python",
   "name": "python",
   "nbconvert_exporter": "python",
   "pygments_lexer": "ipython3",
   "version": "3.8.3"
  }
 },
 "nbformat": 4,
 "nbformat_minor": 5
}
