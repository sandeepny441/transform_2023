{
 "cells": [
  {
   "cell_type": "code",
   "execution_count": 1,
   "id": "23ece28c",
   "metadata": {},
   "outputs": [
    {
     "data": {
      "text/html": [
       "<div>\n",
       "<style scoped>\n",
       "    .dataframe tbody tr th:only-of-type {\n",
       "        vertical-align: middle;\n",
       "    }\n",
       "\n",
       "    .dataframe tbody tr th {\n",
       "        vertical-align: top;\n",
       "    }\n",
       "\n",
       "    .dataframe thead th {\n",
       "        text-align: right;\n",
       "    }\n",
       "</style>\n",
       "<table border=\"1\" class=\"dataframe\">\n",
       "  <thead>\n",
       "    <tr style=\"text-align: right;\">\n",
       "      <th></th>\n",
       "      <th>Store_ID</th>\n",
       "      <th>Store_Name</th>\n",
       "      <th>Location</th>\n",
       "      <th>Specialty</th>\n",
       "      <th>Annual_Revenue($1000s)</th>\n",
       "    </tr>\n",
       "  </thead>\n",
       "  <tbody>\n",
       "    <tr>\n",
       "      <th>0</th>\n",
       "      <td>101</td>\n",
       "      <td>Paws and Play</td>\n",
       "      <td>New York</td>\n",
       "      <td>Dogs</td>\n",
       "      <td>500</td>\n",
       "    </tr>\n",
       "    <tr>\n",
       "      <th>1</th>\n",
       "      <td>102</td>\n",
       "      <td>Pet Paradise</td>\n",
       "      <td>Los Angeles</td>\n",
       "      <td>Cats</td>\n",
       "      <td>400</td>\n",
       "    </tr>\n",
       "    <tr>\n",
       "      <th>2</th>\n",
       "      <td>103</td>\n",
       "      <td>Whisker Wonders</td>\n",
       "      <td>Chicago</td>\n",
       "      <td>Fish</td>\n",
       "      <td>300</td>\n",
       "    </tr>\n",
       "    <tr>\n",
       "      <th>3</th>\n",
       "      <td>104</td>\n",
       "      <td>Fin &amp; Feather</td>\n",
       "      <td>Houston</td>\n",
       "      <td>Birds</td>\n",
       "      <td>450</td>\n",
       "    </tr>\n",
       "    <tr>\n",
       "      <th>4</th>\n",
       "      <td>105</td>\n",
       "      <td>Bark &amp; Purr</td>\n",
       "      <td>Phoenix</td>\n",
       "      <td>Reptiles</td>\n",
       "      <td>320</td>\n",
       "    </tr>\n",
       "  </tbody>\n",
       "</table>\n",
       "</div>"
      ],
      "text/plain": [
       "   Store_ID       Store_Name     Location Specialty  Annual_Revenue($1000s)\n",
       "0       101    Paws and Play     New York      Dogs                     500\n",
       "1       102     Pet Paradise  Los Angeles      Cats                     400\n",
       "2       103  Whisker Wonders      Chicago      Fish                     300\n",
       "3       104    Fin & Feather      Houston     Birds                     450\n",
       "4       105      Bark & Purr      Phoenix  Reptiles                     320"
      ]
     },
     "execution_count": 1,
     "metadata": {},
     "output_type": "execute_result"
    }
   ],
   "source": [
    "import pandas as pd\n",
    "\n",
    "# Sample data for pet stores in the US\n",
    "data = {\n",
    "    'Store_ID': [101, 102, 103, 104, 105],\n",
    "    'Store_Name': ['Paws and Play', 'Pet Paradise', 'Whisker Wonders', 'Fin & Feather', 'Bark & Purr'],\n",
    "    'Location': ['New York', 'Los Angeles', 'Chicago', 'Houston', 'Phoenix'],\n",
    "    'Specialty': ['Dogs', 'Cats', 'Fish', 'Birds', 'Reptiles'],\n",
    "    'Annual_Revenue($1000s)': [500, 400, 300, 450, 320]\n",
    "}\n",
    "\n",
    "# Create DataFrame\n",
    "pet_stores_df = pd.DataFrame(data)\n",
    "\n",
    "pet_stores_df\n"
   ]
  },
  {
   "cell_type": "raw",
   "id": "52105837",
   "metadata": {},
   "source": [
    "How would you use the loc method to select all the details of the store with Store_ID 103?\n",
    "\n",
    "Using loc, how can you extract the Specialty and Annual_Revenue($1000s) columns for stores located in 'Los Angeles' or 'Houston'?\n",
    "\n",
    "If you wanted to change the Specialty of the store with Store_ID 105 to 'All Pets', how would you achieve this using the loc method?\n",
    "\n",
    "How would you filter out stores using loc that have an Annual_Revenue($1000s) of more than 400?\n",
    "\n",
    "Using the loc method, how can you retrieve the Store_Name and Location for the last two rows in the DataFrame?"
   ]
  },
  {
   "cell_type": "code",
   "execution_count": null,
   "id": "1aa3f646",
   "metadata": {},
   "outputs": [],
   "source": []
  }
 ],
 "metadata": {
  "kernelspec": {
   "display_name": "Python 3",
   "language": "python",
   "name": "python3"
  },
  "language_info": {
   "codemirror_mode": {
    "name": "ipython",
    "version": 3
   },
   "file_extension": ".py",
   "mimetype": "text/x-python",
   "name": "python",
   "nbconvert_exporter": "python",
   "pygments_lexer": "ipython3",
   "version": "3.8.3"
  }
 },
 "nbformat": 4,
 "nbformat_minor": 5
}
