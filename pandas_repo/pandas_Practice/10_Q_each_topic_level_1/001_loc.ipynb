{
 "cells": [
  {
   "cell_type": "code",
   "execution_count": 2,
   "id": "930ac948",
   "metadata": {},
   "outputs": [],
   "source": [
    "import warnings\n",
    "warnings.filterwarnings('ignore')\n",
    "\n",
    "import numpy as np\n",
    "import pandas as pd\n",
    "\n",
    "# Create a dictionary with three keys, 'A', 'B', and 'C', and lists of 10 numbers as values\n",
    "data = {'A': list(range(10)),\n",
    "        'B': list(range(10, 20)),\n",
    "        'C': list(range(20, 30))}\n",
    "\n",
    "# Convert the dictionary to a pandas DataFrame\n",
    "df1 = pd.DataFrame(data)\n",
    "\n",
    "# Print the DataFrame\n",
    "df = df1.head()\n",
    "df"
   ]
  },
  {
   "cell_type": "code",
   "execution_count": 1,
   "id": "d146169f",
   "metadata": {},
   "outputs": [],
   "source": [
    "What value is in column 'C' for the row with index 2?\n",
    "Select all columns where the values in column 'A' are less than 3.\n",
    "Retrieve rows where the values in column 'C' are greater than 21.\n",
    "How would you modify the value in column 'B' for row with index 3 to be 50?\n",
    "\n",
    "Select rows where values in column 'A' are even.\n",
    "Change the value in column 'C' to 100 where the value in column 'B' is greater than 15.\n",
    "How can you set the value in column 'B' to 200 where the value in column 'A' is less than 2?\n",
    "Retrieve values in column 'A' where column 'C' equals 100.\n",
    "\n",
    "# Set all rows with values in column 'B' less than 15 to -1.\n",
    "# Fetch rows where the values in column 'A' are either 2 or 3.\n",
    "# How would you change the values in column 'C' to 0 for rows where the values in column 'A' are even?\n",
    "# # Retrieve rows where both column 'A' and column 'B' have values less than 0.\n",
    "\n",
    "# How would you filter rows where the values in column 'A' are either 1 or 4 using the isin method?\n",
    "# How would you use the apply method to categorize values in column 'A' based on a function, say categorizing them as 'even' or 'odd'?"
   ]
  },
  {
   "cell_type": "code",
   "execution_count": null,
   "id": "2572f193",
   "metadata": {},
   "outputs": [],
   "source": []
  }
 ],
 "metadata": {
  "kernelspec": {
   "display_name": "Python 3",
   "language": "python",
   "name": "python3"
  },
  "language_info": {
   "codemirror_mode": {
    "name": "ipython",
    "version": 3
   },
   "file_extension": ".py",
   "mimetype": "text/x-python",
   "name": "python",
   "nbconvert_exporter": "python",
   "pygments_lexer": "ipython3",
   "version": "3.8.3"
  }
 },
 "nbformat": 4,
 "nbformat_minor": 5
}
