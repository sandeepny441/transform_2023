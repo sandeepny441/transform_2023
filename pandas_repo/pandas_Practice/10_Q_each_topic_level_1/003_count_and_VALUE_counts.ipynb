{
 "cells": [
  {
   "cell_type": "code",
   "execution_count": 3,
   "id": "2e8edc76",
   "metadata": {},
   "outputs": [],
   "source": [
    "import warnings\n",
    "warnings.filterwarnings('ignore')\n",
    "\n",
    "import numpy as np\n",
    "import pandas as pd\n",
    "\n"
   ]
  },
  {
   "cell_type": "code",
   "execution_count": 40,
   "id": "f4faff58",
   "metadata": {},
   "outputs": [],
   "source": [
    "# observations\n",
    "# gt - greater than\n",
    "# lt - less than \n",
    "\n",
    "# print(df['last_name'].value_counts().gt(1))\n",
    "# print(df['last_name'].value_counts().lt(1))\n"
   ]
  },
  {
   "cell_type": "code",
   "execution_count": 4,
   "id": "968f2644",
   "metadata": {},
   "outputs": [
    {
     "data": {
      "text/html": [
       "<div>\n",
       "<style scoped>\n",
       "    .dataframe tbody tr th:only-of-type {\n",
       "        vertical-align: middle;\n",
       "    }\n",
       "\n",
       "    .dataframe tbody tr th {\n",
       "        vertical-align: top;\n",
       "    }\n",
       "\n",
       "    .dataframe thead th {\n",
       "        text-align: right;\n",
       "    }\n",
       "</style>\n",
       "<table border=\"1\" class=\"dataframe\">\n",
       "  <thead>\n",
       "    <tr style=\"text-align: right;\">\n",
       "      <th></th>\n",
       "      <th>worker_id</th>\n",
       "      <th>first_name</th>\n",
       "      <th>last_name</th>\n",
       "      <th>salary</th>\n",
       "      <th>joining_date</th>\n",
       "      <th>department</th>\n",
       "    </tr>\n",
       "  </thead>\n",
       "  <tbody>\n",
       "    <tr>\n",
       "      <th>0</th>\n",
       "      <td>1</td>\n",
       "      <td>Monika</td>\n",
       "      <td>Arora</td>\n",
       "      <td>100000</td>\n",
       "      <td>2014-02-20 00:00:00</td>\n",
       "      <td>HR</td>\n",
       "    </tr>\n",
       "    <tr>\n",
       "      <th>1</th>\n",
       "      <td>2</td>\n",
       "      <td>Niharika</td>\n",
       "      <td>Verma</td>\n",
       "      <td>80000</td>\n",
       "      <td>2014-06-11 00:00:00</td>\n",
       "      <td>Admin</td>\n",
       "    </tr>\n",
       "    <tr>\n",
       "      <th>2</th>\n",
       "      <td>3</td>\n",
       "      <td>Vishal</td>\n",
       "      <td>Singhal</td>\n",
       "      <td>300000</td>\n",
       "      <td>2014-02-20 00:00:00</td>\n",
       "      <td>HR</td>\n",
       "    </tr>\n",
       "    <tr>\n",
       "      <th>3</th>\n",
       "      <td>4</td>\n",
       "      <td>Amitah</td>\n",
       "      <td>Singh</td>\n",
       "      <td>500000</td>\n",
       "      <td>2014-02-20 00:00:00</td>\n",
       "      <td>Admin</td>\n",
       "    </tr>\n",
       "    <tr>\n",
       "      <th>4</th>\n",
       "      <td>5</td>\n",
       "      <td>Vivek</td>\n",
       "      <td>Bhati</td>\n",
       "      <td>500000</td>\n",
       "      <td>2014-06-11 00:00:00</td>\n",
       "      <td>Admin</td>\n",
       "    </tr>\n",
       "  </tbody>\n",
       "</table>\n",
       "</div>"
      ],
      "text/plain": [
       "   worker_id first_name last_name  salary         joining_date department\n",
       "0          1     Monika     Arora  100000  2014-02-20 00:00:00         HR\n",
       "1          2   Niharika     Verma   80000  2014-06-11 00:00:00      Admin\n",
       "2          3     Vishal   Singhal  300000  2014-02-20 00:00:00         HR\n",
       "3          4     Amitah     Singh  500000  2014-02-20 00:00:00      Admin\n",
       "4          5      Vivek     Bhati  500000  2014-06-11 00:00:00      Admin"
      ]
     },
     "execution_count": 4,
     "metadata": {},
     "output_type": "execute_result"
    }
   ],
   "source": [
    "data = {\n",
    "    'worker_id': [1, 2, 3, 4, 5],\n",
    "    'first_name': ['Monika', 'Niharika', 'Vishal', 'Amitah', 'Vivek'],\n",
    "    'last_name': ['Arora', 'Verma', 'Singhal', 'Singh', 'Bhati'],\n",
    "    'salary': [100000, 80000, 300000, 500000, 500000],\n",
    "    'joining_date': ['2014-02-20 00:00:00', '2014-06-11 00:00:00', '2014-02-20 00:00:00', '2014-02-20 00:00:00', '2014-06-11 00:00:00'],\n",
    "    'department': ['HR', 'Admin', 'HR', 'Admin', 'Admin']\n",
    "}\n",
    "\n",
    "df = pd.DataFrame(data)\n",
    "df"
   ]
  },
  {
   "cell_type": "code",
   "execution_count": 5,
   "id": "5db28430",
   "metadata": {},
   "outputs": [],
   "source": [
    "# observations\n",
    "\n",
    "# idmin \n",
    "# count will give the counbt of ONLY non-null values\n",
    "# sum will give the count of null and non-null values"
   ]
  },
  {
   "cell_type": "code",
   "execution_count": 6,
   "id": "ce5d268c",
   "metadata": {},
   "outputs": [],
   "source": [
    "#10 COUNT Questions\n",
    "\n",
    "# How many non-null values are there in the salary column?\n",
    "# Across all columns, which column has the least non-null values?\n",
    "# Using the count method, how many non-null entries are there in each of the columns in the DataFrame?\n",
    "# In the department column, how many non-null entries are present?\n",
    "\n",
    "# By grouping by the department, how many non-null first_name entries are there for each department?\n",
    "# Group by joining_date and count how many workers joined on each distinct date.\n",
    "# How many workers have non-null last_name entries in the DataFrame?\n",
    "# By filtering the DataFrame for salary above 200000, how many non-null worker_id entries are present in the filtered data?\n",
    "\n",
    "# By grouping by both department and joining_date, how many non-null salary entries are there for each combination?\n",
    "# In the df, excluding the worker_id column, which columns have exactly 5 non-null values?\n",
    "\n"
   ]
  },
  {
   "cell_type": "code",
   "execution_count": 7,
   "id": "f99fc739",
   "metadata": {},
   "outputs": [],
   "source": [
    "#10 VALUE_COUNTS() Questions\n",
    "\n",
    "# Which first_name appears the most in the dataset?\n",
    "# How many unique department names are there in the dataset and what are their counts?\n",
    "# Which joining_date is the most common among the workers?\n",
    "# Are there any last_name values that appear more than once? If so, which ones?\n",
    "# Using alue_counts(), determine how many workers have salaries equal to 500000.\n",
    "# Which salary amount appears the least frequently in the dataset?\n",
    "# Use value_counts() to determine the number of workers in each department and sort the output by the department names.\n",
    "# How many workers have the same first_name and last_name combinations? Use value_counts() on multiple columns to determine this.\n",
    "# Can you display the frequency of each unique salary value in descending order?\n",
    "# Using value_counts(), how many workers joined on each unique date? Display the results in ascending order based on counts.\n"
   ]
  },
  {
   "cell_type": "code",
   "execution_count": 8,
   "id": "c2fb6564",
   "metadata": {},
   "outputs": [
    {
     "data": {
      "text/html": [
       "<div>\n",
       "<style scoped>\n",
       "    .dataframe tbody tr th:only-of-type {\n",
       "        vertical-align: middle;\n",
       "    }\n",
       "\n",
       "    .dataframe tbody tr th {\n",
       "        vertical-align: top;\n",
       "    }\n",
       "\n",
       "    .dataframe thead th {\n",
       "        text-align: right;\n",
       "    }\n",
       "</style>\n",
       "<table border=\"1\" class=\"dataframe\">\n",
       "  <thead>\n",
       "    <tr style=\"text-align: right;\">\n",
       "      <th></th>\n",
       "      <th>worker_id</th>\n",
       "      <th>first_name</th>\n",
       "      <th>last_name</th>\n",
       "      <th>salary</th>\n",
       "      <th>joining_date</th>\n",
       "      <th>department</th>\n",
       "    </tr>\n",
       "  </thead>\n",
       "  <tbody>\n",
       "    <tr>\n",
       "      <th>0</th>\n",
       "      <td>1</td>\n",
       "      <td>Monika</td>\n",
       "      <td>Arora</td>\n",
       "      <td>100000</td>\n",
       "      <td>2014-02-20 00:00:00</td>\n",
       "      <td>HR</td>\n",
       "    </tr>\n",
       "    <tr>\n",
       "      <th>1</th>\n",
       "      <td>2</td>\n",
       "      <td>Niharika</td>\n",
       "      <td>Verma</td>\n",
       "      <td>80000</td>\n",
       "      <td>2014-06-11 00:00:00</td>\n",
       "      <td>Admin</td>\n",
       "    </tr>\n",
       "    <tr>\n",
       "      <th>2</th>\n",
       "      <td>3</td>\n",
       "      <td>Vishal</td>\n",
       "      <td>Singhal</td>\n",
       "      <td>300000</td>\n",
       "      <td>2014-02-20 00:00:00</td>\n",
       "      <td>HR</td>\n",
       "    </tr>\n",
       "    <tr>\n",
       "      <th>3</th>\n",
       "      <td>4</td>\n",
       "      <td>Amitah</td>\n",
       "      <td>Singh</td>\n",
       "      <td>500000</td>\n",
       "      <td>2014-02-20 00:00:00</td>\n",
       "      <td>Admin</td>\n",
       "    </tr>\n",
       "    <tr>\n",
       "      <th>4</th>\n",
       "      <td>5</td>\n",
       "      <td>Vivek</td>\n",
       "      <td>Bhati</td>\n",
       "      <td>500000</td>\n",
       "      <td>2014-06-11 00:00:00</td>\n",
       "      <td>Admin</td>\n",
       "    </tr>\n",
       "  </tbody>\n",
       "</table>\n",
       "</div>"
      ],
      "text/plain": [
       "   worker_id first_name last_name  salary         joining_date department\n",
       "0          1     Monika     Arora  100000  2014-02-20 00:00:00         HR\n",
       "1          2   Niharika     Verma   80000  2014-06-11 00:00:00      Admin\n",
       "2          3     Vishal   Singhal  300000  2014-02-20 00:00:00         HR\n",
       "3          4     Amitah     Singh  500000  2014-02-20 00:00:00      Admin\n",
       "4          5      Vivek     Bhati  500000  2014-06-11 00:00:00      Admin"
      ]
     },
     "execution_count": 8,
     "metadata": {},
     "output_type": "execute_result"
    }
   ],
   "source": [
    "df"
   ]
  },
  {
   "cell_type": "code",
   "execution_count": 9,
   "id": "ca0411cb",
   "metadata": {},
   "outputs": [
    {
     "data": {
      "text/plain": [
       "5"
      ]
     },
     "execution_count": 9,
     "metadata": {},
     "output_type": "execute_result"
    }
   ],
   "source": [
    "# How many non-null values are there in the salary column?\n",
    "df['salary'].count()"
   ]
  },
  {
   "cell_type": "code",
   "execution_count": 10,
   "id": "7669168f",
   "metadata": {},
   "outputs": [
    {
     "data": {
      "text/plain": [
       "'worker_id'"
      ]
     },
     "execution_count": 10,
     "metadata": {},
     "output_type": "execute_result"
    }
   ],
   "source": [
    "# Across all columns, which column has the least non-null values?\n",
    "df.count().idxmax()"
   ]
  },
  {
   "cell_type": "code",
   "execution_count": 11,
   "id": "d664a8ba",
   "metadata": {},
   "outputs": [
    {
     "data": {
      "text/plain": [
       "worker_id       5\n",
       "first_name      5\n",
       "last_name       5\n",
       "salary          5\n",
       "joining_date    5\n",
       "department      5\n",
       "dtype: int64"
      ]
     },
     "execution_count": 11,
     "metadata": {},
     "output_type": "execute_result"
    }
   ],
   "source": [
    "# Using the count method, how many non-null \n",
    "#entries are there in each of the columns in the DataFrame?\n",
    "\n",
    "df.count()"
   ]
  },
  {
   "cell_type": "code",
   "execution_count": 12,
   "id": "fef1f8a7",
   "metadata": {},
   "outputs": [
    {
     "data": {
      "text/plain": [
       "5"
      ]
     },
     "execution_count": 12,
     "metadata": {},
     "output_type": "execute_result"
    }
   ],
   "source": [
    "# In the department column, how many non-null entries are present?\n",
    "df['department'].count()"
   ]
  },
  {
   "cell_type": "code",
   "execution_count": 13,
   "id": "d0343c21",
   "metadata": {},
   "outputs": [
    {
     "data": {
      "text/html": [
       "<div>\n",
       "<style scoped>\n",
       "    .dataframe tbody tr th:only-of-type {\n",
       "        vertical-align: middle;\n",
       "    }\n",
       "\n",
       "    .dataframe tbody tr th {\n",
       "        vertical-align: top;\n",
       "    }\n",
       "\n",
       "    .dataframe thead th {\n",
       "        text-align: right;\n",
       "    }\n",
       "</style>\n",
       "<table border=\"1\" class=\"dataframe\">\n",
       "  <thead>\n",
       "    <tr style=\"text-align: right;\">\n",
       "      <th></th>\n",
       "      <th>worker_id</th>\n",
       "      <th>first_name</th>\n",
       "      <th>last_name</th>\n",
       "      <th>salary</th>\n",
       "      <th>joining_date</th>\n",
       "    </tr>\n",
       "    <tr>\n",
       "      <th>department</th>\n",
       "      <th></th>\n",
       "      <th></th>\n",
       "      <th></th>\n",
       "      <th></th>\n",
       "      <th></th>\n",
       "    </tr>\n",
       "  </thead>\n",
       "  <tbody>\n",
       "    <tr>\n",
       "      <th>Admin</th>\n",
       "      <td>3</td>\n",
       "      <td>3</td>\n",
       "      <td>3</td>\n",
       "      <td>3</td>\n",
       "      <td>3</td>\n",
       "    </tr>\n",
       "    <tr>\n",
       "      <th>HR</th>\n",
       "      <td>2</td>\n",
       "      <td>2</td>\n",
       "      <td>2</td>\n",
       "      <td>2</td>\n",
       "      <td>2</td>\n",
       "    </tr>\n",
       "  </tbody>\n",
       "</table>\n",
       "</div>"
      ],
      "text/plain": [
       "            worker_id  first_name  last_name  salary  joining_date\n",
       "department                                                        \n",
       "Admin               3           3          3       3             3\n",
       "HR                  2           2          2       2             2"
      ]
     },
     "execution_count": 13,
     "metadata": {},
     "output_type": "execute_result"
    }
   ],
   "source": [
    "# By grouping by the department, how many non-null first_name entries are there for each department?\n",
    "df.groupby('department').count()"
   ]
  },
  {
   "cell_type": "code",
   "execution_count": 14,
   "id": "e6dda318",
   "metadata": {},
   "outputs": [
    {
     "data": {
      "text/html": [
       "<div>\n",
       "<style scoped>\n",
       "    .dataframe tbody tr th:only-of-type {\n",
       "        vertical-align: middle;\n",
       "    }\n",
       "\n",
       "    .dataframe tbody tr th {\n",
       "        vertical-align: top;\n",
       "    }\n",
       "\n",
       "    .dataframe thead th {\n",
       "        text-align: right;\n",
       "    }\n",
       "</style>\n",
       "<table border=\"1\" class=\"dataframe\">\n",
       "  <thead>\n",
       "    <tr style=\"text-align: right;\">\n",
       "      <th></th>\n",
       "      <th>worker_id</th>\n",
       "      <th>first_name</th>\n",
       "      <th>last_name</th>\n",
       "      <th>salary</th>\n",
       "      <th>department</th>\n",
       "    </tr>\n",
       "    <tr>\n",
       "      <th>joining_date</th>\n",
       "      <th></th>\n",
       "      <th></th>\n",
       "      <th></th>\n",
       "      <th></th>\n",
       "      <th></th>\n",
       "    </tr>\n",
       "  </thead>\n",
       "  <tbody>\n",
       "    <tr>\n",
       "      <th>2014-02-20 00:00:00</th>\n",
       "      <td>3</td>\n",
       "      <td>3</td>\n",
       "      <td>3</td>\n",
       "      <td>3</td>\n",
       "      <td>3</td>\n",
       "    </tr>\n",
       "    <tr>\n",
       "      <th>2014-06-11 00:00:00</th>\n",
       "      <td>2</td>\n",
       "      <td>2</td>\n",
       "      <td>2</td>\n",
       "      <td>2</td>\n",
       "      <td>2</td>\n",
       "    </tr>\n",
       "  </tbody>\n",
       "</table>\n",
       "</div>"
      ],
      "text/plain": [
       "                     worker_id  first_name  last_name  salary  department\n",
       "joining_date                                                             \n",
       "2014-02-20 00:00:00          3           3          3       3           3\n",
       "2014-06-11 00:00:00          2           2          2       2           2"
      ]
     },
     "execution_count": 14,
     "metadata": {},
     "output_type": "execute_result"
    }
   ],
   "source": [
    "# Group by joining_date and count how many workers joined on each distinct date.\n",
    "df.groupby('joining_date').count()"
   ]
  },
  {
   "cell_type": "code",
   "execution_count": 15,
   "id": "dc9babcb",
   "metadata": {},
   "outputs": [
    {
     "data": {
      "text/plain": [
       "5"
      ]
     },
     "execution_count": 15,
     "metadata": {},
     "output_type": "execute_result"
    }
   ],
   "source": [
    "# How many workers have non-null last_name entries in the DataFrame?\n",
    "df['last_name'].count()"
   ]
  },
  {
   "cell_type": "code",
   "execution_count": 19,
   "id": "24b825ae",
   "metadata": {},
   "outputs": [
    {
     "data": {
      "text/plain": [
       "3"
      ]
     },
     "execution_count": 19,
     "metadata": {},
     "output_type": "execute_result"
    }
   ],
   "source": [
    "# By filtering the DataFrame for salary above 200000, \n",
    "# how many non-null worker_id entries are present in the filtered data?\n",
    "\n",
    "df.loc[df['salary'] > 200000]['worker_id'].count()"
   ]
  },
  {
   "cell_type": "markdown",
   "id": "65b6efe5",
   "metadata": {},
   "source": [
    "# VALUE_COUNTS"
   ]
  },
  {
   "cell_type": "code",
   "execution_count": 21,
   "id": "f524ae84",
   "metadata": {},
   "outputs": [
    {
     "data": {
      "text/plain": [
       "Monika      1\n",
       "Niharika    1\n",
       "Vishal      1\n",
       "Amitah      1\n",
       "Vivek       1\n",
       "Name: first_name, dtype: int64"
      ]
     },
     "execution_count": 21,
     "metadata": {},
     "output_type": "execute_result"
    }
   ],
   "source": [
    "# Which first_name appears the most in the dataset?\n",
    "df['first_name'].value_counts()"
   ]
  },
  {
   "cell_type": "code",
   "execution_count": 26,
   "id": "96a05bbf",
   "metadata": {},
   "outputs": [
    {
     "data": {
      "text/plain": [
       "2"
      ]
     },
     "execution_count": 26,
     "metadata": {},
     "output_type": "execute_result"
    }
   ],
   "source": [
    "# How many unique department names are there in the dataset and what are their counts?\n",
    "df['department'].value_counts().count()\n"
   ]
  },
  {
   "cell_type": "code",
   "execution_count": 25,
   "id": "a6a5e302",
   "metadata": {},
   "outputs": [
    {
     "data": {
      "text/plain": [
       "'2014-02-20 00:00:00'"
      ]
     },
     "execution_count": 25,
     "metadata": {},
     "output_type": "execute_result"
    }
   ],
   "source": [
    "# Which joining_date is the most common among the workers?\n",
    "df['joining_date'].value_counts().idxmax()"
   ]
  },
  {
   "cell_type": "code",
   "execution_count": 36,
   "id": "2a056e87",
   "metadata": {},
   "outputs": [
    {
     "data": {
      "text/plain": [
       "Arora      False\n",
       "Verma      False\n",
       "Singhal    False\n",
       "Singh      False\n",
       "Bhati      False\n",
       "Name: last_name, dtype: bool"
      ]
     },
     "execution_count": 36,
     "metadata": {},
     "output_type": "execute_result"
    }
   ],
   "source": [
    "# Are there any last_name values that appear more than once? If so, which ones?\n",
    "df['last_name'].value_counts().gt(1)\n",
    "# print(df['last_name'].duplicated().any()) another way"
   ]
  },
  {
   "cell_type": "code",
   "execution_count": 46,
   "id": "5fd4471a",
   "metadata": {},
   "outputs": [
    {
     "data": {
      "text/plain": [
       "500000    2\n",
       "Name: salary, dtype: int64"
      ]
     },
     "execution_count": 46,
     "metadata": {},
     "output_type": "execute_result"
    }
   ],
   "source": [
    "# Using alue_counts(), determine how many workers have salaries equal to 500000.\n",
    "df[df['salary'] == 500000]['salary'].value_counts()"
   ]
  },
  {
   "cell_type": "code",
   "execution_count": 47,
   "id": "94c1e78c",
   "metadata": {},
   "outputs": [
    {
     "data": {
      "text/plain": [
       "100000"
      ]
     },
     "execution_count": 47,
     "metadata": {},
     "output_type": "execute_result"
    }
   ],
   "source": [
    "# Which salary amount appears the least frequently in the dataset?\n",
    "df['salary'].value_counts().idxmin()"
   ]
  },
  {
   "cell_type": "code",
   "execution_count": 52,
   "id": "989494f9",
   "metadata": {},
   "outputs": [
    {
     "data": {
      "text/plain": [
       "Admin    3\n",
       "HR       2\n",
       "Name: department, dtype: int64"
      ]
     },
     "execution_count": 52,
     "metadata": {},
     "output_type": "execute_result"
    }
   ],
   "source": [
    "# Use value_counts() to determine the number of workers in each department and sort the output by the department names.\n",
    "df.groupby('department').count().sort_values(by = 'department')\n",
    "\n",
    "df['department'].value_counts().sort_index()"
   ]
  },
  {
   "cell_type": "code",
   "execution_count": 57,
   "id": "516b2c1c",
   "metadata": {},
   "outputs": [
    {
     "data": {
      "text/plain": [
       "False"
      ]
     },
     "execution_count": 57,
     "metadata": {},
     "output_type": "execute_result"
    }
   ],
   "source": [
    "# How many workers have the same first_name and last_name combinations? \n",
    "# Use value_counts() on multiple columns to determine this.\n",
    "\n",
    "df[['first_name', 'last_name']].value_counts().gt(1).any()\n",
    "df[['first_name', 'last_name']].duplicated().any()"
   ]
  },
  {
   "cell_type": "code",
   "execution_count": 58,
   "id": "51870001",
   "metadata": {},
   "outputs": [
    {
     "data": {
      "text/plain": [
       "500000    2\n",
       "100000    1\n",
       "80000     1\n",
       "300000    1\n",
       "Name: salary, dtype: int64"
      ]
     },
     "execution_count": 58,
     "metadata": {},
     "output_type": "execute_result"
    }
   ],
   "source": [
    "# Can you display the frequency of each unique salary value in descending order?\n",
    "df['salary'].value_counts()"
   ]
  },
  {
   "cell_type": "code",
   "execution_count": 62,
   "id": "762c537b",
   "metadata": {},
   "outputs": [
    {
     "data": {
      "text/plain": [
       "2014-02-20 00:00:00    3\n",
       "2014-06-11 00:00:00    2\n",
       "Name: joining_date, dtype: int64"
      ]
     },
     "execution_count": 62,
     "metadata": {},
     "output_type": "execute_result"
    }
   ],
   "source": [
    "# Using value_counts(), how many workers joined on each unique date? Display the results in ascending order based on counts.\n",
    "df['joining_date'].value_counts().sort_index()  # sort by index"
   ]
  },
  {
   "cell_type": "code",
   "execution_count": 63,
   "id": "4a7c044e",
   "metadata": {},
   "outputs": [
    {
     "data": {
      "text/plain": [
       "2014-06-11 00:00:00    2\n",
       "2014-02-20 00:00:00    3\n",
       "Name: joining_date, dtype: int64"
      ]
     },
     "execution_count": 63,
     "metadata": {},
     "output_type": "execute_result"
    }
   ],
   "source": [
    "df['joining_date'].value_counts().sort_values() # sort by values"
   ]
  },
  {
   "cell_type": "code",
   "execution_count": null,
   "id": "4dc0cd67",
   "metadata": {},
   "outputs": [],
   "source": []
  }
 ],
 "metadata": {
  "kernelspec": {
   "display_name": "Python 3",
   "language": "python",
   "name": "python3"
  },
  "language_info": {
   "codemirror_mode": {
    "name": "ipython",
    "version": 3
   },
   "file_extension": ".py",
   "mimetype": "text/x-python",
   "name": "python",
   "nbconvert_exporter": "python",
   "pygments_lexer": "ipython3",
   "version": "3.8.3"
  }
 },
 "nbformat": 4,
 "nbformat_minor": 5
}
