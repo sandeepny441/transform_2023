{
 "cells": [
  {
   "cell_type": "code",
   "execution_count": 1,
   "id": "a3ac829f",
   "metadata": {},
   "outputs": [],
   "source": [
    "import warnings\n",
    "warnings.filterwarnings('ignore')\n",
    "\n",
    "import numpy as np\n",
    "import pandas as pd\n"
   ]
  },
  {
   "cell_type": "code",
   "execution_count": 58,
   "id": "552c45e2",
   "metadata": {},
   "outputs": [],
   "source": [
    "# OBSERVATIOSN\n",
    "\n",
    "# You can compare a Pandas Series with an integer value \n",
    "# using standard comparison operators. When you compare a Series with an integer, \n",
    "# the comparison is done element-wise, resulting in a Boolean Series."
   ]
  },
  {
   "cell_type": "code",
   "execution_count": 2,
   "id": "9f5da710",
   "metadata": {},
   "outputs": [
    {
     "data": {
      "text/html": [
       "<div>\n",
       "<style scoped>\n",
       "    .dataframe tbody tr th:only-of-type {\n",
       "        vertical-align: middle;\n",
       "    }\n",
       "\n",
       "    .dataframe tbody tr th {\n",
       "        vertical-align: top;\n",
       "    }\n",
       "\n",
       "    .dataframe thead th {\n",
       "        text-align: right;\n",
       "    }\n",
       "</style>\n",
       "<table border=\"1\" class=\"dataframe\">\n",
       "  <thead>\n",
       "    <tr style=\"text-align: right;\">\n",
       "      <th></th>\n",
       "      <th>Name</th>\n",
       "      <th>Neighborhood</th>\n",
       "      <th>Revenue</th>\n",
       "    </tr>\n",
       "  </thead>\n",
       "  <tbody>\n",
       "    <tr>\n",
       "      <th>0</th>\n",
       "      <td>Peets Coffee</td>\n",
       "      <td>Downtown</td>\n",
       "      <td>25000.0</td>\n",
       "    </tr>\n",
       "    <tr>\n",
       "      <th>1</th>\n",
       "      <td>Starbucks</td>\n",
       "      <td>Hollywood</td>\n",
       "      <td>30000.0</td>\n",
       "    </tr>\n",
       "    <tr>\n",
       "      <th>2</th>\n",
       "      <td>None</td>\n",
       "      <td>Silver Lake</td>\n",
       "      <td>20000.0</td>\n",
       "    </tr>\n",
       "    <tr>\n",
       "      <th>3</th>\n",
       "      <td>Verve</td>\n",
       "      <td>None</td>\n",
       "      <td>28000.0</td>\n",
       "    </tr>\n",
       "    <tr>\n",
       "      <th>4</th>\n",
       "      <td>Dinosaur Coffee</td>\n",
       "      <td>Los Feliz</td>\n",
       "      <td>NaN</td>\n",
       "    </tr>\n",
       "  </tbody>\n",
       "</table>\n",
       "</div>"
      ],
      "text/plain": [
       "              Name Neighborhood  Revenue\n",
       "0     Peets Coffee     Downtown  25000.0\n",
       "1        Starbucks    Hollywood  30000.0\n",
       "2             None  Silver Lake  20000.0\n",
       "3            Verve         None  28000.0\n",
       "4  Dinosaur Coffee    Los Feliz      NaN"
      ]
     },
     "execution_count": 2,
     "metadata": {},
     "output_type": "execute_result"
    }
   ],
   "source": [
    "import pandas as pd\n",
    "\n",
    "data = {'Name': ['Peets Coffee', 'Starbucks', None, 'Verve', \"Dinosaur Coffee\"], \n",
    "        'Neighborhood': ['Downtown', 'Hollywood', 'Silver Lake', None, 'Los Feliz'],\n",
    "        'Revenue': [25000, 30000, 20000, 28000, None]}\n",
    "\n",
    "df = pd.DataFrame(data)\n",
    "df"
   ]
  },
  {
   "cell_type": "code",
   "execution_count": 3,
   "id": "dff3f1ca",
   "metadata": {},
   "outputs": [],
   "source": [
    "new_data = {\n",
    "    'Name': ['Blue Bottle', 'Tully’s Coffee', 'Joe & The Juice', 'Philz Coffee', 'Dutch Bros'],\n",
    "    'Neighborhood': ['Beverly Hills', 'Echo Park', 'Downtown', 'Westwood', 'Venice Beach'],\n",
    "    'Revenue': [27000, 29000, 25500, 26500, 27500]\n",
    "}\n",
    "\n",
    "new_df = pd.DataFrame(new_data)\n",
    "\n",
    "# Append new_df to the original df\n",
    "df = df.append(new_df, ignore_index=True)\n"
   ]
  },
  {
   "cell_type": "code",
   "execution_count": 4,
   "id": "a5891723",
   "metadata": {},
   "outputs": [
    {
     "data": {
      "text/html": [
       "<div>\n",
       "<style scoped>\n",
       "    .dataframe tbody tr th:only-of-type {\n",
       "        vertical-align: middle;\n",
       "    }\n",
       "\n",
       "    .dataframe tbody tr th {\n",
       "        vertical-align: top;\n",
       "    }\n",
       "\n",
       "    .dataframe thead th {\n",
       "        text-align: right;\n",
       "    }\n",
       "</style>\n",
       "<table border=\"1\" class=\"dataframe\">\n",
       "  <thead>\n",
       "    <tr style=\"text-align: right;\">\n",
       "      <th></th>\n",
       "      <th>Name</th>\n",
       "      <th>Neighborhood</th>\n",
       "      <th>Revenue</th>\n",
       "    </tr>\n",
       "  </thead>\n",
       "  <tbody>\n",
       "    <tr>\n",
       "      <th>0</th>\n",
       "      <td>Peets Coffee</td>\n",
       "      <td>Downtown</td>\n",
       "      <td>25000.0</td>\n",
       "    </tr>\n",
       "    <tr>\n",
       "      <th>1</th>\n",
       "      <td>Starbucks</td>\n",
       "      <td>Hollywood</td>\n",
       "      <td>30000.0</td>\n",
       "    </tr>\n",
       "    <tr>\n",
       "      <th>2</th>\n",
       "      <td>None</td>\n",
       "      <td>Silver Lake</td>\n",
       "      <td>20000.0</td>\n",
       "    </tr>\n",
       "    <tr>\n",
       "      <th>3</th>\n",
       "      <td>Verve</td>\n",
       "      <td>None</td>\n",
       "      <td>28000.0</td>\n",
       "    </tr>\n",
       "    <tr>\n",
       "      <th>4</th>\n",
       "      <td>Dinosaur Coffee</td>\n",
       "      <td>Los Feliz</td>\n",
       "      <td>NaN</td>\n",
       "    </tr>\n",
       "    <tr>\n",
       "      <th>5</th>\n",
       "      <td>Blue Bottle</td>\n",
       "      <td>Beverly Hills</td>\n",
       "      <td>27000.0</td>\n",
       "    </tr>\n",
       "    <tr>\n",
       "      <th>6</th>\n",
       "      <td>Tully’s Coffee</td>\n",
       "      <td>Echo Park</td>\n",
       "      <td>29000.0</td>\n",
       "    </tr>\n",
       "    <tr>\n",
       "      <th>7</th>\n",
       "      <td>Joe &amp; The Juice</td>\n",
       "      <td>Downtown</td>\n",
       "      <td>25500.0</td>\n",
       "    </tr>\n",
       "    <tr>\n",
       "      <th>8</th>\n",
       "      <td>Philz Coffee</td>\n",
       "      <td>Westwood</td>\n",
       "      <td>26500.0</td>\n",
       "    </tr>\n",
       "    <tr>\n",
       "      <th>9</th>\n",
       "      <td>Dutch Bros</td>\n",
       "      <td>Venice Beach</td>\n",
       "      <td>27500.0</td>\n",
       "    </tr>\n",
       "  </tbody>\n",
       "</table>\n",
       "</div>"
      ],
      "text/plain": [
       "              Name   Neighborhood  Revenue\n",
       "0     Peets Coffee       Downtown  25000.0\n",
       "1        Starbucks      Hollywood  30000.0\n",
       "2             None    Silver Lake  20000.0\n",
       "3            Verve           None  28000.0\n",
       "4  Dinosaur Coffee      Los Feliz      NaN\n",
       "5      Blue Bottle  Beverly Hills  27000.0\n",
       "6   Tully’s Coffee      Echo Park  29000.0\n",
       "7  Joe & The Juice       Downtown  25500.0\n",
       "8     Philz Coffee       Westwood  26500.0\n",
       "9       Dutch Bros   Venice Beach  27500.0"
      ]
     },
     "execution_count": 4,
     "metadata": {},
     "output_type": "execute_result"
    }
   ],
   "source": [
    "df"
   ]
  },
  {
   "cell_type": "code",
   "execution_count": 5,
   "id": "18e59c4a",
   "metadata": {},
   "outputs": [],
   "source": [
    "# How would you retrieve all the unique coffee shop names \n",
    "# from the 'Name' column in the df DataFrame?\n",
    "\n",
    "# If you wanted to know the number of unique neighborhoods \n",
    "# where the coffee shops are located, how would you determine this using the unique method and another Python function?\n",
    "\n",
    "# How can you check if \"Downtown\" is a unique value in the 'Neighborhood' column?\n",
    "\n",
    "# Can you use the unique method directly on the entire df\n",
    "# DataFrame to retrieve unique rows? If not, what's the alternative?\n",
    "\n",
    "# Imagine you wanted to process unique values in a \n",
    "# series and transform them in some way. \n",
    "# How would you retrieve unique values from the 'Revenue' column, \n",
    "# square them, and then create a new list?"
   ]
  },
  {
   "cell_type": "code",
   "execution_count": 6,
   "id": "3f793aac",
   "metadata": {},
   "outputs": [
    {
     "data": {
      "text/html": [
       "<div>\n",
       "<style scoped>\n",
       "    .dataframe tbody tr th:only-of-type {\n",
       "        vertical-align: middle;\n",
       "    }\n",
       "\n",
       "    .dataframe tbody tr th {\n",
       "        vertical-align: top;\n",
       "    }\n",
       "\n",
       "    .dataframe thead th {\n",
       "        text-align: right;\n",
       "    }\n",
       "</style>\n",
       "<table border=\"1\" class=\"dataframe\">\n",
       "  <thead>\n",
       "    <tr style=\"text-align: right;\">\n",
       "      <th></th>\n",
       "      <th>Name</th>\n",
       "      <th>Neighborhood</th>\n",
       "      <th>Revenue</th>\n",
       "    </tr>\n",
       "  </thead>\n",
       "  <tbody>\n",
       "    <tr>\n",
       "      <th>0</th>\n",
       "      <td>Peets Coffee</td>\n",
       "      <td>Downtown</td>\n",
       "      <td>25000.0</td>\n",
       "    </tr>\n",
       "    <tr>\n",
       "      <th>1</th>\n",
       "      <td>Starbucks</td>\n",
       "      <td>Hollywood</td>\n",
       "      <td>30000.0</td>\n",
       "    </tr>\n",
       "    <tr>\n",
       "      <th>2</th>\n",
       "      <td>None</td>\n",
       "      <td>Silver Lake</td>\n",
       "      <td>20000.0</td>\n",
       "    </tr>\n",
       "    <tr>\n",
       "      <th>3</th>\n",
       "      <td>Verve</td>\n",
       "      <td>None</td>\n",
       "      <td>28000.0</td>\n",
       "    </tr>\n",
       "    <tr>\n",
       "      <th>4</th>\n",
       "      <td>Dinosaur Coffee</td>\n",
       "      <td>Los Feliz</td>\n",
       "      <td>NaN</td>\n",
       "    </tr>\n",
       "    <tr>\n",
       "      <th>5</th>\n",
       "      <td>Blue Bottle</td>\n",
       "      <td>Beverly Hills</td>\n",
       "      <td>27000.0</td>\n",
       "    </tr>\n",
       "    <tr>\n",
       "      <th>6</th>\n",
       "      <td>Tully’s Coffee</td>\n",
       "      <td>Echo Park</td>\n",
       "      <td>29000.0</td>\n",
       "    </tr>\n",
       "    <tr>\n",
       "      <th>7</th>\n",
       "      <td>Joe &amp; The Juice</td>\n",
       "      <td>Downtown</td>\n",
       "      <td>25500.0</td>\n",
       "    </tr>\n",
       "    <tr>\n",
       "      <th>8</th>\n",
       "      <td>Philz Coffee</td>\n",
       "      <td>Westwood</td>\n",
       "      <td>26500.0</td>\n",
       "    </tr>\n",
       "    <tr>\n",
       "      <th>9</th>\n",
       "      <td>Dutch Bros</td>\n",
       "      <td>Venice Beach</td>\n",
       "      <td>27500.0</td>\n",
       "    </tr>\n",
       "  </tbody>\n",
       "</table>\n",
       "</div>"
      ],
      "text/plain": [
       "              Name   Neighborhood  Revenue\n",
       "0     Peets Coffee       Downtown  25000.0\n",
       "1        Starbucks      Hollywood  30000.0\n",
       "2             None    Silver Lake  20000.0\n",
       "3            Verve           None  28000.0\n",
       "4  Dinosaur Coffee      Los Feliz      NaN\n",
       "5      Blue Bottle  Beverly Hills  27000.0\n",
       "6   Tully’s Coffee      Echo Park  29000.0\n",
       "7  Joe & The Juice       Downtown  25500.0\n",
       "8     Philz Coffee       Westwood  26500.0\n",
       "9       Dutch Bros   Venice Beach  27500.0"
      ]
     },
     "execution_count": 6,
     "metadata": {},
     "output_type": "execute_result"
    }
   ],
   "source": [
    "df"
   ]
  },
  {
   "cell_type": "code",
   "execution_count": 7,
   "id": "b42acc1b",
   "metadata": {},
   "outputs": [
    {
     "data": {
      "text/plain": [
       "array(['Peets Coffee', 'Starbucks', None, 'Verve', 'Dinosaur Coffee',\n",
       "       'Blue Bottle', 'Tully’s Coffee', 'Joe & The Juice', 'Philz Coffee',\n",
       "       'Dutch Bros'], dtype=object)"
      ]
     },
     "execution_count": 7,
     "metadata": {},
     "output_type": "execute_result"
    }
   ],
   "source": [
    "df['Name'].unique()"
   ]
  },
  {
   "cell_type": "code",
   "execution_count": 8,
   "id": "923e5e0d",
   "metadata": {},
   "outputs": [
    {
     "data": {
      "text/plain": [
       "8"
      ]
     },
     "execution_count": 8,
     "metadata": {},
     "output_type": "execute_result"
    }
   ],
   "source": [
    "df['Neighborhood'].nunique()"
   ]
  },
  {
   "cell_type": "code",
   "execution_count": 9,
   "id": "ee7c8c9d",
   "metadata": {},
   "outputs": [
    {
     "data": {
      "text/plain": [
       "Downtown         2\n",
       "Hollywood        1\n",
       "Silver Lake      1\n",
       "Los Feliz        1\n",
       "Beverly Hills    1\n",
       "Echo Park        1\n",
       "Westwood         1\n",
       "Venice Beach     1\n",
       "Name: Neighborhood, dtype: int64"
      ]
     },
     "execution_count": 9,
     "metadata": {},
     "output_type": "execute_result"
    }
   ],
   "source": [
    "df['Neighborhood'].value_counts()"
   ]
  },
  {
   "cell_type": "code",
   "execution_count": 14,
   "id": "7b58d45c",
   "metadata": {},
   "outputs": [
    {
     "data": {
      "text/html": [
       "<div>\n",
       "<style scoped>\n",
       "    .dataframe tbody tr th:only-of-type {\n",
       "        vertical-align: middle;\n",
       "    }\n",
       "\n",
       "    .dataframe tbody tr th {\n",
       "        vertical-align: top;\n",
       "    }\n",
       "\n",
       "    .dataframe thead th {\n",
       "        text-align: right;\n",
       "    }\n",
       "</style>\n",
       "<table border=\"1\" class=\"dataframe\">\n",
       "  <thead>\n",
       "    <tr style=\"text-align: right;\">\n",
       "      <th></th>\n",
       "      <th>Name</th>\n",
       "      <th>Neighborhood</th>\n",
       "      <th>Revenue</th>\n",
       "    </tr>\n",
       "  </thead>\n",
       "  <tbody>\n",
       "    <tr>\n",
       "      <th>0</th>\n",
       "      <td>Peets Coffee</td>\n",
       "      <td>Downtown</td>\n",
       "      <td>25000.0</td>\n",
       "    </tr>\n",
       "    <tr>\n",
       "      <th>7</th>\n",
       "      <td>Joe &amp; The Juice</td>\n",
       "      <td>Downtown</td>\n",
       "      <td>25500.0</td>\n",
       "    </tr>\n",
       "  </tbody>\n",
       "</table>\n",
       "</div>"
      ],
      "text/plain": [
       "              Name Neighborhood  Revenue\n",
       "0     Peets Coffee     Downtown  25000.0\n",
       "7  Joe & The Juice     Downtown  25500.0"
      ]
     },
     "execution_count": 14,
     "metadata": {},
     "output_type": "execute_result"
    }
   ],
   "source": [
    "# How can you check if \"Downtown\" is a unique value in the 'Neighborhood' column?\n",
    "df[df['Neighborhood'] == 'Downtown']"
   ]
  },
  {
   "cell_type": "code",
   "execution_count": 19,
   "id": "4fadef05",
   "metadata": {},
   "outputs": [
    {
     "data": {
      "text/html": [
       "<div>\n",
       "<style scoped>\n",
       "    .dataframe tbody tr th:only-of-type {\n",
       "        vertical-align: middle;\n",
       "    }\n",
       "\n",
       "    .dataframe tbody tr th {\n",
       "        vertical-align: top;\n",
       "    }\n",
       "\n",
       "    .dataframe thead th {\n",
       "        text-align: right;\n",
       "    }\n",
       "</style>\n",
       "<table border=\"1\" class=\"dataframe\">\n",
       "  <thead>\n",
       "    <tr style=\"text-align: right;\">\n",
       "      <th></th>\n",
       "      <th>Name</th>\n",
       "      <th>Neighborhood</th>\n",
       "      <th>Revenue</th>\n",
       "    </tr>\n",
       "  </thead>\n",
       "  <tbody>\n",
       "    <tr>\n",
       "      <th>0</th>\n",
       "      <td>Peets Coffee</td>\n",
       "      <td>Downtown</td>\n",
       "      <td>25000.0</td>\n",
       "    </tr>\n",
       "    <tr>\n",
       "      <th>1</th>\n",
       "      <td>Starbucks</td>\n",
       "      <td>Hollywood</td>\n",
       "      <td>30000.0</td>\n",
       "    </tr>\n",
       "    <tr>\n",
       "      <th>2</th>\n",
       "      <td>None</td>\n",
       "      <td>Silver Lake</td>\n",
       "      <td>20000.0</td>\n",
       "    </tr>\n",
       "    <tr>\n",
       "      <th>3</th>\n",
       "      <td>Verve</td>\n",
       "      <td>None</td>\n",
       "      <td>28000.0</td>\n",
       "    </tr>\n",
       "    <tr>\n",
       "      <th>4</th>\n",
       "      <td>Dinosaur Coffee</td>\n",
       "      <td>Los Feliz</td>\n",
       "      <td>NaN</td>\n",
       "    </tr>\n",
       "    <tr>\n",
       "      <th>5</th>\n",
       "      <td>Blue Bottle</td>\n",
       "      <td>Beverly Hills</td>\n",
       "      <td>27000.0</td>\n",
       "    </tr>\n",
       "    <tr>\n",
       "      <th>6</th>\n",
       "      <td>Tully’s Coffee</td>\n",
       "      <td>Echo Park</td>\n",
       "      <td>29000.0</td>\n",
       "    </tr>\n",
       "    <tr>\n",
       "      <th>7</th>\n",
       "      <td>Joe &amp; The Juice</td>\n",
       "      <td>Downtown</td>\n",
       "      <td>25500.0</td>\n",
       "    </tr>\n",
       "    <tr>\n",
       "      <th>8</th>\n",
       "      <td>Philz Coffee</td>\n",
       "      <td>Westwood</td>\n",
       "      <td>26500.0</td>\n",
       "    </tr>\n",
       "    <tr>\n",
       "      <th>9</th>\n",
       "      <td>Dutch Bros</td>\n",
       "      <td>Venice Beach</td>\n",
       "      <td>27500.0</td>\n",
       "    </tr>\n",
       "  </tbody>\n",
       "</table>\n",
       "</div>"
      ],
      "text/plain": [
       "              Name   Neighborhood  Revenue\n",
       "0     Peets Coffee       Downtown  25000.0\n",
       "1        Starbucks      Hollywood  30000.0\n",
       "2             None    Silver Lake  20000.0\n",
       "3            Verve           None  28000.0\n",
       "4  Dinosaur Coffee      Los Feliz      NaN\n",
       "5      Blue Bottle  Beverly Hills  27000.0\n",
       "6   Tully’s Coffee      Echo Park  29000.0\n",
       "7  Joe & The Juice       Downtown  25500.0\n",
       "8     Philz Coffee       Westwood  26500.0\n",
       "9       Dutch Bros   Venice Beach  27500.0"
      ]
     },
     "execution_count": 19,
     "metadata": {},
     "output_type": "execute_result"
    }
   ],
   "source": [
    "# df.unique() # doesnt work\n",
    "df.drop_duplicates()"
   ]
  },
  {
   "cell_type": "code",
   "execution_count": 21,
   "id": "e16c238b",
   "metadata": {},
   "outputs": [],
   "source": [
    "# N-unique Questions\n",
    "\n",
    "# How many unique coffee shop names are present in the 'Name' column?\n",
    "# What is the total number of unique neighborhoods in the dataset?\n",
    "# Are there any revenue values that appear more than once? \n",
    "# (Hint: Compare the number of unique values to the total count.)\n",
    "# How many columns in the dataframe contain only unique values? \n",
    "# (Hint: Use a combination of nunique() and the shape attribute of the dataframe.)\n",
    "# If you removed all rows with non-unique 'Revenue' values, \n",
    "# how many rows would the dataframe have? \n",
    "# (Hint: Use nunique() on the 'Revenue' column and compare it to the dataframe's shape.)"
   ]
  },
  {
   "cell_type": "code",
   "execution_count": 22,
   "id": "aa58183a",
   "metadata": {},
   "outputs": [
    {
     "data": {
      "text/plain": [
       "9"
      ]
     },
     "execution_count": 22,
     "metadata": {},
     "output_type": "execute_result"
    }
   ],
   "source": [
    "# How many unique coffee shop names are present in the 'Name' column?\n",
    "df['Name'].nunique()"
   ]
  },
  {
   "cell_type": "code",
   "execution_count": 23,
   "id": "1ab35a50",
   "metadata": {},
   "outputs": [
    {
     "data": {
      "text/plain": [
       "8"
      ]
     },
     "execution_count": 23,
     "metadata": {},
     "output_type": "execute_result"
    }
   ],
   "source": [
    "# What is the total number of unique neighborhoods in the dataset?\n",
    "df['Neighborhood'].nunique()"
   ]
  },
  {
   "cell_type": "code",
   "execution_count": 32,
   "id": "00b263c4",
   "metadata": {},
   "outputs": [
    {
     "data": {
      "text/plain": [
       "True"
      ]
     },
     "execution_count": 32,
     "metadata": {},
     "output_type": "execute_result"
    }
   ],
   "source": [
    "# Are there any revenue values that appear more than once? \n",
    "df['Revenue'].nunique() >1"
   ]
  },
  {
   "cell_type": "code",
   "execution_count": 34,
   "id": "41dc756b",
   "metadata": {},
   "outputs": [],
   "source": [
    "duplicate_revenues = df['Revenue'].value_counts()[df['Revenue'].value_counts() > 1]\n"
   ]
  },
  {
   "cell_type": "code",
   "execution_count": 39,
   "id": "f0aaf484",
   "metadata": {},
   "outputs": [
    {
     "data": {
      "text/plain": [
       "Series([], Name: Revenue, dtype: int64)"
      ]
     },
     "execution_count": 39,
     "metadata": {},
     "output_type": "execute_result"
    }
   ],
   "source": [
    "df['Revenue'].value_counts()[df['Revenue'].value_counts() > 2]"
   ]
  },
  {
   "cell_type": "code",
   "execution_count": 42,
   "id": "d3a82a71",
   "metadata": {},
   "outputs": [
    {
     "data": {
      "text/plain": [
       "25000.0    1\n",
       "30000.0    1\n",
       "20000.0    1\n",
       "28000.0    1\n",
       "27000.0    1\n",
       "29000.0    1\n",
       "25500.0    1\n",
       "26500.0    1\n",
       "27500.0    1\n",
       "Name: Revenue, dtype: int64"
      ]
     },
     "execution_count": 42,
     "metadata": {},
     "output_type": "execute_result"
    }
   ],
   "source": [
    "df['Revenue'].value_counts()"
   ]
  },
  {
   "cell_type": "code",
   "execution_count": 43,
   "id": "995f0ddb",
   "metadata": {},
   "outputs": [],
   "source": [
    "# How many columns in the dataframe contain only unique values? \n",
    "# (Hint: Use a combination of nunique() and the shape attribute of the dataframe.)"
   ]
  },
  {
   "cell_type": "code",
   "execution_count": 44,
   "id": "98d2f030",
   "metadata": {},
   "outputs": [
    {
     "data": {
      "text/plain": [
       "(10, 3)"
      ]
     },
     "execution_count": 44,
     "metadata": {},
     "output_type": "execute_result"
    }
   ],
   "source": [
    "df.shape "
   ]
  },
  {
   "cell_type": "code",
   "execution_count": 50,
   "id": "72122b1c",
   "metadata": {},
   "outputs": [
    {
     "data": {
      "text/plain": [
       "Name            True\n",
       "Neighborhood    True\n",
       "Revenue         True\n",
       "dtype: bool"
      ]
     },
     "execution_count": 50,
     "metadata": {},
     "output_type": "execute_result"
    }
   ],
   "source": [
    "df.drop_duplicates().any(axis = 0).,"
   ]
  },
  {
   "cell_type": "code",
   "execution_count": 53,
   "id": "9bd74621",
   "metadata": {},
   "outputs": [
    {
     "data": {
      "text/plain": [
       "0"
      ]
     },
     "execution_count": 53,
     "metadata": {},
     "output_type": "execute_result"
    }
   ],
   "source": [
    "sum(df.nunique() == df.shape[0])"
   ]
  },
  {
   "cell_type": "code",
   "execution_count": 54,
   "id": "12dbb57d",
   "metadata": {},
   "outputs": [
    {
     "data": {
      "text/plain": [
       "Name            9\n",
       "Neighborhood    8\n",
       "Revenue         9\n",
       "dtype: int64"
      ]
     },
     "execution_count": 54,
     "metadata": {},
     "output_type": "execute_result"
    }
   ],
   "source": [
    "df.nunique()"
   ]
  },
  {
   "cell_type": "code",
   "execution_count": 55,
   "id": "8e50c413",
   "metadata": {},
   "outputs": [
    {
     "data": {
      "text/plain": [
       "pandas.core.series.Series"
      ]
     },
     "execution_count": 55,
     "metadata": {},
     "output_type": "execute_result"
    }
   ],
   "source": [
    "type(df.nunique())"
   ]
  },
  {
   "cell_type": "code",
   "execution_count": 56,
   "id": "a936bfeb",
   "metadata": {},
   "outputs": [
    {
     "data": {
      "text/plain": [
       "int"
      ]
     },
     "execution_count": 56,
     "metadata": {},
     "output_type": "execute_result"
    }
   ],
   "source": [
    "type(df.shape[0])"
   ]
  },
  {
   "cell_type": "code",
   "execution_count": 59,
   "id": "df305d8b",
   "metadata": {},
   "outputs": [],
   "source": [
    "# Imagine you wanted to process unique values in a \n",
    "# series and transform them in some way. \n",
    "# How would you retrieve unique values from the 'Revenue' column, \n",
    "# square them, and then create a new list?"
   ]
  },
  {
   "cell_type": "code",
   "execution_count": 60,
   "id": "bd170ab0",
   "metadata": {},
   "outputs": [
    {
     "data": {
      "text/plain": [
       "array([25000., 30000., 20000., 28000.,    nan, 27000., 29000., 25500.,\n",
       "       26500., 27500.])"
      ]
     },
     "execution_count": 60,
     "metadata": {},
     "output_type": "execute_result"
    }
   ],
   "source": [
    "df['Revenue'].unique()"
   ]
  },
  {
   "cell_type": "code",
   "execution_count": 61,
   "id": "ac6d5a6d",
   "metadata": {},
   "outputs": [
    {
     "data": {
      "text/plain": [
       "[625000000.0,\n",
       " 900000000.0,\n",
       " 400000000.0,\n",
       " 784000000.0,\n",
       " nan,\n",
       " 729000000.0,\n",
       " 841000000.0,\n",
       " 650250000.0,\n",
       " 702250000.0,\n",
       " 756250000.0]"
      ]
     },
     "execution_count": 61,
     "metadata": {},
     "output_type": "execute_result"
    }
   ],
   "source": [
    "list(x**2 for x in df['Revenue'].unique())"
   ]
  },
  {
   "cell_type": "code",
   "execution_count": 65,
   "id": "5db0624c",
   "metadata": {},
   "outputs": [
    {
     "data": {
      "text/plain": [
       "0"
      ]
     },
     "execution_count": 65,
     "metadata": {},
     "output_type": "execute_result"
    }
   ],
   "source": [
    "# How many columns in the dataframe contain only unique values? \n",
    "sum(df.shape[0] == df.nunique())"
   ]
  },
  {
   "cell_type": "code",
   "execution_count": 66,
   "id": "34ca4962",
   "metadata": {},
   "outputs": [],
   "source": [
    "# If you removed all rows with non-unique 'Revenue' values, \n",
    "# how many rows would the dataframe have? \n",
    "# (Hint: Use nunique() on the 'Revenue' column and compare it to the dataframe's shape.)"
   ]
  },
  {
   "cell_type": "code",
   "execution_count": 69,
   "id": "ba2927db",
   "metadata": {},
   "outputs": [
    {
     "data": {
      "text/html": [
       "<div>\n",
       "<style scoped>\n",
       "    .dataframe tbody tr th:only-of-type {\n",
       "        vertical-align: middle;\n",
       "    }\n",
       "\n",
       "    .dataframe tbody tr th {\n",
       "        vertical-align: top;\n",
       "    }\n",
       "\n",
       "    .dataframe thead th {\n",
       "        text-align: right;\n",
       "    }\n",
       "</style>\n",
       "<table border=\"1\" class=\"dataframe\">\n",
       "  <thead>\n",
       "    <tr style=\"text-align: right;\">\n",
       "      <th></th>\n",
       "      <th>Name</th>\n",
       "      <th>Neighborhood</th>\n",
       "      <th>Revenue</th>\n",
       "    </tr>\n",
       "  </thead>\n",
       "  <tbody>\n",
       "    <tr>\n",
       "      <th>0</th>\n",
       "      <td>Peets Coffee</td>\n",
       "      <td>Downtown</td>\n",
       "      <td>25000.0</td>\n",
       "    </tr>\n",
       "    <tr>\n",
       "      <th>1</th>\n",
       "      <td>Starbucks</td>\n",
       "      <td>Hollywood</td>\n",
       "      <td>30000.0</td>\n",
       "    </tr>\n",
       "    <tr>\n",
       "      <th>2</th>\n",
       "      <td>None</td>\n",
       "      <td>Silver Lake</td>\n",
       "      <td>20000.0</td>\n",
       "    </tr>\n",
       "    <tr>\n",
       "      <th>3</th>\n",
       "      <td>Verve</td>\n",
       "      <td>None</td>\n",
       "      <td>28000.0</td>\n",
       "    </tr>\n",
       "    <tr>\n",
       "      <th>4</th>\n",
       "      <td>Dinosaur Coffee</td>\n",
       "      <td>Los Feliz</td>\n",
       "      <td>NaN</td>\n",
       "    </tr>\n",
       "    <tr>\n",
       "      <th>5</th>\n",
       "      <td>Blue Bottle</td>\n",
       "      <td>Beverly Hills</td>\n",
       "      <td>27000.0</td>\n",
       "    </tr>\n",
       "    <tr>\n",
       "      <th>6</th>\n",
       "      <td>Tully’s Coffee</td>\n",
       "      <td>Echo Park</td>\n",
       "      <td>29000.0</td>\n",
       "    </tr>\n",
       "    <tr>\n",
       "      <th>7</th>\n",
       "      <td>Joe &amp; The Juice</td>\n",
       "      <td>Downtown</td>\n",
       "      <td>25500.0</td>\n",
       "    </tr>\n",
       "    <tr>\n",
       "      <th>8</th>\n",
       "      <td>Philz Coffee</td>\n",
       "      <td>Westwood</td>\n",
       "      <td>26500.0</td>\n",
       "    </tr>\n",
       "    <tr>\n",
       "      <th>9</th>\n",
       "      <td>Dutch Bros</td>\n",
       "      <td>Venice Beach</td>\n",
       "      <td>27500.0</td>\n",
       "    </tr>\n",
       "  </tbody>\n",
       "</table>\n",
       "</div>"
      ],
      "text/plain": [
       "              Name   Neighborhood  Revenue\n",
       "0     Peets Coffee       Downtown  25000.0\n",
       "1        Starbucks      Hollywood  30000.0\n",
       "2             None    Silver Lake  20000.0\n",
       "3            Verve           None  28000.0\n",
       "4  Dinosaur Coffee      Los Feliz      NaN\n",
       "5      Blue Bottle  Beverly Hills  27000.0\n",
       "6   Tully’s Coffee      Echo Park  29000.0\n",
       "7  Joe & The Juice       Downtown  25500.0\n",
       "8     Philz Coffee       Westwood  26500.0\n",
       "9       Dutch Bros   Venice Beach  27500.0"
      ]
     },
     "execution_count": 69,
     "metadata": {},
     "output_type": "execute_result"
    }
   ],
   "source": [
    "df"
   ]
  },
  {
   "cell_type": "code",
   "execution_count": 70,
   "id": "66242b7a",
   "metadata": {},
   "outputs": [
    {
     "data": {
      "text/html": [
       "<div>\n",
       "<style scoped>\n",
       "    .dataframe tbody tr th:only-of-type {\n",
       "        vertical-align: middle;\n",
       "    }\n",
       "\n",
       "    .dataframe tbody tr th {\n",
       "        vertical-align: top;\n",
       "    }\n",
       "\n",
       "    .dataframe thead th {\n",
       "        text-align: right;\n",
       "    }\n",
       "</style>\n",
       "<table border=\"1\" class=\"dataframe\">\n",
       "  <thead>\n",
       "    <tr style=\"text-align: right;\">\n",
       "      <th></th>\n",
       "      <th>Name</th>\n",
       "      <th>Neighborhood</th>\n",
       "      <th>Revenue</th>\n",
       "    </tr>\n",
       "  </thead>\n",
       "  <tbody>\n",
       "    <tr>\n",
       "      <th>0</th>\n",
       "      <td>Peets Coffee</td>\n",
       "      <td>Downtown</td>\n",
       "      <td>25000.0</td>\n",
       "    </tr>\n",
       "    <tr>\n",
       "      <th>1</th>\n",
       "      <td>Starbucks</td>\n",
       "      <td>Hollywood</td>\n",
       "      <td>30000.0</td>\n",
       "    </tr>\n",
       "    <tr>\n",
       "      <th>2</th>\n",
       "      <td>None</td>\n",
       "      <td>Silver Lake</td>\n",
       "      <td>20000.0</td>\n",
       "    </tr>\n",
       "    <tr>\n",
       "      <th>3</th>\n",
       "      <td>Verve</td>\n",
       "      <td>None</td>\n",
       "      <td>28000.0</td>\n",
       "    </tr>\n",
       "    <tr>\n",
       "      <th>4</th>\n",
       "      <td>Dinosaur Coffee</td>\n",
       "      <td>Los Feliz</td>\n",
       "      <td>NaN</td>\n",
       "    </tr>\n",
       "    <tr>\n",
       "      <th>5</th>\n",
       "      <td>Blue Bottle</td>\n",
       "      <td>Beverly Hills</td>\n",
       "      <td>27000.0</td>\n",
       "    </tr>\n",
       "    <tr>\n",
       "      <th>6</th>\n",
       "      <td>Tully’s Coffee</td>\n",
       "      <td>Echo Park</td>\n",
       "      <td>29000.0</td>\n",
       "    </tr>\n",
       "    <tr>\n",
       "      <th>8</th>\n",
       "      <td>Philz Coffee</td>\n",
       "      <td>Westwood</td>\n",
       "      <td>26500.0</td>\n",
       "    </tr>\n",
       "    <tr>\n",
       "      <th>9</th>\n",
       "      <td>Dutch Bros</td>\n",
       "      <td>Venice Beach</td>\n",
       "      <td>27500.0</td>\n",
       "    </tr>\n",
       "  </tbody>\n",
       "</table>\n",
       "</div>"
      ],
      "text/plain": [
       "              Name   Neighborhood  Revenue\n",
       "0     Peets Coffee       Downtown  25000.0\n",
       "1        Starbucks      Hollywood  30000.0\n",
       "2             None    Silver Lake  20000.0\n",
       "3            Verve           None  28000.0\n",
       "4  Dinosaur Coffee      Los Feliz      NaN\n",
       "5      Blue Bottle  Beverly Hills  27000.0\n",
       "6   Tully’s Coffee      Echo Park  29000.0\n",
       "8     Philz Coffee       Westwood  26500.0\n",
       "9       Dutch Bros   Venice Beach  27500.0"
      ]
     },
     "execution_count": 70,
     "metadata": {},
     "output_type": "execute_result"
    }
   ],
   "source": [
    "df.drop_duplicates(['Neighborhood'])"
   ]
  },
  {
   "cell_type": "code",
   "execution_count": 71,
   "id": "64070561",
   "metadata": {},
   "outputs": [
    {
     "data": {
      "text/html": [
       "<div>\n",
       "<style scoped>\n",
       "    .dataframe tbody tr th:only-of-type {\n",
       "        vertical-align: middle;\n",
       "    }\n",
       "\n",
       "    .dataframe tbody tr th {\n",
       "        vertical-align: top;\n",
       "    }\n",
       "\n",
       "    .dataframe thead th {\n",
       "        text-align: right;\n",
       "    }\n",
       "</style>\n",
       "<table border=\"1\" class=\"dataframe\">\n",
       "  <thead>\n",
       "    <tr style=\"text-align: right;\">\n",
       "      <th></th>\n",
       "      <th>Name</th>\n",
       "      <th>Neighborhood</th>\n",
       "      <th>Revenue</th>\n",
       "    </tr>\n",
       "  </thead>\n",
       "  <tbody>\n",
       "    <tr>\n",
       "      <th>0</th>\n",
       "      <td>Peets Coffee</td>\n",
       "      <td>Downtown</td>\n",
       "      <td>25000.0</td>\n",
       "    </tr>\n",
       "    <tr>\n",
       "      <th>1</th>\n",
       "      <td>Starbucks</td>\n",
       "      <td>Hollywood</td>\n",
       "      <td>30000.0</td>\n",
       "    </tr>\n",
       "    <tr>\n",
       "      <th>2</th>\n",
       "      <td>None</td>\n",
       "      <td>Silver Lake</td>\n",
       "      <td>20000.0</td>\n",
       "    </tr>\n",
       "    <tr>\n",
       "      <th>3</th>\n",
       "      <td>Verve</td>\n",
       "      <td>None</td>\n",
       "      <td>28000.0</td>\n",
       "    </tr>\n",
       "    <tr>\n",
       "      <th>4</th>\n",
       "      <td>Dinosaur Coffee</td>\n",
       "      <td>Los Feliz</td>\n",
       "      <td>NaN</td>\n",
       "    </tr>\n",
       "    <tr>\n",
       "      <th>5</th>\n",
       "      <td>Blue Bottle</td>\n",
       "      <td>Beverly Hills</td>\n",
       "      <td>27000.0</td>\n",
       "    </tr>\n",
       "    <tr>\n",
       "      <th>6</th>\n",
       "      <td>Tully’s Coffee</td>\n",
       "      <td>Echo Park</td>\n",
       "      <td>29000.0</td>\n",
       "    </tr>\n",
       "    <tr>\n",
       "      <th>7</th>\n",
       "      <td>Joe &amp; The Juice</td>\n",
       "      <td>Downtown</td>\n",
       "      <td>25500.0</td>\n",
       "    </tr>\n",
       "    <tr>\n",
       "      <th>8</th>\n",
       "      <td>Philz Coffee</td>\n",
       "      <td>Westwood</td>\n",
       "      <td>26500.0</td>\n",
       "    </tr>\n",
       "    <tr>\n",
       "      <th>9</th>\n",
       "      <td>Dutch Bros</td>\n",
       "      <td>Venice Beach</td>\n",
       "      <td>27500.0</td>\n",
       "    </tr>\n",
       "  </tbody>\n",
       "</table>\n",
       "</div>"
      ],
      "text/plain": [
       "              Name   Neighborhood  Revenue\n",
       "0     Peets Coffee       Downtown  25000.0\n",
       "1        Starbucks      Hollywood  30000.0\n",
       "2             None    Silver Lake  20000.0\n",
       "3            Verve           None  28000.0\n",
       "4  Dinosaur Coffee      Los Feliz      NaN\n",
       "5      Blue Bottle  Beverly Hills  27000.0\n",
       "6   Tully’s Coffee      Echo Park  29000.0\n",
       "7  Joe & The Juice       Downtown  25500.0\n",
       "8     Philz Coffee       Westwood  26500.0\n",
       "9       Dutch Bros   Venice Beach  27500.0"
      ]
     },
     "execution_count": 71,
     "metadata": {},
     "output_type": "execute_result"
    }
   ],
   "source": [
    "df"
   ]
  },
  {
   "cell_type": "code",
   "execution_count": null,
   "id": "8b76d71a",
   "metadata": {},
   "outputs": [],
   "source": []
  },
  {
   "cell_type": "code",
   "execution_count": null,
   "id": "542c135c",
   "metadata": {},
   "outputs": [],
   "source": []
  }
 ],
 "metadata": {
  "kernelspec": {
   "display_name": "Python 3",
   "language": "python",
   "name": "python3"
  },
  "language_info": {
   "codemirror_mode": {
    "name": "ipython",
    "version": 3
   },
   "file_extension": ".py",
   "mimetype": "text/x-python",
   "name": "python",
   "nbconvert_exporter": "python",
   "pygments_lexer": "ipython3",
   "version": "3.8.3"
  }
 },
 "nbformat": 4,
 "nbformat_minor": 5
}
