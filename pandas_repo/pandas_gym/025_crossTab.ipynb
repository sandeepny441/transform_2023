{
 "cells": [
  {
   "cell_type": "code",
   "execution_count": 1,
   "id": "5d00560f",
   "metadata": {},
   "outputs": [
    {
     "data": {
      "text/html": [
       "<div>\n",
       "<style scoped>\n",
       "    .dataframe tbody tr th:only-of-type {\n",
       "        vertical-align: middle;\n",
       "    }\n",
       "\n",
       "    .dataframe tbody tr th {\n",
       "        vertical-align: top;\n",
       "    }\n",
       "\n",
       "    .dataframe thead th {\n",
       "        text-align: right;\n",
       "    }\n",
       "</style>\n",
       "<table border=\"1\" class=\"dataframe\">\n",
       "  <thead>\n",
       "    <tr style=\"text-align: right;\">\n",
       "      <th></th>\n",
       "      <th>Student</th>\n",
       "      <th>Course</th>\n",
       "    </tr>\n",
       "  </thead>\n",
       "  <tbody>\n",
       "    <tr>\n",
       "      <th>0</th>\n",
       "      <td>Alice</td>\n",
       "      <td>Math</td>\n",
       "    </tr>\n",
       "    <tr>\n",
       "      <th>1</th>\n",
       "      <td>Bob</td>\n",
       "      <td>History</td>\n",
       "    </tr>\n",
       "    <tr>\n",
       "      <th>2</th>\n",
       "      <td>Charlie</td>\n",
       "      <td>Math</td>\n",
       "    </tr>\n",
       "    <tr>\n",
       "      <th>3</th>\n",
       "      <td>Alice</td>\n",
       "      <td>Biology</td>\n",
       "    </tr>\n",
       "    <tr>\n",
       "      <th>4</th>\n",
       "      <td>Bob</td>\n",
       "      <td>Biology</td>\n",
       "    </tr>\n",
       "    <tr>\n",
       "      <th>5</th>\n",
       "      <td>Charlie</td>\n",
       "      <td>History</td>\n",
       "    </tr>\n",
       "  </tbody>\n",
       "</table>\n",
       "</div>"
      ],
      "text/plain": [
       "   Student   Course\n",
       "0    Alice     Math\n",
       "1      Bob  History\n",
       "2  Charlie     Math\n",
       "3    Alice  Biology\n",
       "4      Bob  Biology\n",
       "5  Charlie  History"
      ]
     },
     "execution_count": 1,
     "metadata": {},
     "output_type": "execute_result"
    }
   ],
   "source": [
    "import pandas as pd\n",
    "\n",
    "data = {\n",
    "    'Student': ['Alice', 'Bob', 'Charlie', 'Alice', 'Bob', 'Charlie'],\n",
    "    'Course': ['Math', 'History', 'Math', 'Biology', 'Biology', 'History']\n",
    "}\n",
    "\n",
    "df = pd.DataFrame(data)\n",
    "df\n"
   ]
  },
  {
   "cell_type": "code",
   "execution_count": 2,
   "id": "9c95e026",
   "metadata": {},
   "outputs": [
    {
     "name": "stdout",
     "output_type": "stream",
     "text": [
      "Course   Biology  History  Math\n",
      "Student                        \n",
      "Alice          1        0     1\n",
      "Bob            1        1     0\n",
      "Charlie        0        1     1\n"
     ]
    }
   ],
   "source": [
    "print(pd.crosstab(df['Student'], df['Course']))"
   ]
  },
  {
   "cell_type": "code",
   "execution_count": 4,
   "id": "1b2e53e7",
   "metadata": {},
   "outputs": [
    {
     "name": "stdout",
     "output_type": "stream",
     "text": [
      "Student  Alice  Bob  Charlie\n",
      "Course                      \n",
      "Biology      1    1        0\n",
      "History      0    1        1\n",
      "Math         1    0        1\n"
     ]
    }
   ],
   "source": [
    "print(pd.crosstab(df['Course'], df['Student']))"
   ]
  },
  {
   "cell_type": "code",
   "execution_count": 5,
   "id": "edf5f74d",
   "metadata": {},
   "outputs": [
    {
     "name": "stdout",
     "output_type": "stream",
     "text": [
      "Course   Biology  History  Math  Total\n",
      "Student                               \n",
      "Alice          1        0     1      2\n",
      "Bob            1        1     0      2\n",
      "Charlie        0        1     1      2\n",
      "Total          2        2     2      6\n"
     ]
    }
   ],
   "source": [
    "print(pd.crosstab(df['Student'], df['Course'], margins=True, margins_name=\"Total\"))\n"
   ]
  },
  {
   "cell_type": "code",
   "execution_count": null,
   "id": "5b1921fb",
   "metadata": {},
   "outputs": [],
   "source": [
    "# Multiple columns"
   ]
  },
  {
   "cell_type": "code",
   "execution_count": 6,
   "id": "dcfc0656",
   "metadata": {},
   "outputs": [
    {
     "data": {
      "text/html": [
       "<div>\n",
       "<style scoped>\n",
       "    .dataframe tbody tr th:only-of-type {\n",
       "        vertical-align: middle;\n",
       "    }\n",
       "\n",
       "    .dataframe tbody tr th {\n",
       "        vertical-align: top;\n",
       "    }\n",
       "\n",
       "    .dataframe thead th {\n",
       "        text-align: right;\n",
       "    }\n",
       "</style>\n",
       "<table border=\"1\" class=\"dataframe\">\n",
       "  <thead>\n",
       "    <tr style=\"text-align: right;\">\n",
       "      <th></th>\n",
       "      <th>Student</th>\n",
       "      <th>Course</th>\n",
       "      <th>Exam</th>\n",
       "    </tr>\n",
       "  </thead>\n",
       "  <tbody>\n",
       "    <tr>\n",
       "      <th>0</th>\n",
       "      <td>Alice</td>\n",
       "      <td>Math</td>\n",
       "      <td>Midterm</td>\n",
       "    </tr>\n",
       "    <tr>\n",
       "      <th>1</th>\n",
       "      <td>Bob</td>\n",
       "      <td>History</td>\n",
       "      <td>Midterm</td>\n",
       "    </tr>\n",
       "    <tr>\n",
       "      <th>2</th>\n",
       "      <td>Charlie</td>\n",
       "      <td>Math</td>\n",
       "      <td>Final</td>\n",
       "    </tr>\n",
       "    <tr>\n",
       "      <th>3</th>\n",
       "      <td>Alice</td>\n",
       "      <td>Biology</td>\n",
       "      <td>Final</td>\n",
       "    </tr>\n",
       "    <tr>\n",
       "      <th>4</th>\n",
       "      <td>Bob</td>\n",
       "      <td>Biology</td>\n",
       "      <td>Midterm</td>\n",
       "    </tr>\n",
       "    <tr>\n",
       "      <th>5</th>\n",
       "      <td>Charlie</td>\n",
       "      <td>History</td>\n",
       "      <td>Final</td>\n",
       "    </tr>\n",
       "  </tbody>\n",
       "</table>\n",
       "</div>"
      ],
      "text/plain": [
       "   Student   Course     Exam\n",
       "0    Alice     Math  Midterm\n",
       "1      Bob  History  Midterm\n",
       "2  Charlie     Math    Final\n",
       "3    Alice  Biology    Final\n",
       "4      Bob  Biology  Midterm\n",
       "5  Charlie  History    Final"
      ]
     },
     "execution_count": 6,
     "metadata": {},
     "output_type": "execute_result"
    }
   ],
   "source": [
    "data['Exam'] = ['Midterm', 'Midterm', 'Final', 'Final', 'Midterm', 'Final']\n",
    "\n",
    "df = pd.DataFrame(data)\n",
    "df\n"
   ]
  },
  {
   "cell_type": "code",
   "execution_count": 7,
   "id": "0cfd6398",
   "metadata": {},
   "outputs": [
    {
     "name": "stdout",
     "output_type": "stream",
     "text": [
      "Course           Biology  History  Math\n",
      "Student Exam                           \n",
      "Alice   Final          1        0     0\n",
      "        Midterm        0        0     1\n",
      "Bob     Midterm        1        1     0\n",
      "Charlie Final          0        1     1\n"
     ]
    }
   ],
   "source": [
    "print(pd.crosstab([df['Student'], df['Exam']], df['Course']))\n"
   ]
  },
  {
   "cell_type": "code",
   "execution_count": null,
   "id": "a352da0d",
   "metadata": {},
   "outputs": [],
   "source": []
  }
 ],
 "metadata": {
  "kernelspec": {
   "display_name": "Python 3",
   "language": "python",
   "name": "python3"
  },
  "language_info": {
   "codemirror_mode": {
    "name": "ipython",
    "version": 3
   },
   "file_extension": ".py",
   "mimetype": "text/x-python",
   "name": "python",
   "nbconvert_exporter": "python",
   "pygments_lexer": "ipython3",
   "version": "3.8.3"
  }
 },
 "nbformat": 4,
 "nbformat_minor": 5
}
