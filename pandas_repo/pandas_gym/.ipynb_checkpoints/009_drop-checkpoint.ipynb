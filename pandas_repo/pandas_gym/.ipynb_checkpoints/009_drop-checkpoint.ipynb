{
 "cells": [
  {
   "cell_type": "code",
   "execution_count": null,
   "id": "dfe58504",
   "metadata": {},
   "outputs": [],
   "source": [
    "df.drop([index1, index2], inplace=True)\n",
    "df.drop(columns=['column_name1', 'column_name2'], inplace=True)\n",
    "df.drop(['column_name1', 'column_name2'], axis=1, inplace=True)\n",
    "condition = df['column_name'] == some_value | df.drop(df[condition].index, inplace=True)\n",
    "df.dropna(subset=['column_name'], inplace=True)\n",
    "df.dropna(how='all', inplace=True)\n",
    "df.dropna(axis=1, how='all', inplace=True)\n",
    "df.drop_duplicates(subset='column_name', inplace=True)\n",
    "df.drop(range(start_index, end_index), inplace=True)\n",
    "def custom_condition(row):\n",
    "    return True if some_condition else False\n",
    "\n",
    "indices_to_drop = df[df.apply(custom_condition, axis=1)].index\n",
    "df.drop(indices_to_drop, inplace=True)\n",
    "\n"
   ]
  }
 ],
 "metadata": {
  "kernelspec": {
   "display_name": "Python 3",
   "language": "python",
   "name": "python3"
  },
  "language_info": {
   "codemirror_mode": {
    "name": "ipython",
    "version": 3
   },
   "file_extension": ".py",
   "mimetype": "text/x-python",
   "name": "python",
   "nbconvert_exporter": "python",
   "pygments_lexer": "ipython3",
   "version": "3.8.3"
  }
 },
 "nbformat": 4,
 "nbformat_minor": 5
}
