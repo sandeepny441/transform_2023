{
 "cells": [
  {
   "cell_type": "code",
   "execution_count": 2,
   "id": "4ccb3793",
   "metadata": {},
   "outputs": [
    {
     "data": {
      "text/plain": [
       "0    1\n",
       "1    2\n",
       "2    3\n",
       "3    4\n",
       "4    5\n",
       "dtype: int64"
      ]
     },
     "execution_count": 2,
     "metadata": {},
     "output_type": "execute_result"
    }
   ],
   "source": [
    "import pandas as pd\n",
    "\n",
    "s = pd.Series([1, 2, 3, 4, 5])\n",
    "\n",
    "s\n"
   ]
  },
  {
   "cell_type": "code",
   "execution_count": 10,
   "id": "7163beda",
   "metadata": {},
   "outputs": [
    {
     "name": "stdout",
     "output_type": "stream",
     "text": [
      "0    1.0\n",
      "1    1.5\n",
      "2    2.0\n",
      "3    2.5\n",
      "4    3.0\n",
      "dtype: float64\n"
     ]
    }
   ],
   "source": [
    "# Calculate the expanding mean\n",
    "expanding_mean = s.expanding(min_periods=1).mean()\n",
    "print(expanding_mean)"
   ]
  },
  {
   "cell_type": "code",
   "execution_count": 8,
   "id": "6fbf7c83",
   "metadata": {},
   "outputs": [
    {
     "name": "stdout",
     "output_type": "stream",
     "text": [
      "0    NaN\n",
      "1    2.0\n",
      "2    3.0\n",
      "3    4.0\n",
      "4    5.0\n",
      "dtype: float64\n"
     ]
    }
   ],
   "source": [
    "# Calculate the expanding mean\n",
    "expanding_mean = s.expanding(min_periods=2).max()\n",
    "print(expanding_mean)"
   ]
  },
  {
   "cell_type": "code",
   "execution_count": 5,
   "id": "038d2a68",
   "metadata": {},
   "outputs": [
    {
     "name": "stdout",
     "output_type": "stream",
     "text": [
      "0    1.0\n",
      "1    2.0\n",
      "2    3.0\n",
      "3    4.0\n",
      "4    5.0\n",
      "dtype: float64\n"
     ]
    }
   ],
   "source": [
    "# Calculate the expanding mean\n",
    "expanding_mean = s.expanding(min_periods=1).max()\n",
    "print(expanding_mean)"
   ]
  },
  {
   "cell_type": "code",
   "execution_count": 7,
   "id": "3cece158",
   "metadata": {},
   "outputs": [
    {
     "name": "stdout",
     "output_type": "stream",
     "text": [
      "0    NaN\n",
      "1    2.0\n",
      "2    3.0\n",
      "3    4.0\n",
      "4    5.0\n",
      "dtype: float64\n"
     ]
    }
   ],
   "source": [
    "# Calculate the expanding mean\n",
    "expanding_mean = s.expanding(min_periods=2).max()\n",
    "print(expanding_mean)"
   ]
  },
  {
   "cell_type": "code",
   "execution_count": 12,
   "id": "729bdfc8",
   "metadata": {},
   "outputs": [
    {
     "name": "stdout",
     "output_type": "stream",
     "text": [
      "0     1.0\n",
      "1     3.0\n",
      "2     6.0\n",
      "3    10.0\n",
      "4    15.0\n",
      "dtype: float64\n"
     ]
    }
   ],
   "source": [
    "# Calculate the expanding mean\n",
    "expanding_mean = s.expanding(min_periods=1).sum()\n",
    "print(expanding_mean)"
   ]
  },
  {
   "cell_type": "code",
   "execution_count": 14,
   "id": "d1cb27f7",
   "metadata": {},
   "outputs": [
    {
     "data": {
      "text/plain": [
       "0    1\n",
       "1    2\n",
       "2    3\n",
       "3    4\n",
       "4    5\n",
       "dtype: int64"
      ]
     },
     "execution_count": 14,
     "metadata": {},
     "output_type": "execute_result"
    }
   ],
   "source": [
    "s"
   ]
  },
  {
   "cell_type": "code",
   "execution_count": 13,
   "id": "7de1afd6",
   "metadata": {},
   "outputs": [
    {
     "name": "stdout",
     "output_type": "stream",
     "text": [
      "0    NaN\n",
      "1    NaN\n",
      "2    NaN\n",
      "3    2.5\n",
      "4    3.0\n",
      "dtype: float64\n"
     ]
    }
   ],
   "source": [
    "# Calculate the expanding mean\n",
    "expanding_mean = s.expanding(min_periods=4).mean()\n",
    "print(expanding_mean)"
   ]
  },
  {
   "cell_type": "code",
   "execution_count": 19,
   "id": "a9ed7414",
   "metadata": {},
   "outputs": [
    {
     "name": "stdout",
     "output_type": "stream",
     "text": [
      "0    1.0\n",
      "1    2.0\n",
      "2    3.0\n",
      "3    4.0\n",
      "4    5.0\n",
      "dtype: float64\n"
     ]
    }
   ],
   "source": [
    "def custom_function(data):\n",
    "    return (data.max() + data.max()) / 2\n",
    "\n",
    "expanding_custom = s.expanding(min_periods=1).apply(custom_function)\n",
    "print(expanding_custom)\n"
   ]
  },
  {
   "cell_type": "code",
   "execution_count": 21,
   "id": "e38afe06",
   "metadata": {},
   "outputs": [
    {
     "data": {
      "text/plain": [
       "4    5\n",
       "3    4\n",
       "2    3\n",
       "1    2\n",
       "0    1\n",
       "dtype: int64"
      ]
     },
     "execution_count": 21,
     "metadata": {},
     "output_type": "execute_result"
    }
   ],
   "source": [
    "s_reverse = s [::-1]\n",
    "s_reverse"
   ]
  },
  {
   "cell_type": "code",
   "execution_count": 25,
   "id": "ddee4e23",
   "metadata": {},
   "outputs": [
    {
     "name": "stdout",
     "output_type": "stream",
     "text": [
      "4    5.0\n",
      "3    5.0\n",
      "2    5.0\n",
      "1    5.0\n",
      "0    5.0\n",
      "dtype: float64\n"
     ]
    }
   ],
   "source": [
    "def custom_function(data):\n",
    "    return (data.max() + data.max()) / 2\n",
    "\n",
    "expanding_custom = s_reverse.expanding(min_periods=1).apply(custom_function)\n",
    "print(expanding_custom)\n"
   ]
  },
  {
   "cell_type": "code",
   "execution_count": 24,
   "id": "af8b5d0b",
   "metadata": {},
   "outputs": [
    {
     "name": "stdout",
     "output_type": "stream",
     "text": [
      "4    5.0\n",
      "3    4.5\n",
      "2    4.0\n",
      "1    3.5\n",
      "0    3.0\n",
      "dtype: float64\n"
     ]
    }
   ],
   "source": [
    "def custom_function(data):\n",
    "    return (data.max() + data.min()) / 2\n",
    "\n",
    "expanding_custom = s_reverse.expanding(min_periods=1).apply(custom_function)\n",
    "print(expanding_custom)\n"
   ]
  },
  {
   "cell_type": "code",
   "execution_count": 29,
   "id": "5eedb88e",
   "metadata": {},
   "outputs": [
    {
     "name": "stdout",
     "output_type": "stream",
     "text": [
      "4    NaN\n",
      "3    4.0\n",
      "2    3.0\n",
      "1    2.0\n",
      "0    1.0\n",
      "dtype: float64\n"
     ]
    }
   ],
   "source": [
    "def custom_function(data):\n",
    "    return (data.min() + data.min()) / 2\n",
    "\n",
    "expanding_custom = s_reverse.expanding(min_periods=2).apply(custom_function)\n",
    "print(expanding_custom)"
   ]
  },
  {
   "cell_type": "code",
   "execution_count": null,
   "id": "d3c6792f",
   "metadata": {},
   "outputs": [],
   "source": []
  }
 ],
 "metadata": {
  "kernelspec": {
   "display_name": "Python 3",
   "language": "python",
   "name": "python3"
  },
  "language_info": {
   "codemirror_mode": {
    "name": "ipython",
    "version": 3
   },
   "file_extension": ".py",
   "mimetype": "text/x-python",
   "name": "python",
   "nbconvert_exporter": "python",
   "pygments_lexer": "ipython3",
   "version": "3.8.3"
  }
 },
 "nbformat": 4,
 "nbformat_minor": 5
}
