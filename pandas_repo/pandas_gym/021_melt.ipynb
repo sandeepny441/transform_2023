{
 "cells": [
  {
   "cell_type": "code",
   "execution_count": 1,
   "id": "8cb74848",
   "metadata": {},
   "outputs": [
    {
     "name": "stdout",
     "output_type": "stream",
     "text": [
      "    A   B   C\n",
      "0  A1  B1  C1\n",
      "1  A2  B2  C2\n",
      "2  A3  B3  C3\n"
     ]
    }
   ],
   "source": [
    "import pandas as pd\n",
    "\n",
    "df = pd.DataFrame({\n",
    "    'A': ['A1', 'A2', 'A3'],\n",
    "    'B': ['B1', 'B2', 'B3'],\n",
    "    'C': ['C1', 'C2', 'C3']\n",
    "})\n",
    "\n",
    "print(df)\n"
   ]
  },
  {
   "cell_type": "code",
   "execution_count": 7,
   "id": "0fee2ace",
   "metadata": {},
   "outputs": [
    {
     "name": "stdout",
     "output_type": "stream",
     "text": [
      "  variable value\n",
      "0        A    A1\n",
      "1        A    A2\n",
      "2        A    A3\n",
      "3        B    B1\n",
      "4        B    B2\n",
      "5        B    B3\n",
      "6        C    C1\n",
      "7        C    C2\n",
      "8        C    C3\n"
     ]
    }
   ],
   "source": [
    "melted = df.melt()\n",
    "print(melted)"
   ]
  },
  {
   "cell_type": "code",
   "execution_count": 10,
   "id": "25c6fe00",
   "metadata": {},
   "outputs": [
    {
     "data": {
      "text/html": [
       "<div>\n",
       "<style scoped>\n",
       "    .dataframe tbody tr th:only-of-type {\n",
       "        vertical-align: middle;\n",
       "    }\n",
       "\n",
       "    .dataframe tbody tr th {\n",
       "        vertical-align: top;\n",
       "    }\n",
       "\n",
       "    .dataframe thead th {\n",
       "        text-align: right;\n",
       "    }\n",
       "</style>\n",
       "<table border=\"1\" class=\"dataframe\">\n",
       "  <thead>\n",
       "    <tr style=\"text-align: right;\">\n",
       "      <th></th>\n",
       "      <th>Name</th>\n",
       "      <th>Math</th>\n",
       "      <th>Science</th>\n",
       "    </tr>\n",
       "  </thead>\n",
       "  <tbody>\n",
       "    <tr>\n",
       "      <th>0</th>\n",
       "      <td>John</td>\n",
       "      <td>85</td>\n",
       "      <td>90</td>\n",
       "    </tr>\n",
       "    <tr>\n",
       "      <th>1</th>\n",
       "      <td>Jane</td>\n",
       "      <td>88</td>\n",
       "      <td>89</td>\n",
       "    </tr>\n",
       "    <tr>\n",
       "      <th>2</th>\n",
       "      <td>Doe</td>\n",
       "      <td>78</td>\n",
       "      <td>85</td>\n",
       "    </tr>\n",
       "  </tbody>\n",
       "</table>\n",
       "</div>"
      ],
      "text/plain": [
       "   Name  Math  Science\n",
       "0  John    85       90\n",
       "1  Jane    88       89\n",
       "2   Doe    78       85"
      ]
     },
     "execution_count": 10,
     "metadata": {},
     "output_type": "execute_result"
    }
   ],
   "source": [
    "df = pd.DataFrame({\n",
    "    'Name': ['John', 'Jane', 'Doe'],\n",
    "    'Math': [85, 88, 78],\n",
    "    'Science': [90, 89, 85]\n",
    "})\n",
    "df"
   ]
  },
  {
   "cell_type": "code",
   "execution_count": 9,
   "id": "9d196cec",
   "metadata": {},
   "outputs": [
    {
     "name": "stdout",
     "output_type": "stream",
     "text": [
      "   Name  Subject  Score\n",
      "0  John     Math     85\n",
      "1  Jane     Math     88\n",
      "2   Doe     Math     78\n",
      "3  John  Science     90\n",
      "4  Jane  Science     89\n",
      "5   Doe  Science     85\n"
     ]
    }
   ],
   "source": [
    "melted = df.melt(id_vars=['Name'], value_vars=['Math', 'Science'], var_name='Subject', value_name='Score')\n",
    "print(melted)"
   ]
  },
  {
   "cell_type": "code",
   "execution_count": 11,
   "id": "3ba9e057",
   "metadata": {},
   "outputs": [
    {
     "name": "stdout",
     "output_type": "stream",
     "text": [
      "   Name Subject  Score\n",
      "0  John    Math     85\n",
      "1  Jane    Math     88\n",
      "2   Doe    Math     78\n"
     ]
    }
   ],
   "source": [
    "melted = df.melt(id_vars=['Name'], value_vars=['Math'], var_name='Subject', value_name='Score')\n",
    "print(melted)\n"
   ]
  },
  {
   "cell_type": "code",
   "execution_count": null,
   "id": "92ae5a2c",
   "metadata": {},
   "outputs": [],
   "source": []
  }
 ],
 "metadata": {
  "kernelspec": {
   "display_name": "Python 3",
   "language": "python",
   "name": "python3"
  },
  "language_info": {
   "codemirror_mode": {
    "name": "ipython",
    "version": 3
   },
   "file_extension": ".py",
   "mimetype": "text/x-python",
   "name": "python",
   "nbconvert_exporter": "python",
   "pygments_lexer": "ipython3",
   "version": "3.8.3"
  }
 },
 "nbformat": 4,
 "nbformat_minor": 5
}
