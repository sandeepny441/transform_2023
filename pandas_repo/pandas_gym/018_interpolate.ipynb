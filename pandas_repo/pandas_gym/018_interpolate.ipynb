{
 "cells": [
  {
   "cell_type": "code",
   "execution_count": 2,
   "id": "5f1a4aa8",
   "metadata": {},
   "outputs": [
    {
     "data": {
      "text/plain": [
       "0    1.0\n",
       "1    2.0\n",
       "2    NaN\n",
       "3    4.0\n",
       "4    5.0\n",
       "5    NaN\n",
       "6    7.0\n",
       "dtype: float64"
      ]
     },
     "execution_count": 2,
     "metadata": {},
     "output_type": "execute_result"
    }
   ],
   "source": [
    "import pandas as pd\n",
    "import numpy as np\n",
    "\n",
    "# Sample Series with missing values\n",
    "s = pd.Series([1, 2, np.nan, 4, 5, np.nan, 7])\n",
    "\n",
    "s\n"
   ]
  },
  {
   "cell_type": "code",
   "execution_count": 3,
   "id": "72e90ebf",
   "metadata": {},
   "outputs": [
    {
     "name": "stdout",
     "output_type": "stream",
     "text": [
      "0    1.0\n",
      "1    2.0\n",
      "2    3.0\n",
      "3    4.0\n",
      "4    5.0\n",
      "5    6.0\n",
      "6    7.0\n",
      "dtype: float64\n"
     ]
    }
   ],
   "source": [
    "# Interpolate missing values\n",
    "s_interpolated = s.interpolate()\n",
    "\n",
    "print(s_interpolated)"
   ]
  },
  {
   "cell_type": "code",
   "execution_count": 5,
   "id": "9e0b0bc8",
   "metadata": {},
   "outputs": [
    {
     "data": {
      "text/plain": [
       "0    1.0\n",
       "1    2.0\n",
       "2    NaN\n",
       "3    4.0\n",
       "4    5.0\n",
       "5    NaN\n",
       "6    7.0\n",
       "dtype: float64"
      ]
     },
     "execution_count": 5,
     "metadata": {},
     "output_type": "execute_result"
    }
   ],
   "source": [
    "s"
   ]
  },
  {
   "cell_type": "code",
   "execution_count": 4,
   "id": "2c76aa24",
   "metadata": {},
   "outputs": [
    {
     "name": "stdout",
     "output_type": "stream",
     "text": [
      "0    1.0\n",
      "1    2.0\n",
      "2    3.0\n",
      "3    4.0\n",
      "4    5.0\n",
      "5    6.0\n",
      "6    7.0\n",
      "dtype: float64\n"
     ]
    }
   ],
   "source": [
    "s_poly = s.interpolate(method='polynomial', order=2)\n",
    "print(s_poly)\n"
   ]
  },
  {
   "cell_type": "code",
   "execution_count": 11,
   "id": "b27e0932",
   "metadata": {},
   "outputs": [
    {
     "name": "stdout",
     "output_type": "stream",
     "text": [
      "0    1.0\n",
      "1    2.0\n",
      "2    3.0\n",
      "3    4.0\n",
      "4    5.0\n",
      "5    6.0\n",
      "6    7.0\n",
      "dtype: float64\n"
     ]
    }
   ],
   "source": [
    "s_poly = s.interpolate(method='polynomial', order=2)\n",
    "print(s_poly)"
   ]
  },
  {
   "cell_type": "code",
   "execution_count": 12,
   "id": "f117dd02",
   "metadata": {},
   "outputs": [
    {
     "data": {
      "text/plain": [
       "0     1.0\n",
       "1     4.0\n",
       "2     NaN\n",
       "3    16.0\n",
       "dtype: float64"
      ]
     },
     "execution_count": 12,
     "metadata": {},
     "output_type": "execute_result"
    }
   ],
   "source": [
    "# Sample Series with missing values\n",
    "s = pd.Series([1, 4, np.nan, 16])\n",
    "\n",
    "s"
   ]
  },
  {
   "cell_type": "code",
   "execution_count": 13,
   "id": "1e8df2d1",
   "metadata": {},
   "outputs": [
    {
     "name": "stdout",
     "output_type": "stream",
     "text": [
      "0     1.0\n",
      "1     4.0\n",
      "2     9.0\n",
      "3    16.0\n",
      "dtype: float64\n"
     ]
    }
   ],
   "source": [
    "s_poly = s.interpolate(method='polynomial', order=2)\n",
    "print(s_poly)"
   ]
  },
  {
   "cell_type": "code",
   "execution_count": 14,
   "id": "e9f75924",
   "metadata": {},
   "outputs": [
    {
     "name": "stdout",
     "output_type": "stream",
     "text": [
      "0     1.0\n",
      "1     4.0\n",
      "2    10.0\n",
      "3    16.0\n",
      "dtype: float64\n"
     ]
    }
   ],
   "source": [
    "s_poly = s.interpolate(method='polynomial', order=1)\n",
    "print(s_poly)"
   ]
  },
  {
   "cell_type": "markdown",
   "id": "5fdc6994",
   "metadata": {},
   "source": [
    "For a polynomial of degree n, you need at least n+1 non-missing data points to determine the coefficients of the polynomial."
   ]
  },
  {
   "cell_type": "code",
   "execution_count": 16,
   "id": "ce5f3b6a",
   "metadata": {},
   "outputs": [],
   "source": [
    "# s_poly = s.interpolate(method='polynomial', order=3)\n",
    "# print(s_poly\n",
    "\n",
    "# For a polynomial of degree n, you need \n",
    "# at least n+1 non-missing data points to determine \n",
    "# the coefficients of the polynomial.\n",
    "\n",
    "#throws error"
   ]
  },
  {
   "cell_type": "code",
   "execution_count": 17,
   "id": "5b5fd5cf",
   "metadata": {},
   "outputs": [
    {
     "name": "stdout",
     "output_type": "stream",
     "text": [
      "0     1.0\n",
      "1     4.0\n",
      "2     9.0\n",
      "3    16.0\n",
      "dtype: float64\n"
     ]
    }
   ],
   "source": [
    "s_spline = s.interpolate(method='spline', order=2)\n",
    "print(s_spline)\n"
   ]
  },
  {
   "cell_type": "code",
   "execution_count": 19,
   "id": "5cd579b8",
   "metadata": {},
   "outputs": [
    {
     "name": "stdout",
     "output_type": "stream",
     "text": [
      "0     1.000000\n",
      "1     4.000000\n",
      "2    10.428571\n",
      "3    16.000000\n",
      "dtype: float64\n"
     ]
    }
   ],
   "source": [
    "s_spline = s.interpolate(method='spline', order=1)\n",
    "print(s_spline)"
   ]
  },
  {
   "cell_type": "code",
   "execution_count": 20,
   "id": "750304ad",
   "metadata": {},
   "outputs": [
    {
     "name": "stdout",
     "output_type": "stream",
     "text": [
      "0     1.0\n",
      "1     4.0\n",
      "2    10.0\n",
      "3    16.0\n",
      "dtype: float64\n"
     ]
    }
   ],
   "source": [
    "s_spline = s.interpolate(method='polynomial', order=1)\n",
    "print(s_spline)"
   ]
  },
  {
   "cell_type": "code",
   "execution_count": 21,
   "id": "d74d5cf2",
   "metadata": {},
   "outputs": [
    {
     "data": {
      "text/html": [
       "<div>\n",
       "<style scoped>\n",
       "    .dataframe tbody tr th:only-of-type {\n",
       "        vertical-align: middle;\n",
       "    }\n",
       "\n",
       "    .dataframe tbody tr th {\n",
       "        vertical-align: top;\n",
       "    }\n",
       "\n",
       "    .dataframe thead th {\n",
       "        text-align: right;\n",
       "    }\n",
       "</style>\n",
       "<table border=\"1\" class=\"dataframe\">\n",
       "  <thead>\n",
       "    <tr style=\"text-align: right;\">\n",
       "      <th></th>\n",
       "      <th>A</th>\n",
       "      <th>B</th>\n",
       "    </tr>\n",
       "  </thead>\n",
       "  <tbody>\n",
       "    <tr>\n",
       "      <th>0</th>\n",
       "      <td>1.0</td>\n",
       "      <td>0.5</td>\n",
       "    </tr>\n",
       "    <tr>\n",
       "      <th>1</th>\n",
       "      <td>2.5</td>\n",
       "      <td>NaN</td>\n",
       "    </tr>\n",
       "    <tr>\n",
       "      <th>2</th>\n",
       "      <td>NaN</td>\n",
       "      <td>2.5</td>\n",
       "    </tr>\n",
       "    <tr>\n",
       "      <th>3</th>\n",
       "      <td>4.5</td>\n",
       "      <td>3.5</td>\n",
       "    </tr>\n",
       "    <tr>\n",
       "      <th>4</th>\n",
       "      <td>5.5</td>\n",
       "      <td>NaN</td>\n",
       "    </tr>\n",
       "    <tr>\n",
       "      <th>5</th>\n",
       "      <td>NaN</td>\n",
       "      <td>6.5</td>\n",
       "    </tr>\n",
       "    <tr>\n",
       "      <th>6</th>\n",
       "      <td>7.5</td>\n",
       "      <td>7.5</td>\n",
       "    </tr>\n",
       "  </tbody>\n",
       "</table>\n",
       "</div>"
      ],
      "text/plain": [
       "     A    B\n",
       "0  1.0  0.5\n",
       "1  2.5  NaN\n",
       "2  NaN  2.5\n",
       "3  4.5  3.5\n",
       "4  5.5  NaN\n",
       "5  NaN  6.5\n",
       "6  7.5  7.5"
      ]
     },
     "execution_count": 21,
     "metadata": {},
     "output_type": "execute_result"
    }
   ],
   "source": [
    "df = pd.DataFrame({\n",
    "    'A': [1, 2.5, np.nan, 4.5, 5.5, np.nan, 7.5],\n",
    "    'B': [0.5, np.nan, 2.5, 3.5, np.nan, 6.5, 7.5]\n",
    "})\n",
    "df\n",
    "\n"
   ]
  },
  {
   "cell_type": "code",
   "execution_count": 22,
   "id": "0995b551",
   "metadata": {},
   "outputs": [
    {
     "name": "stdout",
     "output_type": "stream",
     "text": [
      "     A    B\n",
      "0  1.0  0.5\n",
      "1  2.5  1.5\n",
      "2  3.5  2.5\n",
      "3  4.5  3.5\n",
      "4  5.5  5.0\n",
      "5  6.5  6.5\n",
      "6  7.5  7.5\n"
     ]
    }
   ],
   "source": [
    "df_interpolated = df.interpolate()\n",
    "print(df_interpolated)"
   ]
  },
  {
   "cell_type": "code",
   "execution_count": 24,
   "id": "8f4fd0d6",
   "metadata": {},
   "outputs": [
    {
     "name": "stdout",
     "output_type": "stream",
     "text": [
      "          A         B\n",
      "0  1.000000  0.500000\n",
      "1  2.500000  1.525641\n",
      "2  3.581197  2.500000\n",
      "3  4.500000  3.500000\n",
      "4  5.500000  4.987179\n",
      "5  6.504274  6.500000\n",
      "6  7.500000  7.500000\n"
     ]
    }
   ],
   "source": [
    "df_interpolated = df.interpolate(method='polynomial', order=2)\n",
    "print(df_interpolated)"
   ]
  },
  {
   "cell_type": "code",
   "execution_count": 25,
   "id": "af2b6a47",
   "metadata": {},
   "outputs": [
    {
     "data": {
      "text/plain": [
       "2021-01-01    1.0\n",
       "2021-01-02    2.0\n",
       "2021-01-03    NaN\n",
       "2021-01-04    4.0\n",
       "2021-01-05    5.0\n",
       "2021-01-06    NaN\n",
       "2021-01-07    7.0\n",
       "Freq: D, dtype: float64"
      ]
     },
     "execution_count": 25,
     "metadata": {},
     "output_type": "execute_result"
    }
   ],
   "source": [
    "date_index = pd.date_range(start='2021-01-01', periods=7)\n",
    "s_date = pd.Series([1, 2, np.nan, 4, 5, np.nan, 7], index=date_index)\n",
    "\n",
    "\n",
    "s_date\n"
   ]
  },
  {
   "cell_type": "code",
   "execution_count": 26,
   "id": "e4187303",
   "metadata": {},
   "outputs": [
    {
     "name": "stdout",
     "output_type": "stream",
     "text": [
      "2021-01-01    1.0\n",
      "2021-01-02    2.0\n",
      "2021-01-03    3.0\n",
      "2021-01-04    4.0\n",
      "2021-01-05    5.0\n",
      "2021-01-06    6.0\n",
      "2021-01-07    7.0\n",
      "Freq: D, dtype: float64\n"
     ]
    }
   ],
   "source": [
    "# Interpolate using the date index\n",
    "s_date_interpolated = s_date.interpolate(method='time')\n",
    "print(s_date_interpolated)\n"
   ]
  },
  {
   "cell_type": "code",
   "execution_count": 31,
   "id": "fa1e35c9",
   "metadata": {},
   "outputs": [
    {
     "data": {
      "text/plain": [
       "2021-01-01    1.0\n",
       "2021-01-02    2.0\n",
       "2021-01-03    NaN\n",
       "2021-01-04    4.0\n",
       "2021-01-05    5.0\n",
       "2021-01-06    NaN\n",
       "2021-01-07    7.0\n",
       "Freq: D, dtype: float64"
      ]
     },
     "execution_count": 31,
     "metadata": {},
     "output_type": "execute_result"
    }
   ],
   "source": [
    "date_index = pd.date_range(start='2021-01-01', periods=7)\n",
    "s_date = pd.Series([1, 2, np.nan, 4, 5, np.nan, 7], index=date_index)\n",
    "s_date"
   ]
  },
  {
   "cell_type": "code",
   "execution_count": 32,
   "id": "9bbfda0e",
   "metadata": {},
   "outputs": [
    {
     "name": "stdout",
     "output_type": "stream",
     "text": [
      "2021-01-01    1.0\n",
      "2021-01-02    2.0\n",
      "2021-01-03    3.0\n",
      "2021-01-04    4.0\n",
      "2021-01-05    5.0\n",
      "2021-01-06    6.0\n",
      "2021-01-07    7.0\n",
      "Freq: D, dtype: float64\n"
     ]
    }
   ],
   "source": [
    "s_date_interpolated = s_date.interpolate(method='time')\n",
    "print(s_date_interpolated)"
   ]
  },
  {
   "cell_type": "code",
   "execution_count": 38,
   "id": "8f6ed13f",
   "metadata": {},
   "outputs": [
    {
     "data": {
      "text/plain": [
       "DatetimeIndex(['2021-01-01', '2021-01-02', '2021-01-03', '2021-01-05',\n",
       "               '2021-01-06', '2021-01-07'],\n",
       "              dtype='datetime64[ns]', freq=None)"
      ]
     },
     "execution_count": 38,
     "metadata": {},
     "output_type": "execute_result"
    }
   ],
   "source": [
    "date_index_missed = pd.date_range(start='2021-01-01', end='2021-01-07').drop(pd.Timestamp('2021-01-04'))\n",
    "date_index_missed"
   ]
  },
  {
   "cell_type": "code",
   "execution_count": null,
   "id": "ec123e40",
   "metadata": {},
   "outputs": [],
   "source": []
  },
  {
   "cell_type": "code",
   "execution_count": 39,
   "id": "9e9f1a7a",
   "metadata": {},
   "outputs": [
    {
     "data": {
      "text/plain": [
       "2021-01-01    1.0\n",
       "2021-01-02    2.0\n",
       "2021-01-03    NaN\n",
       "2021-01-05    5.0\n",
       "2021-01-06    NaN\n",
       "2021-01-07    7.0\n",
       "dtype: float64"
      ]
     },
     "execution_count": 39,
     "metadata": {},
     "output_type": "execute_result"
    }
   ],
   "source": [
    "s_date_missed = pd.Series([1, 2, np.nan, 5, np.nan, 7], index=date_index_missed)\n",
    "\n",
    "s_date_missed"
   ]
  },
  {
   "cell_type": "code",
   "execution_count": 34,
   "id": "06954542",
   "metadata": {},
   "outputs": [
    {
     "name": "stdout",
     "output_type": "stream",
     "text": [
      "2021-01-01    1.0\n",
      "2021-01-02    2.0\n",
      "2021-01-03    3.0\n",
      "2021-01-05    5.0\n",
      "2021-01-06    6.0\n",
      "2021-01-07    7.0\n",
      "dtype: float64\n"
     ]
    }
   ],
   "source": [
    "s_date_missed_interpolated = s_date_missed.interpolate(method='time')\n",
    "print(s_date_missed_interpolated)"
   ]
  },
  {
   "cell_type": "code",
   "execution_count": 27,
   "id": "009740d6",
   "metadata": {},
   "outputs": [
    {
     "data": {
      "text/plain": [
       "0    1.0\n",
       "1    NaN\n",
       "2    NaN\n",
       "3    4.0\n",
       "4    5.0\n",
       "5    NaN\n",
       "6    7.0\n",
       "dtype: float64"
      ]
     },
     "execution_count": 27,
     "metadata": {},
     "output_type": "execute_result"
    }
   ],
   "source": [
    "s_limit = pd.Series([1, np.nan, np.nan, 4, 5, np.nan, 7])\n",
    "s_limit\n"
   ]
  },
  {
   "cell_type": "code",
   "execution_count": 29,
   "id": "71ab2942",
   "metadata": {},
   "outputs": [
    {
     "name": "stdout",
     "output_type": "stream",
     "text": [
      "0    1.0\n",
      "1    2.0\n",
      "2    NaN\n",
      "3    4.0\n",
      "4    5.0\n",
      "5    6.0\n",
      "6    7.0\n",
      "dtype: float64\n"
     ]
    }
   ],
   "source": [
    "s_limit_interpolated = s_limit.interpolate(limit=1)\n",
    "print(s_limit_interpolated)\n",
    "\n",
    "#limits consecutive interpolations"
   ]
  },
  {
   "cell_type": "code",
   "execution_count": 40,
   "id": "f12efd90",
   "metadata": {},
   "outputs": [
    {
     "data": {
      "text/plain": [
       "2021-01-01    1.0\n",
       "2021-01-02    2.0\n",
       "2021-01-03    NaN\n",
       "2021-01-05    5.0\n",
       "2021-01-06    NaN\n",
       "2021-01-07    7.0\n",
       "dtype: float64"
      ]
     },
     "execution_count": 40,
     "metadata": {},
     "output_type": "execute_result"
    }
   ],
   "source": [
    "import pandas as pd\n",
    "import numpy as np\n",
    "\n",
    "# Original series with a missing date '2021-01-04'\n",
    "date_index_missed = pd.date_range(start='2021-01-01', end='2021-01-07').drop(pd.Timestamp('2021-01-04'))\n",
    "s_date_missed = pd.Series([1, 2, np.nan, 5, np.nan, 7], index=date_index_missed)\n",
    "\n",
    "s_date_missed\n",
    "\n"
   ]
  },
  {
   "cell_type": "code",
   "execution_count": 43,
   "id": "2e24e45e",
   "metadata": {},
   "outputs": [
    {
     "data": {
      "text/html": [
       "<div>\n",
       "<style scoped>\n",
       "    .dataframe tbody tr th:only-of-type {\n",
       "        vertical-align: middle;\n",
       "    }\n",
       "\n",
       "    .dataframe tbody tr th {\n",
       "        vertical-align: top;\n",
       "    }\n",
       "\n",
       "    .dataframe thead th {\n",
       "        text-align: right;\n",
       "    }\n",
       "</style>\n",
       "<table border=\"1\" class=\"dataframe\">\n",
       "  <thead>\n",
       "    <tr style=\"text-align: right;\">\n",
       "      <th></th>\n",
       "      <th>0</th>\n",
       "    </tr>\n",
       "  </thead>\n",
       "  <tbody>\n",
       "    <tr>\n",
       "      <th>2021-01-01</th>\n",
       "      <td>2021-01-01</td>\n",
       "    </tr>\n",
       "    <tr>\n",
       "      <th>2021-01-02</th>\n",
       "      <td>2021-01-02</td>\n",
       "    </tr>\n",
       "    <tr>\n",
       "      <th>2021-01-03</th>\n",
       "      <td>2021-01-03</td>\n",
       "    </tr>\n",
       "    <tr>\n",
       "      <th>2021-01-04</th>\n",
       "      <td>2021-01-04</td>\n",
       "    </tr>\n",
       "    <tr>\n",
       "      <th>2021-01-05</th>\n",
       "      <td>2021-01-05</td>\n",
       "    </tr>\n",
       "    <tr>\n",
       "      <th>2021-01-06</th>\n",
       "      <td>2021-01-06</td>\n",
       "    </tr>\n",
       "    <tr>\n",
       "      <th>2021-01-07</th>\n",
       "      <td>2021-01-07</td>\n",
       "    </tr>\n",
       "  </tbody>\n",
       "</table>\n",
       "</div>"
      ],
      "text/plain": [
       "                    0\n",
       "2021-01-01 2021-01-01\n",
       "2021-01-02 2021-01-02\n",
       "2021-01-03 2021-01-03\n",
       "2021-01-04 2021-01-04\n",
       "2021-01-05 2021-01-05\n",
       "2021-01-06 2021-01-06\n",
       "2021-01-07 2021-01-07"
      ]
     },
     "execution_count": 43,
     "metadata": {},
     "output_type": "execute_result"
    }
   ],
   "source": [
    "# Create a full date range without any missing dates\n",
    "full_date_index = pd.date_range(start='2021-01-01', end='2021-01-07')\n",
    "full_date_index.to_frame()"
   ]
  },
  {
   "cell_type": "code",
   "execution_count": 44,
   "id": "82389c87",
   "metadata": {},
   "outputs": [
    {
     "data": {
      "text/plain": [
       "2021-01-01    1.0\n",
       "2021-01-02    2.0\n",
       "2021-01-03    NaN\n",
       "2021-01-04    NaN\n",
       "2021-01-05    5.0\n",
       "2021-01-06    NaN\n",
       "2021-01-07    7.0\n",
       "Freq: D, dtype: float64"
      ]
     },
     "execution_count": 44,
     "metadata": {},
     "output_type": "execute_result"
    }
   ],
   "source": [
    "# Reindex the original series with the full date range\n",
    "s_reindexed = s_date_missed.reindex(full_date_index)\n",
    "s_reindexed"
   ]
  },
  {
   "cell_type": "code",
   "execution_count": null,
   "id": "2b0fb705",
   "metadata": {},
   "outputs": [],
   "source": []
  },
  {
   "cell_type": "code",
   "execution_count": 45,
   "id": "a99629ee",
   "metadata": {},
   "outputs": [
    {
     "name": "stdout",
     "output_type": "stream",
     "text": [
      "2021-01-01    1.0\n",
      "2021-01-02    2.0\n",
      "2021-01-03    3.0\n",
      "2021-01-04    4.0\n",
      "2021-01-05    5.0\n",
      "2021-01-06    6.0\n",
      "2021-01-07    7.0\n",
      "Freq: D, dtype: float64\n"
     ]
    }
   ],
   "source": [
    "# Interpolate the values based on the new index\n",
    "s_interpolated = s_reindexed.interpolate(method='time')\n",
    "\n",
    "print(s_interpolated)"
   ]
  },
  {
   "cell_type": "code",
   "execution_count": null,
   "id": "09ca1b73",
   "metadata": {},
   "outputs": [],
   "source": []
  }
 ],
 "metadata": {
  "kernelspec": {
   "display_name": "Python 3",
   "language": "python",
   "name": "python3"
  },
  "language_info": {
   "codemirror_mode": {
    "name": "ipython",
    "version": 3
   },
   "file_extension": ".py",
   "mimetype": "text/x-python",
   "name": "python",
   "nbconvert_exporter": "python",
   "pygments_lexer": "ipython3",
   "version": "3.8.3"
  }
 },
 "nbformat": 4,
 "nbformat_minor": 5
}
