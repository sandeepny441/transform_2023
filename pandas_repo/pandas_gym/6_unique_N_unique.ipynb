{
 "cells": [
  {
   "cell_type": "code",
   "execution_count": 13,
   "id": "25f4d37e",
   "metadata": {},
   "outputs": [
    {
     "name": "stdout",
     "output_type": "stream",
     "text": [
      "[ 1.  2.  3.  4.  5. nan]\n"
     ]
    }
   ],
   "source": [
    "import pandas as pd\n",
    "\n",
    "s = pd.Series([1, 1, 2, 3, 4, 4, 5, 5, 5, None])\n",
    "print(s.unique())\n"
   ]
  },
  {
   "cell_type": "code",
   "execution_count": 14,
   "id": "cf01bf97",
   "metadata": {},
   "outputs": [
    {
     "name": "stdout",
     "output_type": "stream",
     "text": [
      "5\n"
     ]
    }
   ],
   "source": [
    "s = pd.Series([1, 1, 2, 3, 4, 4, 5, 5, 5, None])\n",
    "print(s.nunique())"
   ]
  },
  {
   "cell_type": "code",
   "execution_count": 15,
   "id": "131d05ae",
   "metadata": {},
   "outputs": [
    {
     "name": "stdout",
     "output_type": "stream",
     "text": [
      "6\n"
     ]
    }
   ],
   "source": [
    "s = pd.Series([1, 1, 2, 3, 4, 4, 5, 5, 5, None])\n",
    "print(s.nunique(dropna = False))"
   ]
  },
  {
   "cell_type": "code",
   "execution_count": 16,
   "id": "d8e5d947",
   "metadata": {},
   "outputs": [
    {
     "data": {
      "text/html": [
       "<div>\n",
       "<style scoped>\n",
       "    .dataframe tbody tr th:only-of-type {\n",
       "        vertical-align: middle;\n",
       "    }\n",
       "\n",
       "    .dataframe tbody tr th {\n",
       "        vertical-align: top;\n",
       "    }\n",
       "\n",
       "    .dataframe thead th {\n",
       "        text-align: right;\n",
       "    }\n",
       "</style>\n",
       "<table border=\"1\" class=\"dataframe\">\n",
       "  <thead>\n",
       "    <tr style=\"text-align: right;\">\n",
       "      <th></th>\n",
       "      <th>customer_id</th>\n",
       "      <th>order_id</th>\n",
       "      <th>item</th>\n",
       "    </tr>\n",
       "  </thead>\n",
       "  <tbody>\n",
       "    <tr>\n",
       "      <th>0</th>\n",
       "      <td>A</td>\n",
       "      <td>1</td>\n",
       "      <td>Soup</td>\n",
       "    </tr>\n",
       "    <tr>\n",
       "      <th>1</th>\n",
       "      <td>A</td>\n",
       "      <td>1</td>\n",
       "      <td>Bread</td>\n",
       "    </tr>\n",
       "    <tr>\n",
       "      <th>2</th>\n",
       "      <td>B</td>\n",
       "      <td>2</td>\n",
       "      <td>Lemon</td>\n",
       "    </tr>\n",
       "    <tr>\n",
       "      <th>3</th>\n",
       "      <td>B</td>\n",
       "      <td>2</td>\n",
       "      <td>Bread</td>\n",
       "    </tr>\n",
       "    <tr>\n",
       "      <th>4</th>\n",
       "      <td>A</td>\n",
       "      <td>3</td>\n",
       "      <td>Soup</td>\n",
       "    </tr>\n",
       "    <tr>\n",
       "      <th>5</th>\n",
       "      <td>B</td>\n",
       "      <td>3</td>\n",
       "      <td>Bread</td>\n",
       "    </tr>\n",
       "    <tr>\n",
       "      <th>6</th>\n",
       "      <td>A</td>\n",
       "      <td>3</td>\n",
       "      <td>Salad</td>\n",
       "    </tr>\n",
       "    <tr>\n",
       "      <th>7</th>\n",
       "      <td>B</td>\n",
       "      <td>4</td>\n",
       "      <td>Salad</td>\n",
       "    </tr>\n",
       "    <tr>\n",
       "      <th>8</th>\n",
       "      <td>B</td>\n",
       "      <td>4</td>\n",
       "      <td>Soup</td>\n",
       "    </tr>\n",
       "    <tr>\n",
       "      <th>9</th>\n",
       "      <td>B</td>\n",
       "      <td>4</td>\n",
       "      <td>Bread</td>\n",
       "    </tr>\n",
       "  </tbody>\n",
       "</table>\n",
       "</div>"
      ],
      "text/plain": [
       "  customer_id  order_id   item\n",
       "0           A         1   Soup\n",
       "1           A         1  Bread\n",
       "2           B         2  Lemon\n",
       "3           B         2  Bread\n",
       "4           A         3   Soup\n",
       "5           B         3  Bread\n",
       "6           A         3  Salad\n",
       "7           B         4  Salad\n",
       "8           B         4   Soup\n",
       "9           B         4  Bread"
      ]
     },
     "execution_count": 16,
     "metadata": {},
     "output_type": "execute_result"
    }
   ],
   "source": [
    "import pandas as pd\n",
    "\n",
    "# Create the DataFrame\n",
    "df = pd.DataFrame({\n",
    "    'customer_id': ['A', 'A', 'B', 'B', 'A', 'B', 'A', 'B', 'B', 'B'],\n",
    "    'order_id': [1, 1, 2, 2, 3, 3, 3, 4, 4, 4],\n",
    "    'item': ['Soup', 'Bread', 'Lemon', 'Bread', 'Soup', 'Bread', 'Salad', 'Salad', 'Soup', 'Bread']\n",
    "})\n",
    "df"
   ]
  },
  {
   "cell_type": "code",
   "execution_count": 17,
   "id": "11d62f60",
   "metadata": {},
   "outputs": [
    {
     "data": {
      "text/plain": [
       "customer_id  item \n",
       "A            Soup     2\n",
       "             Bread    1\n",
       "             Salad    1\n",
       "B            Bread    3\n",
       "             Lemon    1\n",
       "             Salad    1\n",
       "             Soup     1\n",
       "Name: item, dtype: int64"
      ]
     },
     "execution_count": 17,
     "metadata": {},
     "output_type": "execute_result"
    }
   ],
   "source": [
    "df.groupby('customer_id')['item'].value_counts()"
   ]
  },
  {
   "cell_type": "code",
   "execution_count": 18,
   "id": "fb02ace7",
   "metadata": {},
   "outputs": [
    {
     "data": {
      "text/plain": [
       "customer_id\n",
       "A    4\n",
       "B    6\n",
       "Name: item, dtype: int64"
      ]
     },
     "execution_count": 18,
     "metadata": {},
     "output_type": "execute_result"
    }
   ],
   "source": [
    "df.groupby('customer_id')['item'].count()"
   ]
  },
  {
   "cell_type": "code",
   "execution_count": 19,
   "id": "24495094",
   "metadata": {},
   "outputs": [
    {
     "data": {
      "text/plain": [
       "customer_id\n",
       "A    4\n",
       "B    6\n",
       "Name: item, dtype: int64"
      ]
     },
     "execution_count": 19,
     "metadata": {},
     "output_type": "execute_result"
    }
   ],
   "source": [
    "df.groupby('customer_id')['item'].size()"
   ]
  },
  {
   "cell_type": "code",
   "execution_count": 25,
   "id": "05a8ac76",
   "metadata": {},
   "outputs": [
    {
     "data": {
      "text/plain": [
       "customer_id\n",
       "A           [Soup, Bread, Salad]\n",
       "B    [Lemon, Bread, Salad, Soup]\n",
       "Name: item, dtype: object"
      ]
     },
     "execution_count": 25,
     "metadata": {},
     "output_type": "execute_result"
    }
   ],
   "source": [
    "# Group by customer_id and calculate the number of unique items per customer\n",
    "df.groupby('customer_id')['item'].unique()"
   ]
  },
  {
   "cell_type": "code",
   "execution_count": 20,
   "id": "e7c7b0e2",
   "metadata": {},
   "outputs": [
    {
     "data": {
      "text/plain": [
       "customer_id\n",
       "A    4\n",
       "B    6\n",
       "Name: item, dtype: int64"
      ]
     },
     "execution_count": 20,
     "metadata": {},
     "output_type": "execute_result"
    }
   ],
   "source": [
    "df.groupby('customer_id')['item'].size()"
   ]
  },
  {
   "cell_type": "code",
   "execution_count": 24,
   "id": "8340e88a",
   "metadata": {},
   "outputs": [
    {
     "data": {
      "text/plain": [
       "customer_id\n",
       "A    3\n",
       "B    4\n",
       "Name: item, dtype: int64"
      ]
     },
     "execution_count": 24,
     "metadata": {},
     "output_type": "execute_result"
    }
   ],
   "source": [
    "\n",
    "# Group by customer_id and calculate the number of unique items per customer\n",
    "df.groupby('customer_id')['item'].nunique()\n"
   ]
  },
  {
   "cell_type": "code",
   "execution_count": null,
   "id": "a167106a",
   "metadata": {},
   "outputs": [],
   "source": [
    "# Calculate the number of unique items per customer\n",
    "unique_items = df.groupby('customer_id')['item'].nunique()\n",
    "\n",
    "# Filter the customers who ordered more than 3 unique items\n",
    "unique_items_more_than_3 = unique_items[unique_items > 3]\n",
    "\n",
    "# Print the result\n",
    "print(unique_items_more_than_3)\n"
   ]
  },
  {
   "cell_type": "code",
   "execution_count": null,
   "id": "d8144cc6",
   "metadata": {},
   "outputs": [],
   "source": []
  },
  {
   "cell_type": "code",
   "execution_count": 22,
   "id": "99cbc2b9",
   "metadata": {},
   "outputs": [
    {
     "data": {
      "text/plain": [
       "customer_id\n",
       "A           [Soup, Bread, Salad]\n",
       "B    [Lemon, Bread, Salad, Soup]\n",
       "Name: item, dtype: object"
      ]
     },
     "execution_count": 22,
     "metadata": {},
     "output_type": "execute_result"
    }
   ],
   "source": []
  },
  {
   "cell_type": "code",
   "execution_count": null,
   "id": "fa18333f",
   "metadata": {},
   "outputs": [],
   "source": []
  }
 ],
 "metadata": {
  "kernelspec": {
   "display_name": "Python 3",
   "language": "python",
   "name": "python3"
  },
  "language_info": {
   "codemirror_mode": {
    "name": "ipython",
    "version": 3
   },
   "file_extension": ".py",
   "mimetype": "text/x-python",
   "name": "python",
   "nbconvert_exporter": "python",
   "pygments_lexer": "ipython3",
   "version": "3.8.3"
  }
 },
 "nbformat": 4,
 "nbformat_minor": 5
}
