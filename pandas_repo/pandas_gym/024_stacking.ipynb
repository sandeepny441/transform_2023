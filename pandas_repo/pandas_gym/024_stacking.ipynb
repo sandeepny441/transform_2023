{
 "cells": [
  {
   "cell_type": "code",
   "execution_count": 1,
   "id": "c53b7d1e",
   "metadata": {},
   "outputs": [],
   "source": [
    "import pandas as pd\n",
    "\n",
    "df = pd.DataFrame({\n",
    "    'A': [1, 2, 3],\n",
    "    'B': [4, 5, 6],\n",
    "    'C': [7, 8, 9]\n",
    "})\n",
    "\n",
    "\n"
   ]
  },
  {
   "cell_type": "code",
   "execution_count": 2,
   "id": "f98d33d1",
   "metadata": {},
   "outputs": [
    {
     "name": "stdout",
     "output_type": "stream",
     "text": [
      "Original DataFrame:\n",
      "   A  B  C\n",
      "0  1  4  7\n",
      "1  2  5  8\n",
      "2  3  6  9\n"
     ]
    }
   ],
   "source": [
    "print(\"Original DataFrame:\")\n",
    "print(df)\n",
    "\n"
   ]
  },
  {
   "cell_type": "code",
   "execution_count": 3,
   "id": "47fec9cf",
   "metadata": {},
   "outputs": [
    {
     "name": "stdout",
     "output_type": "stream",
     "text": [
      "\n",
      "Stacked DataFrame:\n",
      "0  A    1\n",
      "   B    4\n",
      "   C    7\n",
      "1  A    2\n",
      "   B    5\n",
      "   C    8\n",
      "2  A    3\n",
      "   B    6\n",
      "   C    9\n",
      "dtype: int64\n"
     ]
    }
   ],
   "source": [
    "stacked_df = df.stack()\n",
    "print(\"\\nStacked DataFrame:\")\n",
    "print(stacked_df)"
   ]
  },
  {
   "cell_type": "code",
   "execution_count": 11,
   "id": "d942d849",
   "metadata": {},
   "outputs": [
    {
     "name": "stdout",
     "output_type": "stream",
     "text": [
      "Original DataFrame:\n"
     ]
    },
    {
     "data": {
      "text/html": [
       "<div>\n",
       "<style scoped>\n",
       "    .dataframe tbody tr th:only-of-type {\n",
       "        vertical-align: middle;\n",
       "    }\n",
       "\n",
       "    .dataframe tbody tr th {\n",
       "        vertical-align: top;\n",
       "    }\n",
       "\n",
       "    .dataframe thead tr th {\n",
       "        text-align: left;\n",
       "    }\n",
       "</style>\n",
       "<table border=\"1\" class=\"dataframe\">\n",
       "  <thead>\n",
       "    <tr>\n",
       "      <th></th>\n",
       "      <th colspan=\"2\" halign=\"left\">Before</th>\n",
       "      <th colspan=\"2\" halign=\"left\">After</th>\n",
       "    </tr>\n",
       "    <tr>\n",
       "      <th></th>\n",
       "      <th>A</th>\n",
       "      <th>B</th>\n",
       "      <th>A</th>\n",
       "      <th>B</th>\n",
       "    </tr>\n",
       "  </thead>\n",
       "  <tbody>\n",
       "    <tr>\n",
       "      <th>0</th>\n",
       "      <td>1</td>\n",
       "      <td>2</td>\n",
       "      <td>3</td>\n",
       "      <td>4</td>\n",
       "    </tr>\n",
       "    <tr>\n",
       "      <th>1</th>\n",
       "      <td>5</td>\n",
       "      <td>6</td>\n",
       "      <td>7</td>\n",
       "      <td>8</td>\n",
       "    </tr>\n",
       "  </tbody>\n",
       "</table>\n",
       "</div>"
      ],
      "text/plain": [
       "  Before    After   \n",
       "       A  B     A  B\n",
       "0      1  2     3  4\n",
       "1      5  6     7  8"
      ]
     },
     "execution_count": 11,
     "metadata": {},
     "output_type": "execute_result"
    }
   ],
   "source": [
    "header = pd.MultiIndex.from_product([['Before', 'After'], ['A', 'B']])\n",
    "data = [[1, 2, 3, 4], [5, 6, 7, 8]]\n",
    "\n",
    "df = pd.DataFrame(data, columns=header)\n",
    "\n",
    "print(\"Original DataFrame:\")\n",
    "df\n",
    "\n"
   ]
  },
  {
   "cell_type": "code",
   "execution_count": 12,
   "id": "c3c58f76",
   "metadata": {},
   "outputs": [
    {
     "name": "stdout",
     "output_type": "stream",
     "text": [
      "\n",
      "Stacked DataFrame:\n",
      "     After  Before\n",
      "0 A      3       1\n",
      "  B      4       2\n",
      "1 A      7       5\n",
      "  B      8       6\n"
     ]
    }
   ],
   "source": [
    "\n",
    "stacked_df = df.stack()\n",
    "print(\"\\nStacked DataFrame:\")\n",
    "print(stacked_df)"
   ]
  },
  {
   "cell_type": "code",
   "execution_count": 7,
   "id": "cfbc5537",
   "metadata": {},
   "outputs": [
    {
     "data": {
      "text/plain": [
       "RangeIndex(start=0, stop=2, step=1)"
      ]
     },
     "execution_count": 7,
     "metadata": {},
     "output_type": "execute_result"
    }
   ],
   "source": [
    "df.index"
   ]
  },
  {
   "cell_type": "code",
   "execution_count": 8,
   "id": "78861ccd",
   "metadata": {},
   "outputs": [
    {
     "data": {
      "text/plain": [
       "MultiIndex([(0, 'A'),\n",
       "            (0, 'B'),\n",
       "            (1, 'A'),\n",
       "            (1, 'B')],\n",
       "           )"
      ]
     },
     "execution_count": 8,
     "metadata": {},
     "output_type": "execute_result"
    }
   ],
   "source": [
    "stacked_df.index"
   ]
  },
  {
   "cell_type": "code",
   "execution_count": 10,
   "id": "3f632874",
   "metadata": {},
   "outputs": [
    {
     "data": {
      "text/html": [
       "<div>\n",
       "<style scoped>\n",
       "    .dataframe tbody tr th:only-of-type {\n",
       "        vertical-align: middle;\n",
       "    }\n",
       "\n",
       "    .dataframe tbody tr th {\n",
       "        vertical-align: top;\n",
       "    }\n",
       "\n",
       "    .dataframe thead tr th {\n",
       "        text-align: left;\n",
       "    }\n",
       "</style>\n",
       "<table border=\"1\" class=\"dataframe\">\n",
       "  <thead>\n",
       "    <tr>\n",
       "      <th></th>\n",
       "      <th colspan=\"2\" halign=\"left\">Before</th>\n",
       "      <th colspan=\"2\" halign=\"left\">After</th>\n",
       "    </tr>\n",
       "    <tr>\n",
       "      <th></th>\n",
       "      <th>A</th>\n",
       "      <th>B</th>\n",
       "      <th>A</th>\n",
       "      <th>B</th>\n",
       "    </tr>\n",
       "  </thead>\n",
       "  <tbody>\n",
       "    <tr>\n",
       "      <th>0</th>\n",
       "      <td>1</td>\n",
       "      <td>2</td>\n",
       "      <td>3</td>\n",
       "      <td>4</td>\n",
       "    </tr>\n",
       "    <tr>\n",
       "      <th>1</th>\n",
       "      <td>5</td>\n",
       "      <td>6</td>\n",
       "      <td>7</td>\n",
       "      <td>8</td>\n",
       "    </tr>\n",
       "  </tbody>\n",
       "</table>\n",
       "</div>"
      ],
      "text/plain": [
       "  Before    After   \n",
       "       A  B     A  B\n",
       "0      1  2     3  4\n",
       "1      5  6     7  8"
      ]
     },
     "execution_count": 10,
     "metadata": {},
     "output_type": "execute_result"
    }
   ],
   "source": [
    "df"
   ]
  },
  {
   "cell_type": "code",
   "execution_count": 13,
   "id": "6439aff4",
   "metadata": {},
   "outputs": [
    {
     "name": "stdout",
     "output_type": "stream",
     "text": [
      "Stacked DataFrame (Level 0):\n",
      "          A  B\n",
      "0 After   3  4\n",
      "  Before  1  2\n",
      "1 After   7  8\n",
      "  Before  5  6\n"
     ]
    }
   ],
   "source": [
    "stacked_level0_df = df.stack(level=0)\n",
    "print(\"Stacked DataFrame (Level 0):\")\n",
    "print(stacked_level0_df)"
   ]
  },
  {
   "cell_type": "code",
   "execution_count": 14,
   "id": "c77a6f00",
   "metadata": {},
   "outputs": [
    {
     "name": "stdout",
     "output_type": "stream",
     "text": [
      "\n",
      "Stacked DataFrame (Level 1):\n",
      "     After  Before\n",
      "0 A      3       1\n",
      "  B      4       2\n",
      "1 A      7       5\n",
      "  B      8       6\n"
     ]
    }
   ],
   "source": [
    "stacked_level1_df = df.stack(level=1)\n",
    "print(\"\\nStacked DataFrame (Level 1):\")\n",
    "print(stacked_level1_df)"
   ]
  },
  {
   "cell_type": "code",
   "execution_count": 17,
   "id": "3c4b846f",
   "metadata": {},
   "outputs": [
    {
     "name": "stdout",
     "output_type": "stream",
     "text": [
      "Stacked Series:\n",
      "0  A    1\n",
      "   B    2\n",
      "1  A    3\n",
      "   B    4\n",
      "2  A    5\n",
      "   B    6\n",
      "dtype: int64\n"
     ]
    }
   ],
   "source": [
    "import pandas as pd\n",
    "\n",
    "s = pd.Series([1, 2, 3, 4, 5, 6], index=pd.MultiIndex.from_product([[0, 1, 2], ['A', 'B']]))\n",
    "\n",
    "print(\"Stacked Series:\")\n",
    "print(s)"
   ]
  },
  {
   "cell_type": "code",
   "execution_count": 18,
   "id": "8b0cdc92",
   "metadata": {},
   "outputs": [
    {
     "name": "stdout",
     "output_type": "stream",
     "text": [
      "\n",
      "Unstacked DataFrame:\n",
      "   A  B\n",
      "0  1  2\n",
      "1  3  4\n",
      "2  5  6\n"
     ]
    }
   ],
   "source": [
    "unstacked_df = s.unstack()\n",
    "print(\"\\nUnstacked DataFrame:\")\n",
    "print(unstacked_df)"
   ]
  },
  {
   "cell_type": "code",
   "execution_count": 19,
   "id": "faae45dc",
   "metadata": {},
   "outputs": [
    {
     "name": "stdout",
     "output_type": "stream",
     "text": [
      "Stacked DataFrame:\n",
      "     After  Before\n",
      "0 A      3       1\n",
      "  B      4       2\n",
      "1 A      7       5\n",
      "  B      8       6\n",
      "\n",
      "Unstacked DataFrame:\n",
      "  After    Before   \n",
      "      A  B      A  B\n",
      "0     3  4      1  2\n",
      "1     7  8      5  6\n"
     ]
    }
   ],
   "source": [
    "header = pd.MultiIndex.from_product([['Before', 'After'], ['A', 'B']])\n",
    "data = [[1, 2, 3, 4], [5, 6, 7, 8]]\n",
    "\n",
    "df = pd.DataFrame(data, columns=header)\n",
    "stacked_df = df.stack()\n",
    "\n",
    "print(\"Stacked DataFrame:\")\n",
    "print(stacked_df)\n",
    "\n",
    "unstacked_df = stacked_df.unstack()\n",
    "print(\"\\nUnstacked DataFrame:\")\n",
    "print(unstacked_df)\n"
   ]
  },
  {
   "cell_type": "code",
   "execution_count": 20,
   "id": "73943c41",
   "metadata": {},
   "outputs": [
    {
     "name": "stdout",
     "output_type": "stream",
     "text": [
      "Unstacked DataFrame (Level 0):\n",
      "  After    Before   \n",
      "      0  1      0  1\n",
      "A     3  7      1  5\n",
      "B     4  8      2  6\n",
      "\n",
      "Unstacked DataFrame (Level 1):\n",
      "  After    Before   \n",
      "      A  B      A  B\n",
      "0     3  4      1  2\n",
      "1     7  8      5  6\n"
     ]
    }
   ],
   "source": [
    "unstacked_level0_df = stacked_df.unstack(level=0)\n",
    "print(\"Unstacked DataFrame (Level 0):\")\n",
    "print(unstacked_level0_df)\n",
    "\n",
    "unstacked_level1_df = stacked_df.unstack(level=1)\n",
    "print(\"\\nUnstacked DataFrame (Level 1):\")\n",
    "print(unstacked_level1_df)\n"
   ]
  },
  {
   "cell_type": "code",
   "execution_count": null,
   "id": "6dd5a904",
   "metadata": {},
   "outputs": [],
   "source": []
  }
 ],
 "metadata": {
  "kernelspec": {
   "display_name": "Python 3",
   "language": "python",
   "name": "python3"
  },
  "language_info": {
   "codemirror_mode": {
    "name": "ipython",
    "version": 3
   },
   "file_extension": ".py",
   "mimetype": "text/x-python",
   "name": "python",
   "nbconvert_exporter": "python",
   "pygments_lexer": "ipython3",
   "version": "3.8.3"
  }
 },
 "nbformat": 4,
 "nbformat_minor": 5
}
