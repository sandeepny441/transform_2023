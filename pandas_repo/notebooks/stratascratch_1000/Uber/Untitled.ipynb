{
 "cells": [
  {
   "cell_type": "code",
   "execution_count": 2,
   "id": "d401536e",
   "metadata": {},
   "outputs": [
    {
     "data": {
      "text/html": [
       "<div>\n",
       "<style scoped>\n",
       "    .dataframe tbody tr th:only-of-type {\n",
       "        vertical-align: middle;\n",
       "    }\n",
       "\n",
       "    .dataframe tbody tr th {\n",
       "        vertical-align: top;\n",
       "    }\n",
       "\n",
       "    .dataframe thead th {\n",
       "        text-align: right;\n",
       "    }\n",
       "</style>\n",
       "<table border=\"1\" class=\"dataframe\">\n",
       "  <thead>\n",
       "    <tr style=\"text-align: right;\">\n",
       "      <th></th>\n",
       "      <th>user_id</th>\n",
       "      <th>session_start</th>\n",
       "      <th>session_end</th>\n",
       "      <th>session_id</th>\n",
       "      <th>session_type</th>\n",
       "    </tr>\n",
       "  </thead>\n",
       "  <tbody>\n",
       "    <tr>\n",
       "      <th>0</th>\n",
       "      <td>0</td>\n",
       "      <td>2020-08-11 05:51:31</td>\n",
       "      <td>2020-08-11 05:54:45</td>\n",
       "      <td>539</td>\n",
       "      <td>streamer</td>\n",
       "    </tr>\n",
       "    <tr>\n",
       "      <th>1</th>\n",
       "      <td>2</td>\n",
       "      <td>2020-07-11 03:36:54</td>\n",
       "      <td>2020-07-11 03:37:08</td>\n",
       "      <td>840</td>\n",
       "      <td>streamer</td>\n",
       "    </tr>\n",
       "    <tr>\n",
       "      <th>2</th>\n",
       "      <td>3</td>\n",
       "      <td>2020-11-26 11:41:47</td>\n",
       "      <td>2020-11-26 11:52:01</td>\n",
       "      <td>848</td>\n",
       "      <td>streamer</td>\n",
       "    </tr>\n",
       "    <tr>\n",
       "      <th>3</th>\n",
       "      <td>1</td>\n",
       "      <td>2020-11-19 06:24:24</td>\n",
       "      <td>2020-11-19 07:24:38</td>\n",
       "      <td>515</td>\n",
       "      <td>viewer</td>\n",
       "    </tr>\n",
       "    <tr>\n",
       "      <th>4</th>\n",
       "      <td>2</td>\n",
       "      <td>2020-11-14 03:36:05</td>\n",
       "      <td>2020-11-14 03:39:19</td>\n",
       "      <td>646</td>\n",
       "      <td>viewer</td>\n",
       "    </tr>\n",
       "  </tbody>\n",
       "</table>\n",
       "</div>"
      ],
      "text/plain": [
       "   user_id        session_start          session_end  session_id session_type\n",
       "0        0  2020-08-11 05:51:31  2020-08-11 05:54:45         539     streamer\n",
       "1        2  2020-07-11 03:36:54  2020-07-11 03:37:08         840     streamer\n",
       "2        3  2020-11-26 11:41:47  2020-11-26 11:52:01         848     streamer\n",
       "3        1  2020-11-19 06:24:24  2020-11-19 07:24:38         515       viewer\n",
       "4        2  2020-11-14 03:36:05  2020-11-14 03:39:19         646       viewer"
      ]
     },
     "execution_count": 2,
     "metadata": {},
     "output_type": "execute_result"
    }
   ],
   "source": [
    "import pandas as pd\n",
    "\n",
    "# Create a dictionary with the data\n",
    "data = {\n",
    "    'user_id': [0, 2, 3, 1, 2],\n",
    "    'session_start': ['2020-08-11 05:51:31', '2020-07-11 03:36:54', '2020-11-26 11:41:47', '2020-11-19 06:24:24', '2020-11-14 03:36:05'],\n",
    "    'session_end': ['2020-08-11 05:54:45', '2020-07-11 03:37:08', '2020-11-26 11:52:01', '2020-11-19 07:24:38', '2020-11-14 03:39:19'],\n",
    "    'session_id': [539, 840, 848, 515, 646],\n",
    "    'session_type': ['streamer', 'streamer', 'streamer', 'viewer', 'viewer']\n",
    "}\n",
    "\n",
    "# Create the DataFrame\n",
    "df = pd.DataFrame(data)\n",
    "\n",
    "# Print the DataFrame\n",
    "df\n"
   ]
  },
  {
   "cell_type": "code",
   "execution_count": 3,
   "id": "21e26c99",
   "metadata": {},
   "outputs": [
    {
     "data": {
      "text/html": [
       "<div>\n",
       "<style scoped>\n",
       "    .dataframe tbody tr th:only-of-type {\n",
       "        vertical-align: middle;\n",
       "    }\n",
       "\n",
       "    .dataframe tbody tr th {\n",
       "        vertical-align: top;\n",
       "    }\n",
       "\n",
       "    .dataframe thead th {\n",
       "        text-align: right;\n",
       "    }\n",
       "</style>\n",
       "<table border=\"1\" class=\"dataframe\">\n",
       "  <thead>\n",
       "    <tr style=\"text-align: right;\">\n",
       "      <th></th>\n",
       "      <th>user_id</th>\n",
       "      <th>session_start</th>\n",
       "      <th>session_end</th>\n",
       "      <th>session_id</th>\n",
       "      <th>session_type</th>\n",
       "    </tr>\n",
       "  </thead>\n",
       "  <tbody>\n",
       "    <tr>\n",
       "      <th>0</th>\n",
       "      <td>0</td>\n",
       "      <td>2020-08-11 05:51:31</td>\n",
       "      <td>2020-08-11 05:54:45</td>\n",
       "      <td>539</td>\n",
       "      <td>streamer</td>\n",
       "    </tr>\n",
       "    <tr>\n",
       "      <th>1</th>\n",
       "      <td>2</td>\n",
       "      <td>2020-07-11 03:36:54</td>\n",
       "      <td>2020-07-11 03:37:08</td>\n",
       "      <td>840</td>\n",
       "      <td>streamer</td>\n",
       "    </tr>\n",
       "    <tr>\n",
       "      <th>2</th>\n",
       "      <td>3</td>\n",
       "      <td>2020-11-26 11:41:47</td>\n",
       "      <td>2020-11-26 11:52:01</td>\n",
       "      <td>848</td>\n",
       "      <td>streamer</td>\n",
       "    </tr>\n",
       "    <tr>\n",
       "      <th>3</th>\n",
       "      <td>1</td>\n",
       "      <td>2020-11-19 06:24:24</td>\n",
       "      <td>2020-11-19 07:24:38</td>\n",
       "      <td>515</td>\n",
       "      <td>viewer</td>\n",
       "    </tr>\n",
       "    <tr>\n",
       "      <th>4</th>\n",
       "      <td>2</td>\n",
       "      <td>2020-11-14 03:36:05</td>\n",
       "      <td>2020-11-14 03:39:19</td>\n",
       "      <td>646</td>\n",
       "      <td>viewer</td>\n",
       "    </tr>\n",
       "    <tr>\n",
       "      <th>5</th>\n",
       "      <td>4</td>\n",
       "      <td>2020-11-14 03:42:19</td>\n",
       "      <td>2020-11-14 03:45:19</td>\n",
       "      <td>101</td>\n",
       "      <td>viewer</td>\n",
       "    </tr>\n",
       "    <tr>\n",
       "      <th>6</th>\n",
       "      <td>5</td>\n",
       "      <td>2020-11-14 03:45:19</td>\n",
       "      <td>2020-11-14 03:48:19</td>\n",
       "      <td>102</td>\n",
       "      <td>streamer</td>\n",
       "    </tr>\n",
       "    <tr>\n",
       "      <th>7</th>\n",
       "      <td>6</td>\n",
       "      <td>2020-11-14 03:48:19</td>\n",
       "      <td>2020-11-14 03:51:19</td>\n",
       "      <td>103</td>\n",
       "      <td>streamer</td>\n",
       "    </tr>\n",
       "    <tr>\n",
       "      <th>8</th>\n",
       "      <td>7</td>\n",
       "      <td>2020-11-14 03:51:19</td>\n",
       "      <td>2020-11-14 03:54:19</td>\n",
       "      <td>104</td>\n",
       "      <td>viewer</td>\n",
       "    </tr>\n",
       "    <tr>\n",
       "      <th>9</th>\n",
       "      <td>8</td>\n",
       "      <td>2020-11-14 03:54:19</td>\n",
       "      <td>2020-11-14 03:57:19</td>\n",
       "      <td>105</td>\n",
       "      <td>streamer</td>\n",
       "    </tr>\n",
       "    <tr>\n",
       "      <th>10</th>\n",
       "      <td>9</td>\n",
       "      <td>2020-11-14 03:57:19</td>\n",
       "      <td>2020-11-14 04:00:19</td>\n",
       "      <td>106</td>\n",
       "      <td>viewer</td>\n",
       "    </tr>\n",
       "    <tr>\n",
       "      <th>11</th>\n",
       "      <td>10</td>\n",
       "      <td>2020-11-14 04:00:19</td>\n",
       "      <td>2020-11-14 04:03:19</td>\n",
       "      <td>107</td>\n",
       "      <td>viewer</td>\n",
       "    </tr>\n",
       "    <tr>\n",
       "      <th>12</th>\n",
       "      <td>11</td>\n",
       "      <td>2020-11-14 04:03:19</td>\n",
       "      <td>2020-11-14 04:06:19</td>\n",
       "      <td>108</td>\n",
       "      <td>streamer</td>\n",
       "    </tr>\n",
       "    <tr>\n",
       "      <th>13</th>\n",
       "      <td>12</td>\n",
       "      <td>2020-11-14 04:06:19</td>\n",
       "      <td>2020-11-14 04:09:19</td>\n",
       "      <td>109</td>\n",
       "      <td>viewer</td>\n",
       "    </tr>\n",
       "    <tr>\n",
       "      <th>14</th>\n",
       "      <td>13</td>\n",
       "      <td>2020-11-14 04:09:19</td>\n",
       "      <td>2020-11-14 04:12:19</td>\n",
       "      <td>110</td>\n",
       "      <td>streamer</td>\n",
       "    </tr>\n",
       "  </tbody>\n",
       "</table>\n",
       "</div>"
      ],
      "text/plain": [
       "    user_id        session_start          session_end  session_id session_type\n",
       "0         0  2020-08-11 05:51:31  2020-08-11 05:54:45         539     streamer\n",
       "1         2  2020-07-11 03:36:54  2020-07-11 03:37:08         840     streamer\n",
       "2         3  2020-11-26 11:41:47  2020-11-26 11:52:01         848     streamer\n",
       "3         1  2020-11-19 06:24:24  2020-11-19 07:24:38         515       viewer\n",
       "4         2  2020-11-14 03:36:05  2020-11-14 03:39:19         646       viewer\n",
       "5         4  2020-11-14 03:42:19  2020-11-14 03:45:19         101       viewer\n",
       "6         5  2020-11-14 03:45:19  2020-11-14 03:48:19         102     streamer\n",
       "7         6  2020-11-14 03:48:19  2020-11-14 03:51:19         103     streamer\n",
       "8         7  2020-11-14 03:51:19  2020-11-14 03:54:19         104       viewer\n",
       "9         8  2020-11-14 03:54:19  2020-11-14 03:57:19         105     streamer\n",
       "10        9  2020-11-14 03:57:19  2020-11-14 04:00:19         106       viewer\n",
       "11       10  2020-11-14 04:00:19  2020-11-14 04:03:19         107       viewer\n",
       "12       11  2020-11-14 04:03:19  2020-11-14 04:06:19         108     streamer\n",
       "13       12  2020-11-14 04:06:19  2020-11-14 04:09:19         109       viewer\n",
       "14       13  2020-11-14 04:09:19  2020-11-14 04:12:19         110     streamer"
      ]
     },
     "execution_count": 3,
     "metadata": {},
     "output_type": "execute_result"
    }
   ],
   "source": [
    "import datetime\n",
    "\n",
    "# Create lists with additional data\n",
    "additional_user_ids = [4, 5, 6, 7, 8, 9, 10, 11, 12, 13]\n",
    "additional_session_ids = [101, 102, 103, 104, 105, 106, 107, 108, 109, 110]\n",
    "additional_session_types = ['viewer', 'streamer', 'streamer', 'viewer', 'streamer', 'viewer', 'viewer', 'streamer', 'viewer', 'streamer']\n",
    "\n",
    "# Calculate time increments\n",
    "start_time = datetime.datetime.strptime('2020-11-14 03:39:19', '%Y-%m-%d %H:%M:%S')\n",
    "session_duration = datetime.timedelta(minutes=3)  # Assuming each session lasts 3 minutes\n",
    "additional_session_start = [start_time + i*session_duration for i in range(1, 11)]\n",
    "additional_session_end = [start_time + (i+1)*session_duration for i in range(1, 11)]\n",
    "\n",
    "# Format times back to string\n",
    "additional_session_start = [time.strftime('%Y-%m-%d %H:%M:%S') for time in additional_session_start]\n",
    "additional_session_end = [time.strftime('%Y-%m-%d %H:%M:%S') for time in additional_session_end]\n",
    "\n",
    "# Add the additional data to the existing dictionary\n",
    "data['user_id'].extend(additional_user_ids)\n",
    "data['session_start'].extend(additional_session_start)\n",
    "data['session_end'].extend(additional_session_end)\n",
    "data['session_id'].extend(additional_session_ids)\n",
    "data['session_type'].extend(additional_session_types)\n",
    "\n",
    "# Create the updated DataFrame\n",
    "df = pd.DataFrame(data)\n",
    "\n",
    "df\n"
   ]
  },
  {
   "cell_type": "code",
   "execution_count": 4,
   "id": "2f210103",
   "metadata": {},
   "outputs": [],
   "source": [
    "# Find users who are both a viewer and streamer."
   ]
  },
  {
   "cell_type": "code",
   "execution_count": null,
   "id": "92bb9b2b",
   "metadata": {},
   "outputs": [],
   "source": []
  },
  {
   "cell_type": "code",
   "execution_count": null,
   "id": "1cfe0f85",
   "metadata": {},
   "outputs": [],
   "source": [
    "# 1..How many unique users are there in this DataFrame?\n",
    "df.user_id.nunique()"
   ]
  },
  {
   "cell_type": "code",
   "execution_count": null,
   "id": "d94358c9",
   "metadata": {},
   "outputs": [],
   "source": [
    "#2 How many sessions have a type of 'streamer'?\n",
    "(df['session_type'] == 'streamer').sum() #BEST\n",
    "len(df[df['session_type'] == 'streamer'])\n",
    "df['session_type'].value_counts()['streamer']"
   ]
  },
  {
   "cell_type": "code",
   "execution_count": 86,
   "id": "2dd3ac4f",
   "metadata": {},
   "outputs": [
    {
     "data": {
      "text/plain": [
       "747"
      ]
     },
     "execution_count": 86,
     "metadata": {},
     "output_type": "execute_result"
    }
   ],
   "source": [
    "# What is the range of session_ids in the DataFrame \n",
    "# (i.e., the difference between the maximum and minimum session_id)?\n",
    "df.session_id.max() - df.session_id.min()\n"
   ]
  },
  {
   "cell_type": "code",
   "execution_count": 88,
   "id": "3b28f33b",
   "metadata": {},
   "outputs": [
    {
     "data": {
      "text/plain": [
       "('2020-07-11 03:36:54', '2020-11-26 11:41:47')"
      ]
     },
     "execution_count": 88,
     "metadata": {},
     "output_type": "execute_result"
    }
   ],
   "source": [
    "# What is the earliest and the latest session_start time in the DataFrame?\n",
    "df.session_start.min(), df.session_start.max()"
   ]
  },
  {
   "cell_type": "code",
   "execution_count": 89,
   "id": "bd98cbee",
   "metadata": {},
   "outputs": [
    {
     "data": {
      "text/plain": [
       "array(['streamer', 'viewer'], dtype=object)"
      ]
     },
     "execution_count": 89,
     "metadata": {},
     "output_type": "execute_result"
    }
   ],
   "source": [
    "# How many unique users are there \n",
    "# for each session type ('streamer' and 'viewer')?\n",
    "\n",
    "df['session_type'].unique()"
   ]
  },
  {
   "cell_type": "code",
   "execution_count": 99,
   "id": "3789d49d",
   "metadata": {},
   "outputs": [
    {
     "data": {
      "text/plain": [
       "streamer    8\n",
       "Name: session_type, dtype: int64"
      ]
     },
     "execution_count": 99,
     "metadata": {},
     "output_type": "execute_result"
    }
   ],
   "source": [
    "df[df['session_type'] == 'streamer']['session_type'].value_counts()"
   ]
  },
  {
   "cell_type": "code",
   "execution_count": 104,
   "id": "d1e70908",
   "metadata": {},
   "outputs": [
    {
     "data": {
      "text/plain": [
       "user_id  session_type\n",
       "0        streamer        1\n",
       "1        viewer          1\n",
       "2        streamer        1\n",
       "         viewer          1\n",
       "3        streamer        1\n",
       "4        viewer          1\n",
       "5        streamer        1\n",
       "6        streamer        1\n",
       "7        viewer          1\n",
       "8        streamer        1\n",
       "9        viewer          1\n",
       "10       viewer          1\n",
       "11       streamer        1\n",
       "12       viewer          1\n",
       "13       streamer        1\n",
       "dtype: int64"
      ]
     },
     "execution_count": 104,
     "metadata": {},
     "output_type": "execute_result"
    }
   ],
   "source": [
    "df[['user_id', 'session_type']].value_counts()"
   ]
  },
  {
   "cell_type": "code",
   "execution_count": 114,
   "id": "98cde474",
   "metadata": {},
   "outputs": [
    {
     "data": {
      "text/plain": [
       "session_type\n",
       "streamer    8\n",
       "viewer      7\n",
       "Name: user_id, dtype: int64"
      ]
     },
     "execution_count": 114,
     "metadata": {},
     "output_type": "execute_result"
    }
   ],
   "source": [
    "df.groupby('session_type')['user_id'].count()"
   ]
  },
  {
   "cell_type": "code",
   "execution_count": 117,
   "id": "ef875f12",
   "metadata": {},
   "outputs": [
    {
     "data": {
      "text/plain": [
       "session_type\n",
       "streamer    8\n",
       "viewer      7\n",
       "Name: user_id, dtype: int64"
      ]
     },
     "execution_count": 117,
     "metadata": {},
     "output_type": "execute_result"
    }
   ],
   "source": [
    "df.groupby('session_type')['user_id'].nunique()"
   ]
  },
  {
   "cell_type": "markdown",
   "id": "3edef57d",
   "metadata": {},
   "source": [
    "Calculate the average duration of all sessions. (You will first need to convert session_start and session_end from string to datetime format)."
   ]
  },
  {
   "cell_type": "code",
   "execution_count": 119,
   "id": "a7d9c65c",
   "metadata": {},
   "outputs": [
    {
     "data": {
      "text/html": [
       "<div>\n",
       "<style scoped>\n",
       "    .dataframe tbody tr th:only-of-type {\n",
       "        vertical-align: middle;\n",
       "    }\n",
       "\n",
       "    .dataframe tbody tr th {\n",
       "        vertical-align: top;\n",
       "    }\n",
       "\n",
       "    .dataframe thead th {\n",
       "        text-align: right;\n",
       "    }\n",
       "</style>\n",
       "<table border=\"1\" class=\"dataframe\">\n",
       "  <thead>\n",
       "    <tr style=\"text-align: right;\">\n",
       "      <th></th>\n",
       "      <th>user_id</th>\n",
       "      <th>session_start</th>\n",
       "      <th>session_end</th>\n",
       "      <th>session_id</th>\n",
       "      <th>session_type</th>\n",
       "    </tr>\n",
       "  </thead>\n",
       "  <tbody>\n",
       "    <tr>\n",
       "      <th>0</th>\n",
       "      <td>0</td>\n",
       "      <td>2020-08-11 05:51:31</td>\n",
       "      <td>2020-08-11 05:54:45</td>\n",
       "      <td>539</td>\n",
       "      <td>streamer</td>\n",
       "    </tr>\n",
       "    <tr>\n",
       "      <th>1</th>\n",
       "      <td>2</td>\n",
       "      <td>2020-07-11 03:36:54</td>\n",
       "      <td>2020-07-11 03:37:08</td>\n",
       "      <td>840</td>\n",
       "      <td>streamer</td>\n",
       "    </tr>\n",
       "    <tr>\n",
       "      <th>2</th>\n",
       "      <td>3</td>\n",
       "      <td>2020-11-26 11:41:47</td>\n",
       "      <td>2020-11-26 11:52:01</td>\n",
       "      <td>848</td>\n",
       "      <td>streamer</td>\n",
       "    </tr>\n",
       "    <tr>\n",
       "      <th>3</th>\n",
       "      <td>1</td>\n",
       "      <td>2020-11-19 06:24:24</td>\n",
       "      <td>2020-11-19 07:24:38</td>\n",
       "      <td>515</td>\n",
       "      <td>viewer</td>\n",
       "    </tr>\n",
       "    <tr>\n",
       "      <th>4</th>\n",
       "      <td>2</td>\n",
       "      <td>2020-11-14 03:36:05</td>\n",
       "      <td>2020-11-14 03:39:19</td>\n",
       "      <td>646</td>\n",
       "      <td>viewer</td>\n",
       "    </tr>\n",
       "  </tbody>\n",
       "</table>\n",
       "</div>"
      ],
      "text/plain": [
       "   user_id        session_start          session_end  session_id session_type\n",
       "0        0  2020-08-11 05:51:31  2020-08-11 05:54:45         539     streamer\n",
       "1        2  2020-07-11 03:36:54  2020-07-11 03:37:08         840     streamer\n",
       "2        3  2020-11-26 11:41:47  2020-11-26 11:52:01         848     streamer\n",
       "3        1  2020-11-19 06:24:24  2020-11-19 07:24:38         515       viewer\n",
       "4        2  2020-11-14 03:36:05  2020-11-14 03:39:19         646       viewer"
      ]
     },
     "execution_count": 119,
     "metadata": {},
     "output_type": "execute_result"
    }
   ],
   "source": [
    "df.head()"
   ]
  },
  {
   "cell_type": "code",
   "execution_count": 120,
   "id": "512c1791",
   "metadata": {},
   "outputs": [],
   "source": [
    "df['session_start'] = pd.to_datetime(df['session_start'])"
   ]
  },
  {
   "cell_type": "code",
   "execution_count": 124,
   "id": "fffbc9a0",
   "metadata": {},
   "outputs": [],
   "source": [
    "df['session_end'] = pd.to_datetime(df['session_end'])"
   ]
  },
  {
   "cell_type": "code",
   "execution_count": 142,
   "id": "dae33c15",
   "metadata": {},
   "outputs": [
    {
     "ename": "ValueError",
     "evalue": "Value must be Timedelta, string, integer, float, timedelta or convertible, not Series",
     "output_type": "error",
     "traceback": [
      "\u001b[1;31m---------------------------------------------------------------------------\u001b[0m",
      "\u001b[1;31mValueError\u001b[0m                                Traceback (most recent call last)",
      "Cell \u001b[1;32mIn[142], line 1\u001b[0m\n\u001b[1;32m----> 1\u001b[0m \u001b[43mpd\u001b[49m\u001b[38;5;241;43m.\u001b[39;49m\u001b[43mTimedelta\u001b[49m\u001b[43m(\u001b[49m\u001b[43mdf\u001b[49m\u001b[43m[\u001b[49m\u001b[38;5;124;43m'\u001b[39;49m\u001b[38;5;124;43msession_end\u001b[39;49m\u001b[38;5;124;43m'\u001b[39;49m\u001b[43m]\u001b[49m\u001b[43m \u001b[49m\u001b[38;5;241;43m-\u001b[39;49m\u001b[43m \u001b[49m\u001b[43mdf\u001b[49m\u001b[43m[\u001b[49m\u001b[38;5;124;43m'\u001b[39;49m\u001b[38;5;124;43msession_start\u001b[39;49m\u001b[38;5;124;43m'\u001b[39;49m\u001b[43m]\u001b[49m\u001b[43m)\u001b[49m\u001b[38;5;241m.\u001b[39mcomponents\u001b[38;5;241m.\u001b[39mminutes\n",
      "File \u001b[1;32mC:\\ProgramData\\Anaconda3\\lib\\site-packages\\pandas\\_libs\\tslibs\\timedeltas.pyx:1699\u001b[0m, in \u001b[0;36mpandas._libs.tslibs.timedeltas.Timedelta.__new__\u001b[1;34m()\u001b[0m\n",
      "\u001b[1;31mValueError\u001b[0m: Value must be Timedelta, string, integer, float, timedelta or convertible, not Series"
     ]
    }
   ],
   "source": [
    "pd.Timedelta(df['session_end'] - df['session_start']).components.minutes "
   ]
  },
  {
   "cell_type": "markdown",
   "id": "14969b94",
   "metadata": {},
   "source": [
    "How many sessions lasted more than 10 minutes? (Again, ensure that session_start and session_end are in datetime format.)"
   ]
  },
  {
   "cell_type": "code",
   "execution_count": null,
   "id": "08eda54f",
   "metadata": {},
   "outputs": [],
   "source": [
    "df[(df['session_end'] - df['session_start']) > 10 "
   ]
  },
  {
   "cell_type": "code",
   "execution_count": 138,
   "id": "0739488a",
   "metadata": {},
   "outputs": [],
   "source": [
    "td = pd.Timedelta('0 days 00:07:08.666666666')"
   ]
  },
  {
   "cell_type": "code",
   "execution_count": 140,
   "id": "2167566a",
   "metadata": {},
   "outputs": [],
   "source": [
    "total_seconds = td.components.minutes"
   ]
  },
  {
   "cell_type": "code",
   "execution_count": 141,
   "id": "6c72c2a4",
   "metadata": {},
   "outputs": [
    {
     "data": {
      "text/plain": [
       "7"
      ]
     },
     "execution_count": 141,
     "metadata": {},
     "output_type": "execute_result"
    }
   ],
   "source": [
    "total_seconds"
   ]
  },
  {
   "cell_type": "code",
   "execution_count": 144,
   "id": "9f54f402",
   "metadata": {},
   "outputs": [
    {
     "name": "stdout",
     "output_type": "stream",
     "text": [
      "Original DataFrame:\n"
     ]
    },
    {
     "data": {
      "text/html": [
       "<div>\n",
       "<style scoped>\n",
       "    .dataframe tbody tr th:only-of-type {\n",
       "        vertical-align: middle;\n",
       "    }\n",
       "\n",
       "    .dataframe tbody tr th {\n",
       "        vertical-align: top;\n",
       "    }\n",
       "\n",
       "    .dataframe thead th {\n",
       "        text-align: right;\n",
       "    }\n",
       "</style>\n",
       "<table border=\"1\" class=\"dataframe\">\n",
       "  <thead>\n",
       "    <tr style=\"text-align: right;\">\n",
       "      <th></th>\n",
       "      <th>date</th>\n",
       "      <th>New York_temperature</th>\n",
       "      <th>New York_humidity</th>\n",
       "      <th>Los Angeles_temperature</th>\n",
       "      <th>Los Angeles_humidity</th>\n",
       "    </tr>\n",
       "  </thead>\n",
       "  <tbody>\n",
       "    <tr>\n",
       "      <th>0</th>\n",
       "      <td>2023-07-01</td>\n",
       "      <td>30</td>\n",
       "      <td>80</td>\n",
       "      <td>35</td>\n",
       "      <td>78</td>\n",
       "    </tr>\n",
       "    <tr>\n",
       "      <th>1</th>\n",
       "      <td>2023-07-02</td>\n",
       "      <td>32</td>\n",
       "      <td>82</td>\n",
       "      <td>36</td>\n",
       "      <td>85</td>\n",
       "    </tr>\n",
       "  </tbody>\n",
       "</table>\n",
       "</div>"
      ],
      "text/plain": [
       "         date  New York_temperature  New York_humidity  \\\n",
       "0  2023-07-01                    30                 80   \n",
       "1  2023-07-02                    32                 82   \n",
       "\n",
       "   Los Angeles_temperature  Los Angeles_humidity  \n",
       "0                       35                    78  \n",
       "1                       36                    85  "
      ]
     },
     "execution_count": 144,
     "metadata": {},
     "output_type": "execute_result"
    }
   ],
   "source": [
    "# Create a DataFrame\n",
    "df = pd.DataFrame({\n",
    "  'date': ['2023-07-01', '2023-07-02'],\n",
    "  'New York_temperature': [30, 32],\n",
    "  'New York_humidity': [80, 82],\n",
    "  'Los Angeles_temperature': [35, 36],\n",
    "  'Los Angeles_humidity': [78, 85]\n",
    "})\n",
    "\n",
    "print(\"Original DataFrame:\")\n",
    "df\n",
    "\n"
   ]
  },
  {
   "cell_type": "code",
   "execution_count": 146,
   "id": "afc22e9f",
   "metadata": {},
   "outputs": [
    {
     "name": "stdout",
     "output_type": "stream",
     "text": [
      "\n",
      "Melted DataFrame:\n"
     ]
    },
    {
     "data": {
      "text/html": [
       "<div>\n",
       "<style scoped>\n",
       "    .dataframe tbody tr th:only-of-type {\n",
       "        vertical-align: middle;\n",
       "    }\n",
       "\n",
       "    .dataframe tbody tr th {\n",
       "        vertical-align: top;\n",
       "    }\n",
       "\n",
       "    .dataframe thead th {\n",
       "        text-align: right;\n",
       "    }\n",
       "</style>\n",
       "<table border=\"1\" class=\"dataframe\">\n",
       "  <thead>\n",
       "    <tr style=\"text-align: right;\">\n",
       "      <th></th>\n",
       "      <th>date</th>\n",
       "      <th>variable</th>\n",
       "      <th>value</th>\n",
       "    </tr>\n",
       "  </thead>\n",
       "  <tbody>\n",
       "    <tr>\n",
       "      <th>0</th>\n",
       "      <td>2023-07-01</td>\n",
       "      <td>New York_temperature</td>\n",
       "      <td>30</td>\n",
       "    </tr>\n",
       "    <tr>\n",
       "      <th>1</th>\n",
       "      <td>2023-07-02</td>\n",
       "      <td>New York_temperature</td>\n",
       "      <td>32</td>\n",
       "    </tr>\n",
       "    <tr>\n",
       "      <th>2</th>\n",
       "      <td>2023-07-01</td>\n",
       "      <td>New York_humidity</td>\n",
       "      <td>80</td>\n",
       "    </tr>\n",
       "    <tr>\n",
       "      <th>3</th>\n",
       "      <td>2023-07-02</td>\n",
       "      <td>New York_humidity</td>\n",
       "      <td>82</td>\n",
       "    </tr>\n",
       "    <tr>\n",
       "      <th>4</th>\n",
       "      <td>2023-07-01</td>\n",
       "      <td>Los Angeles_temperature</td>\n",
       "      <td>35</td>\n",
       "    </tr>\n",
       "    <tr>\n",
       "      <th>5</th>\n",
       "      <td>2023-07-02</td>\n",
       "      <td>Los Angeles_temperature</td>\n",
       "      <td>36</td>\n",
       "    </tr>\n",
       "    <tr>\n",
       "      <th>6</th>\n",
       "      <td>2023-07-01</td>\n",
       "      <td>Los Angeles_humidity</td>\n",
       "      <td>78</td>\n",
       "    </tr>\n",
       "    <tr>\n",
       "      <th>7</th>\n",
       "      <td>2023-07-02</td>\n",
       "      <td>Los Angeles_humidity</td>\n",
       "      <td>85</td>\n",
       "    </tr>\n",
       "  </tbody>\n",
       "</table>\n",
       "</div>"
      ],
      "text/plain": [
       "         date                 variable  value\n",
       "0  2023-07-01     New York_temperature     30\n",
       "1  2023-07-02     New York_temperature     32\n",
       "2  2023-07-01        New York_humidity     80\n",
       "3  2023-07-02        New York_humidity     82\n",
       "4  2023-07-01  Los Angeles_temperature     35\n",
       "5  2023-07-02  Los Angeles_temperature     36\n",
       "6  2023-07-01     Los Angeles_humidity     78\n",
       "7  2023-07-02     Los Angeles_humidity     85"
      ]
     },
     "execution_count": 146,
     "metadata": {},
     "output_type": "execute_result"
    }
   ],
   "source": [
    "# Melt the DataFrame\n",
    "df_melt = df.melt(id_vars='date')\n",
    "\n",
    "print(\"\\nMelted DataFrame:\")\n",
    "df_melt"
   ]
  },
  {
   "cell_type": "code",
   "execution_count": 149,
   "id": "70b494fb",
   "metadata": {},
   "outputs": [
    {
     "data": {
      "text/html": [
       "<div>\n",
       "<style scoped>\n",
       "    .dataframe tbody tr th:only-of-type {\n",
       "        vertical-align: middle;\n",
       "    }\n",
       "\n",
       "    .dataframe tbody tr th {\n",
       "        vertical-align: top;\n",
       "    }\n",
       "\n",
       "    .dataframe thead th {\n",
       "        text-align: right;\n",
       "    }\n",
       "</style>\n",
       "<table border=\"1\" class=\"dataframe\">\n",
       "  <thead>\n",
       "    <tr style=\"text-align: right;\">\n",
       "      <th></th>\n",
       "      <th>Category</th>\n",
       "      <th>Score</th>\n",
       "    </tr>\n",
       "  </thead>\n",
       "  <tbody>\n",
       "    <tr>\n",
       "      <th>0</th>\n",
       "      <td>A</td>\n",
       "      <td>85</td>\n",
       "    </tr>\n",
       "    <tr>\n",
       "      <th>1</th>\n",
       "      <td>B</td>\n",
       "      <td>90</td>\n",
       "    </tr>\n",
       "    <tr>\n",
       "      <th>2</th>\n",
       "      <td>A</td>\n",
       "      <td>88</td>\n",
       "    </tr>\n",
       "    <tr>\n",
       "      <th>3</th>\n",
       "      <td>B</td>\n",
       "      <td>75</td>\n",
       "    </tr>\n",
       "    <tr>\n",
       "      <th>4</th>\n",
       "      <td>A</td>\n",
       "      <td>90</td>\n",
       "    </tr>\n",
       "    <tr>\n",
       "      <th>5</th>\n",
       "      <td>B</td>\n",
       "      <td>88</td>\n",
       "    </tr>\n",
       "    <tr>\n",
       "      <th>6</th>\n",
       "      <td>A</td>\n",
       "      <td>85</td>\n",
       "    </tr>\n",
       "    <tr>\n",
       "      <th>7</th>\n",
       "      <td>B</td>\n",
       "      <td>90</td>\n",
       "    </tr>\n",
       "  </tbody>\n",
       "</table>\n",
       "</div>"
      ],
      "text/plain": [
       "  Category  Score\n",
       "0        A     85\n",
       "1        B     90\n",
       "2        A     88\n",
       "3        B     75\n",
       "4        A     90\n",
       "5        B     88\n",
       "6        A     85\n",
       "7        B     90"
      ]
     },
     "execution_count": 149,
     "metadata": {},
     "output_type": "execute_result"
    }
   ],
   "source": [
    "import pandas as pd\n",
    "\n",
    "# Sample DataFrame\n",
    "data = {\n",
    "    'Category': ['A', 'B', 'A', 'B', 'A', 'B', 'A', 'B'],\n",
    "    'Score': [85, 90, 88, 75, 90, 88, 85, 90]\n",
    "}\n",
    "df = pd.DataFrame(data)\n",
    "\n",
    "\n",
    "df"
   ]
  },
  {
   "cell_type": "code",
   "execution_count": 151,
   "id": "f9475a4f",
   "metadata": {},
   "outputs": [
    {
     "data": {
      "text/html": [
       "<div>\n",
       "<style scoped>\n",
       "    .dataframe tbody tr th:only-of-type {\n",
       "        vertical-align: middle;\n",
       "    }\n",
       "\n",
       "    .dataframe tbody tr th {\n",
       "        vertical-align: top;\n",
       "    }\n",
       "\n",
       "    .dataframe thead th {\n",
       "        text-align: right;\n",
       "    }\n",
       "</style>\n",
       "<table border=\"1\" class=\"dataframe\">\n",
       "  <thead>\n",
       "    <tr style=\"text-align: right;\">\n",
       "      <th></th>\n",
       "      <th>Category</th>\n",
       "      <th>Score</th>\n",
       "      <th>Rank</th>\n",
       "    </tr>\n",
       "  </thead>\n",
       "  <tbody>\n",
       "    <tr>\n",
       "      <th>0</th>\n",
       "      <td>A</td>\n",
       "      <td>85</td>\n",
       "      <td>3.0</td>\n",
       "    </tr>\n",
       "    <tr>\n",
       "      <th>1</th>\n",
       "      <td>B</td>\n",
       "      <td>90</td>\n",
       "      <td>1.0</td>\n",
       "    </tr>\n",
       "    <tr>\n",
       "      <th>2</th>\n",
       "      <td>A</td>\n",
       "      <td>88</td>\n",
       "      <td>2.0</td>\n",
       "    </tr>\n",
       "    <tr>\n",
       "      <th>3</th>\n",
       "      <td>B</td>\n",
       "      <td>75</td>\n",
       "      <td>3.0</td>\n",
       "    </tr>\n",
       "    <tr>\n",
       "      <th>4</th>\n",
       "      <td>A</td>\n",
       "      <td>90</td>\n",
       "      <td>1.0</td>\n",
       "    </tr>\n",
       "    <tr>\n",
       "      <th>5</th>\n",
       "      <td>B</td>\n",
       "      <td>88</td>\n",
       "      <td>2.0</td>\n",
       "    </tr>\n",
       "    <tr>\n",
       "      <th>6</th>\n",
       "      <td>A</td>\n",
       "      <td>85</td>\n",
       "      <td>3.0</td>\n",
       "    </tr>\n",
       "    <tr>\n",
       "      <th>7</th>\n",
       "      <td>B</td>\n",
       "      <td>90</td>\n",
       "      <td>1.0</td>\n",
       "    </tr>\n",
       "  </tbody>\n",
       "</table>\n",
       "</div>"
      ],
      "text/plain": [
       "  Category  Score  Rank\n",
       "0        A     85   3.0\n",
       "1        B     90   1.0\n",
       "2        A     88   2.0\n",
       "3        B     75   3.0\n",
       "4        A     90   1.0\n",
       "5        B     88   2.0\n",
       "6        A     85   3.0\n",
       "7        B     90   1.0"
      ]
     },
     "execution_count": 151,
     "metadata": {},
     "output_type": "execute_result"
    }
   ],
   "source": [
    "# Rank within each group\n",
    "df['Rank'] = df.groupby('Category')['Score'].rank(\"dense\", ascending=False)\n",
    "\n",
    "df"
   ]
  },
  {
   "cell_type": "code",
   "execution_count": 152,
   "id": "6b88f752",
   "metadata": {},
   "outputs": [
    {
     "data": {
      "text/html": [
       "<div>\n",
       "<style scoped>\n",
       "    .dataframe tbody tr th:only-of-type {\n",
       "        vertical-align: middle;\n",
       "    }\n",
       "\n",
       "    .dataframe tbody tr th {\n",
       "        vertical-align: top;\n",
       "    }\n",
       "\n",
       "    .dataframe thead th {\n",
       "        text-align: right;\n",
       "    }\n",
       "</style>\n",
       "<table border=\"1\" class=\"dataframe\">\n",
       "  <thead>\n",
       "    <tr style=\"text-align: right;\">\n",
       "      <th></th>\n",
       "      <th>Value</th>\n",
       "    </tr>\n",
       "  </thead>\n",
       "  <tbody>\n",
       "    <tr>\n",
       "      <th>2023-01-01</th>\n",
       "      <td>1.147560</td>\n",
       "    </tr>\n",
       "    <tr>\n",
       "      <th>2023-01-02</th>\n",
       "      <td>-0.476107</td>\n",
       "    </tr>\n",
       "    <tr>\n",
       "      <th>2023-01-03</th>\n",
       "      <td>-0.539763</td>\n",
       "    </tr>\n",
       "    <tr>\n",
       "      <th>2023-01-04</th>\n",
       "      <td>-0.209453</td>\n",
       "    </tr>\n",
       "    <tr>\n",
       "      <th>2023-01-05</th>\n",
       "      <td>1.061335</td>\n",
       "    </tr>\n",
       "    <tr>\n",
       "      <th>...</th>\n",
       "      <td>...</td>\n",
       "    </tr>\n",
       "    <tr>\n",
       "      <th>2023-04-06</th>\n",
       "      <td>0.012181</td>\n",
       "    </tr>\n",
       "    <tr>\n",
       "      <th>2023-04-07</th>\n",
       "      <td>-1.398915</td>\n",
       "    </tr>\n",
       "    <tr>\n",
       "      <th>2023-04-08</th>\n",
       "      <td>-0.152957</td>\n",
       "    </tr>\n",
       "    <tr>\n",
       "      <th>2023-04-09</th>\n",
       "      <td>0.392696</td>\n",
       "    </tr>\n",
       "    <tr>\n",
       "      <th>2023-04-10</th>\n",
       "      <td>0.291857</td>\n",
       "    </tr>\n",
       "  </tbody>\n",
       "</table>\n",
       "<p>100 rows × 1 columns</p>\n",
       "</div>"
      ],
      "text/plain": [
       "               Value\n",
       "2023-01-01  1.147560\n",
       "2023-01-02 -0.476107\n",
       "2023-01-03 -0.539763\n",
       "2023-01-04 -0.209453\n",
       "2023-01-05  1.061335\n",
       "...              ...\n",
       "2023-04-06  0.012181\n",
       "2023-04-07 -1.398915\n",
       "2023-04-08 -0.152957\n",
       "2023-04-09  0.392696\n",
       "2023-04-10  0.291857\n",
       "\n",
       "[100 rows x 1 columns]"
      ]
     },
     "execution_count": 152,
     "metadata": {},
     "output_type": "execute_result"
    }
   ],
   "source": [
    "import pandas as pd\n",
    "import numpy as np\n",
    "\n",
    "# Create a DataFrame with a date range and random values\n",
    "dates = pd.date_range('2023-01-01', periods=100)\n",
    "data = pd.DataFrame(np.random.randn(100), index=dates, columns=['Value'])\n",
    "\n",
    "\n",
    "data"
   ]
  },
  {
   "cell_type": "code",
   "execution_count": 153,
   "id": "936afccb",
   "metadata": {},
   "outputs": [
    {
     "name": "stdout",
     "output_type": "stream",
     "text": [
      "               Value\n",
      "2023-01-31  0.115553\n",
      "2023-02-28 -0.320509\n",
      "2023-03-31  0.076886\n",
      "2023-04-30  0.103327\n"
     ]
    }
   ],
   "source": [
    "# Resample the DataFrame to a monthly frequency and compute the mean\n",
    "monthly_data = data.resample('M').mean()\n",
    "\n",
    "print(monthly_data)"
   ]
  },
  {
   "cell_type": "code",
   "execution_count": 154,
   "id": "51b10e0f",
   "metadata": {},
   "outputs": [
    {
     "name": "stdout",
     "output_type": "stream",
     "text": [
      "               Value\n",
      "2023-03-31 -0.033429\n",
      "2023-06-30  0.103327\n"
     ]
    }
   ],
   "source": [
    "monthly_data = data.resample('Q').mean()\n",
    "\n",
    "print(monthly_data)"
   ]
  },
  {
   "cell_type": "code",
   "execution_count": 155,
   "id": "b675d917",
   "metadata": {},
   "outputs": [
    {
     "name": "stdout",
     "output_type": "stream",
     "text": [
      "               Value\n",
      "2023-01-01  1.147560\n",
      "2023-01-08 -0.092420\n",
      "2023-01-15  0.485175\n",
      "2023-01-22  0.364973\n",
      "2023-01-29 -0.013942\n",
      "2023-02-05 -0.771192\n",
      "2023-02-12  0.048126\n",
      "2023-02-19 -0.538941\n",
      "2023-02-26 -0.536177\n",
      "2023-03-05 -0.174545\n",
      "2023-03-12  0.481056\n",
      "2023-03-19  0.287971\n",
      "2023-03-26 -0.376837\n",
      "2023-04-02  0.288377\n",
      "2023-04-09  0.060553\n",
      "2023-04-16  0.291857\n"
     ]
    }
   ],
   "source": [
    "monthly_data = data.resample('W').mean()\n",
    "\n",
    "print(monthly_data)"
   ]
  },
  {
   "cell_type": "code",
   "execution_count": 157,
   "id": "ed8a8167",
   "metadata": {},
   "outputs": [
    {
     "name": "stdout",
     "output_type": "stream",
     "text": [
      "               Value\n",
      "2023-12-31 -0.019753\n"
     ]
    }
   ],
   "source": [
    "monthly_data = data.resample('Y').mean()\n",
    "\n",
    "print(monthly_data)"
   ]
  },
  {
   "cell_type": "code",
   "execution_count": 158,
   "id": "5d91c6be",
   "metadata": {},
   "outputs": [
    {
     "data": {
      "text/html": [
       "<div>\n",
       "<style scoped>\n",
       "    .dataframe tbody tr th:only-of-type {\n",
       "        vertical-align: middle;\n",
       "    }\n",
       "\n",
       "    .dataframe tbody tr th {\n",
       "        vertical-align: top;\n",
       "    }\n",
       "\n",
       "    .dataframe thead th {\n",
       "        text-align: right;\n",
       "    }\n",
       "</style>\n",
       "<table border=\"1\" class=\"dataframe\">\n",
       "  <thead>\n",
       "    <tr style=\"text-align: right;\">\n",
       "      <th></th>\n",
       "      <th>Category</th>\n",
       "      <th>Score</th>\n",
       "      <th>Rank</th>\n",
       "    </tr>\n",
       "  </thead>\n",
       "  <tbody>\n",
       "    <tr>\n",
       "      <th>0</th>\n",
       "      <td>A</td>\n",
       "      <td>85</td>\n",
       "      <td>3.0</td>\n",
       "    </tr>\n",
       "    <tr>\n",
       "      <th>1</th>\n",
       "      <td>B</td>\n",
       "      <td>90</td>\n",
       "      <td>1.0</td>\n",
       "    </tr>\n",
       "    <tr>\n",
       "      <th>2</th>\n",
       "      <td>A</td>\n",
       "      <td>88</td>\n",
       "      <td>2.0</td>\n",
       "    </tr>\n",
       "    <tr>\n",
       "      <th>3</th>\n",
       "      <td>B</td>\n",
       "      <td>75</td>\n",
       "      <td>3.0</td>\n",
       "    </tr>\n",
       "    <tr>\n",
       "      <th>4</th>\n",
       "      <td>A</td>\n",
       "      <td>90</td>\n",
       "      <td>1.0</td>\n",
       "    </tr>\n",
       "    <tr>\n",
       "      <th>5</th>\n",
       "      <td>B</td>\n",
       "      <td>88</td>\n",
       "      <td>2.0</td>\n",
       "    </tr>\n",
       "    <tr>\n",
       "      <th>6</th>\n",
       "      <td>A</td>\n",
       "      <td>85</td>\n",
       "      <td>3.0</td>\n",
       "    </tr>\n",
       "    <tr>\n",
       "      <th>7</th>\n",
       "      <td>B</td>\n",
       "      <td>90</td>\n",
       "      <td>1.0</td>\n",
       "    </tr>\n",
       "  </tbody>\n",
       "</table>\n",
       "</div>"
      ],
      "text/plain": [
       "  Category  Score  Rank\n",
       "0        A     85   3.0\n",
       "1        B     90   1.0\n",
       "2        A     88   2.0\n",
       "3        B     75   3.0\n",
       "4        A     90   1.0\n",
       "5        B     88   2.0\n",
       "6        A     85   3.0\n",
       "7        B     90   1.0"
      ]
     },
     "execution_count": 158,
     "metadata": {},
     "output_type": "execute_result"
    }
   ],
   "source": [
    "df"
   ]
  },
  {
   "cell_type": "code",
   "execution_count": 163,
   "id": "f2efc184",
   "metadata": {},
   "outputs": [
    {
     "data": {
      "text/plain": [
       "24"
      ]
     },
     "execution_count": 163,
     "metadata": {},
     "output_type": "execute_result"
    }
   ],
   "source": [
    "df.notnull().sum().sum().sum().sum("
   ]
  },
  {
   "cell_type": "code",
   "execution_count": null,
   "id": "80285797",
   "metadata": {},
   "outputs": [],
   "source": []
  }
 ],
 "metadata": {
  "kernelspec": {
   "display_name": "Python 3",
   "language": "python",
   "name": "python3"
  },
  "language_info": {
   "codemirror_mode": {
    "name": "ipython",
    "version": 3
   },
   "file_extension": ".py",
   "mimetype": "text/x-python",
   "name": "python",
   "nbconvert_exporter": "python",
   "pygments_lexer": "ipython3",
   "version": "3.8.3"
  }
 },
 "nbformat": 4,
 "nbformat_minor": 5
}
