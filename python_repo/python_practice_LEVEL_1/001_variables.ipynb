{
 "cells": [
  {
   "cell_type": "code",
   "execution_count": 1,
   "id": "622062a8",
   "metadata": {},
   "outputs": [],
   "source": [
    "What is a variable in Python, and why is it useful?\n",
    "In Python, if you set a = 5 and then b = a, what will be the value of b?\n",
    "How does Python handle variable names that start with a number, like 1var? Is it valid or invalid?\n",
    "In Python, what do we mean when we say that variables are \"dynamically typed\"?\n",
    "How can you check the data type of a variable x in Python?\n",
    "\n",
    "Can a variable name in Python include spaces? If not, what are some common ways to create multi-word variable names?\n",
    "What is the value of a variable after you've used the del statement on it in Python?\n",
    "In Python, if x = \"5\" and y = 3, what will be the result of the expression x + y? Why?\n",
    "How do you assign multiple variables in a single line in Python? For example, how would you assign 1 to a, 2 to b, and 3 to c in one line?\n",
    "In Python, what is the difference between = (single equals sign) and == (double equals sign) in the context of variables?"
   ]
  },
  {
   "cell_type": "code",
   "execution_count": null,
   "id": "d0168e81",
   "metadata": {},
   "outputs": [],
   "source": []
  }
 ],
 "metadata": {
  "kernelspec": {
   "display_name": "Python 3",
   "language": "python",
   "name": "python3"
  },
  "language_info": {
   "codemirror_mode": {
    "name": "ipython",
    "version": 3
   },
   "file_extension": ".py",
   "mimetype": "text/x-python",
   "name": "python",
   "nbconvert_exporter": "python",
   "pygments_lexer": "ipython3",
   "version": "3.8.3"
  }
 },
 "nbformat": 4,
 "nbformat_minor": 5
}
