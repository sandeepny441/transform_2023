{
 "cells": [
  {
   "cell_type": "code",
   "execution_count": 1,
   "id": "961ab0c7",
   "metadata": {},
   "outputs": [
    {
     "ename": "NameError",
     "evalue": "name 'NUll' is not defined",
     "output_type": "error",
     "traceback": [
      "\u001b[1;31m---------------------------------------------------------------------------\u001b[0m",
      "\u001b[1;31mNameError\u001b[0m                                 Traceback (most recent call last)",
      "Cell \u001b[1;32mIn[1], line 15\u001b[0m\n\u001b[0;32m      8\u001b[0m \u001b[38;5;28mfloat\u001b[39m \n\u001b[0;32m      9\u001b[0m \u001b[38;5;66;03m# 1. How would you round the float 5.678 to 2 decimal places?\u001b[39;00m\n\u001b[0;32m     10\u001b[0m \u001b[38;5;66;03m# 2. What is the result of 3.0 + 2.5?\u001b[39;00m\n\u001b[0;32m     11\u001b[0m \u001b[38;5;66;03m# 3. What's the integer part of the float 7.89?\u001b[39;00m\n\u001b[0;32m     12\u001b[0m \u001b[38;5;66;03m# 4. How can you check if the float 5.0 is an integer?\u001b[39;00m\n\u001b[0;32m     13\u001b[0m \u001b[38;5;66;03m# 5. What built-in function would you use to convert the string \"23.45\" to a float?\u001b[39;00m\n\u001b[1;32m---> 15\u001b[0m \u001b[43mNUll\u001b[49m \u001b[38;5;129;01mor\u001b[39;00m \u001b[38;5;28;01mNone\u001b[39;00m\n",
      "\u001b[1;31mNameError\u001b[0m: name 'NUll' is not defined"
     ]
    }
   ],
   "source": [
    "int\n",
    "# 1. What will be the result of 5 // 2 in Python?\n",
    "# 2. How can you convert an integer 123 into a string?\n",
    "# 3. What's the result of 7 % 3?\n",
    "# 4. If a = 5, how would you increment a by 1?\n",
    "# 5. How do you find the absolute value of an integer, say -10?\n",
    "\n",
    "float \n",
    "# 1. How would you round the float 5.678 to 2 decimal places?\n",
    "# 2. What is the result of 3.0 + 2.5?\n",
    "# 3. What's the integer part of the float 7.89?\n",
    "# 4. How can you check if the float 5.0 is an integer?\n",
    "# 5. What built-in function would you use to convert the string \"23.45\" to a float?\n",
    "\n",
    "NUll or None\n",
    "# What will be the output of the expression (True and False) in Python?\n",
    "# If x = None, how can you check if x has no value assigned to it using the is keyword?\n",
    "# Given two variables, a = 10 and b = None, what will be the result of the expression (a and b)?\n",
    "# How is the value None different from the string \"None\" in Python?\n",
    "# In Python, when checking if a variable, say var, is None or not, why is it recommended to use var is None rather than var == None?\n"
   ]
  },
  {
   "cell_type": "code",
   "execution_count": null,
   "id": "9d847721",
   "metadata": {},
   "outputs": [],
   "source": []
  }
 ],
 "metadata": {
  "kernelspec": {
   "display_name": "Python 3",
   "language": "python",
   "name": "python3"
  },
  "language_info": {
   "codemirror_mode": {
    "name": "ipython",
    "version": 3
   },
   "file_extension": ".py",
   "mimetype": "text/x-python",
   "name": "python",
   "nbconvert_exporter": "python",
   "pygments_lexer": "ipython3",
   "version": "3.8.3"
  }
 },
 "nbformat": 4,
 "nbformat_minor": 5
}
