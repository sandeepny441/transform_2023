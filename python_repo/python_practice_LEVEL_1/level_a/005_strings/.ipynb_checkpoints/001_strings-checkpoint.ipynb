{
 "cells": [
  {
   "cell_type": "code",
   "execution_count": 2,
   "id": "94b3edbc",
   "metadata": {},
   "outputs": [],
   "source": [
    "# Certainly! Let's consider a string s = \"Hello, World!\". Here are 10 questions based on commonly used string methods:\n",
    "\n",
    "\n",
    "# How would you convert all characters of the string s to uppercase?\n",
    "# How can you determine if the string s starts with the substring \"Hell\"?\n",
    "# If you want to count the occurrences of the letter \"l\" in the string s, which method should you use?\n",
    "# What method would you use to replace every occurrence of \"World\" in s with \"Universe\"?\n",
    "# How can you split the string s into a list of words, using the comma , as a delimiter?\n",
    "\n",
    "# If you want to check if the string s contains only alphabetic characters, which method would you employ?\n",
    "# How would you remove any whitespace characters at the beginning and end of the string s?\n",
    "# Which method would you use to find the position of the first occurrence of the letter \"o\" in the string s?\n",
    "# How can you check if the string s ends with the substring \"orld!\"?\n",
    "# If you want to center the string s within a width of 20 characters using asterisks (*) as padding, which method would you use?\n",
    "\n",
    "\n",
    "# If you want to find the last occurrence of the letter \"o\" in the string s, which method should you use?\n",
    "# How would you convert the first character of each word in s to uppercase?\n",
    "# Which method would you use to check if the string s is in title case (i.e., first letter of each word is uppercase)?\n",
    "# If you want to join a list [\"apple\", \"banana\", \"cherry\"] into a single string separated by spaces, which string method could you use?\n",
    "# How can you check if the string s is a numeric string, i.e., contains only numbers?\n",
    "\n",
    "# How would you encode the string s into bytes using UTF-8 encoding?\n",
    "# Which method would you use to get a version of the string s left-justified in a field of a given width, say 20 characters, and padded with underscores?\n",
    "# If you want to swap the case of each letter in the string s (convert uppercase to lowercase and vice versa), which method would you employ?\n",
    "# How would you test if the string s only contains whitespace characters?\n",
    "# If you have a string in the format \"12-34-56\" and you want to break \n",
    "# it at each hyphen -, turning it into a list of its components, which method would you use?"
   ]
  },
  {
   "cell_type": "code",
   "execution_count": null,
   "id": "dd841cde",
   "metadata": {},
   "outputs": [],
   "source": []
  }
 ],
 "metadata": {
  "kernelspec": {
   "display_name": "Python 3",
   "language": "python",
   "name": "python3"
  },
  "language_info": {
   "codemirror_mode": {
    "name": "ipython",
    "version": 3
   },
   "file_extension": ".py",
   "mimetype": "text/x-python",
   "name": "python",
   "nbconvert_exporter": "python",
   "pygments_lexer": "ipython3",
   "version": "3.8.3"
  }
 },
 "nbformat": 4,
 "nbformat_minor": 5
}
