{
 "cells": [
  {
   "cell_type": "code",
   "execution_count": 1,
   "id": "605e098a",
   "metadata": {},
   "outputs": [],
   "source": [
    "numbers = [3, 8, 15, 26, 32, 41, 50, 64, 78, 85]"
   ]
  },
  {
   "cell_type": "code",
   "execution_count": 2,
   "id": "494b11ca",
   "metadata": {},
   "outputs": [
    {
     "name": "stdout",
     "output_type": "stream",
     "text": [
      "Object `get` not found.\n",
      "Object `get` not found.\n",
      "Object `quotient` not found.\n"
     ]
    }
   ],
   "source": [
    "What is the first number in the list?\n",
    "What is the last number in the list?\n",
    "What is the sum of the first and second numbers?\n",
    "What is the difference between the seventh and third numbers?\n",
    "How many even numbers are there in the list?\n",
    "If you multiply the fifth number by the ninth number, what do you get?\n",
    "What is the average of all the numbers in the list?\n",
    "If you add 5 to the sixth number, what new number do you get?\n",
    "What is the smallest number in the list?\n",
    "If you divide the eighth number by the second number, what is the quotient?\n",
    "\n",
    "\n",
    "What method would you use to add the number 90 to the end of the list?\n",
    "How can you remove the number 15 from the list?\n",
    "Which method would you use to insert the number 45 at the fifth position in the list?\n",
    "If you wanted to make a copy of the list without modifying the original list, what method would you employ?\n",
    "How can you determine the position of the number 32 in the list?\n",
    "What would be the result of applying the pop() method on the list without any argument?\n",
    "If you wanted to count the occurrences of the number 50 in the list, which method should you use?\n",
    "How would you reverse the order of the numbers in the list?\n",
    "Which method would you use to sort the list in descending order?\n",
    "If you wanted to clear all the elements from the list, making it an empty list, which method would you employ?\n",
    "\n",
    "\n",
    "If you wanted to extend the list by appending elements from another list, e.g., [91, 92, 93], which method would you use?\n",
    "How would you retrieve the index of the number 64 starting the search from the fourth position of the list?\n",
    "If you want to remove the last three numbers from the list, which combination of methods could be useful?\n",
    "How can you check the length of the list?\n",
    "After applying the clear() method to the list, what will be the result if you print the list?"
   ]
  },
  {
   "cell_type": "code",
   "execution_count": null,
   "id": "3bda7839",
   "metadata": {},
   "outputs": [],
   "source": []
  },
  {
   "cell_type": "code",
   "execution_count": null,
   "id": "c76819e0",
   "metadata": {},
   "outputs": [],
   "source": []
  }
 ],
 "metadata": {
  "kernelspec": {
   "display_name": "Python 3",
   "language": "python",
   "name": "python3"
  },
  "language_info": {
   "codemirror_mode": {
    "name": "ipython",
    "version": 3
   },
   "file_extension": ".py",
   "mimetype": "text/x-python",
   "name": "python",
   "nbconvert_exporter": "python",
   "pygments_lexer": "ipython3",
   "version": "3.8.3"
  }
 },
 "nbformat": 4,
 "nbformat_minor": 5
}
