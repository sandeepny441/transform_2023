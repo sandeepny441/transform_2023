{
 "cells": [
  {
   "cell_type": "raw",
   "id": "3d5b75e9",
   "metadata": {},
   "source": [
    "□ Shapiro-Wilk Test\n",
    "□ Kolmogorov-Smirnov Test\n",
    "□ Anderson-Darling Test\n",
    "□ D'Agostino and Pearson's Test\n",
    "□ Skewness and Kurtosis"
   ]
  },
  {
   "cell_type": "code",
   "execution_count": 3,
   "id": "ec6f7364",
   "metadata": {},
   "outputs": [
    {
     "data": {
      "text/html": [
       "<div>\n",
       "<style scoped>\n",
       "    .dataframe tbody tr th:only-of-type {\n",
       "        vertical-align: middle;\n",
       "    }\n",
       "\n",
       "    .dataframe tbody tr th {\n",
       "        vertical-align: top;\n",
       "    }\n",
       "\n",
       "    .dataframe thead th {\n",
       "        text-align: right;\n",
       "    }\n",
       "</style>\n",
       "<table border=\"1\" class=\"dataframe\">\n",
       "  <thead>\n",
       "    <tr style=\"text-align: right;\">\n",
       "      <th></th>\n",
       "      <th>Age</th>\n",
       "      <th>SavingsAmount</th>\n",
       "    </tr>\n",
       "  </thead>\n",
       "  <tbody>\n",
       "    <tr>\n",
       "      <th>0</th>\n",
       "      <td>42.079630</td>\n",
       "      <td>46745.969581</td>\n",
       "    </tr>\n",
       "    <tr>\n",
       "      <th>1</th>\n",
       "      <td>63.790518</td>\n",
       "      <td>36531.299916</td>\n",
       "    </tr>\n",
       "    <tr>\n",
       "      <th>2</th>\n",
       "      <td>23.799048</td>\n",
       "      <td>59862.622681</td>\n",
       "    </tr>\n",
       "    <tr>\n",
       "      <th>3</th>\n",
       "      <td>26.203016</td>\n",
       "      <td>50119.359177</td>\n",
       "    </tr>\n",
       "    <tr>\n",
       "      <th>4</th>\n",
       "      <td>55.488219</td>\n",
       "      <td>51942.992305</td>\n",
       "    </tr>\n",
       "    <tr>\n",
       "      <th>...</th>\n",
       "      <td>...</td>\n",
       "      <td>...</td>\n",
       "    </tr>\n",
       "    <tr>\n",
       "      <th>995</th>\n",
       "      <td>41.045186</td>\n",
       "      <td>44243.445209</td>\n",
       "    </tr>\n",
       "    <tr>\n",
       "      <th>996</th>\n",
       "      <td>50.303197</td>\n",
       "      <td>41593.025575</td>\n",
       "    </tr>\n",
       "    <tr>\n",
       "      <th>997</th>\n",
       "      <td>42.753055</td>\n",
       "      <td>42804.080771</td>\n",
       "    </tr>\n",
       "    <tr>\n",
       "      <th>998</th>\n",
       "      <td>34.426948</td>\n",
       "      <td>36341.481447</td>\n",
       "    </tr>\n",
       "    <tr>\n",
       "      <th>999</th>\n",
       "      <td>52.688538</td>\n",
       "      <td>33142.999170</td>\n",
       "    </tr>\n",
       "  </tbody>\n",
       "</table>\n",
       "<p>1000 rows × 2 columns</p>\n",
       "</div>"
      ],
      "text/plain": [
       "           Age  SavingsAmount\n",
       "0    42.079630   46745.969581\n",
       "1    63.790518   36531.299916\n",
       "2    23.799048   59862.622681\n",
       "3    26.203016   50119.359177\n",
       "4    55.488219   51942.992305\n",
       "..         ...            ...\n",
       "995  41.045186   44243.445209\n",
       "996  50.303197   41593.025575\n",
       "997  42.753055   42804.080771\n",
       "998  34.426948   36341.481447\n",
       "999  52.688538   33142.999170\n",
       "\n",
       "[1000 rows x 2 columns]"
      ]
     },
     "execution_count": 3,
     "metadata": {},
     "output_type": "execute_result"
    }
   ],
   "source": [
    "import numpy as np\n",
    "import pandas as pd\n",
    "from scipy.stats import shapiro, kstest, anderson, normaltest, skew, kurtosis\n",
    "\n",
    "# Generate normally distributed age data\n",
    "age = np.random.normal(loc=40, scale=10, size=1000)\n",
    "\n",
    "# Generate normally distributed savings_amount data\n",
    "savings_amount = np.random.normal(loc=50000, scale=10000, size=1000)\n",
    "\n",
    "# Create a DataFrame\n",
    "df = pd.DataFrame({\n",
    "    'Age': age,\n",
    "    'SavingsAmount': savings_amount\n",
    "})\n",
    "\n",
    "df\n"
   ]
  },
  {
   "cell_type": "code",
   "execution_count": 5,
   "id": "93a4c0ef",
   "metadata": {},
   "outputs": [
    {
     "name": "stdout",
     "output_type": "stream",
     "text": [
      "Shapiro-Wilk Test: Statistics=0.999, p=0.909\n",
      "Kolmogorov-Smirnov Test: Statistics=1.000, p=0.000\n",
      "Anderson-Darling Test: Statistics=0.238\n",
      "D'Agostino and Pearson's Test: Statistics=0.990, p=0.609\n",
      "Skewness=-0.076, Kurtosis=-0.028\n"
     ]
    }
   ],
   "source": [
    "# Shapiro-Wilk Test\n",
    "stat, p = shapiro(df['Age'])\n",
    "print('Shapiro-Wilk Test: Statistics=%.3f, p=%.3f' % (stat, p))\n",
    "\n",
    "# Kolmogorov-Smirnov Test\n",
    "stat, p = kstest(df['Age'], 'norm')\n",
    "print('Kolmogorov-Smirnov Test: Statistics=%.3f, p=%.3f' % (stat, p))\n",
    "\n",
    "# Anderson-Darling Test\n",
    "result = anderson(df['Age'])\n",
    "print('Anderson-Darling Test: Statistics=%.3f' % (result.statistic))\n",
    "\n",
    "# D'Agostino and Pearson's Test\n",
    "stat, p = normaltest(df['Age'])\n",
    "print('D\\'Agostino and Pearson\\'s Test: Statistics=%.3f, p=%.3f' % (stat, p))\n",
    "\n",
    "# Skewness and Kurtosis\n",
    "s = skew(df['Age'])\n",
    "k = kurtosis(df['Age'])\n",
    "print('Skewness=%.3f, Kurtosis=%.3f' % (s, k))\n"
   ]
  },
  {
   "cell_type": "code",
   "execution_count": null,
   "id": "e61626b7",
   "metadata": {},
   "outputs": [],
   "source": [
    "# NULL Hypothesis: The data is normally distributed \n",
    "# In the above tests, if the p-value is < 0.05, we can reject the NULL Hypothesis. "
   ]
  }
 ],
 "metadata": {
  "kernelspec": {
   "display_name": "Python 3",
   "language": "python",
   "name": "python3"
  },
  "language_info": {
   "codemirror_mode": {
    "name": "ipython",
    "version": 3
   },
   "file_extension": ".py",
   "mimetype": "text/x-python",
   "name": "python",
   "nbconvert_exporter": "python",
   "pygments_lexer": "ipython3",
   "version": "3.8.3"
  }
 },
 "nbformat": 4,
 "nbformat_minor": 5
}
