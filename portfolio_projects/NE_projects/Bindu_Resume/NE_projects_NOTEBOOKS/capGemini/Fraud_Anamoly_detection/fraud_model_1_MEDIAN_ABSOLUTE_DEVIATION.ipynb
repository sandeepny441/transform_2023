{
 "cells": [
  {
   "cell_type": "code",
   "execution_count": 1,
   "id": "a0e1fc55",
   "metadata": {},
   "outputs": [
    {
     "name": "stdout",
     "output_type": "stream",
     "text": [
      "Classification Report:\n",
      "              precision    recall  f1-score   support\n",
      "\n",
      "      Normal       1.00      1.00      1.00       950\n",
      "     Anomaly       1.00      1.00      1.00        50\n",
      "\n",
      "    accuracy                           1.00      1000\n",
      "   macro avg       1.00      1.00      1.00      1000\n",
      "weighted avg       1.00      1.00      1.00      1000\n",
      "\n"
     ]
    }
   ],
   "source": [
    "import numpy as np\n",
    "from sklearn.metrics import classification_report\n",
    "\n",
    "# Function to compute MAD-based anomalies\n",
    "def compute_mad(data, threshold=3.5):\n",
    "    median = np.median(data)\n",
    "    abs_deviation = np.abs(data - median)\n",
    "    mad = np.median(abs_deviation)\n",
    "    modified_z_score = 0.6745 * abs_deviation / mad\n",
    "    anomalies = modified_z_score > threshold\n",
    "    return anomalies\n",
    "\n",
    "# Create synthetic data and labels\n",
    "# Assume 1000 samples; 950 are normal (labeled as 0), and 50 are anomalies (labeled as 1)\n",
    "np.random.seed(0)\n",
    "X_normal = np.random.normal(loc=50, scale=10, size=(950, 1))\n",
    "y_normal = np.zeros(950)\n",
    "\n",
    "X_anomalies = np.random.normal(loc=100, scale=1, size=(50, 1))\n",
    "y_anomalies = np.ones(50)\n",
    "\n",
    "# Combine normal data and anomalies\n",
    "X = np.vstack((X_normal, X_anomalies))\n",
    "y_true = np.hstack((y_normal, y_anomalies))\n",
    "\n",
    "# Detect anomalies using MAD\n",
    "anomalies_detected = compute_mad(X)\n",
    "y_pred = anomalies_detected.astype(int)\n",
    "\n",
    "# Generate a classification report\n",
    "report = classification_report(y_true, y_pred, target_names=[\"Normal\", \"Anomaly\"])\n",
    "print(\"Classification Report:\")\n",
    "print(report)\n"
   ]
  },
  {
   "cell_type": "code",
   "execution_count": null,
   "id": "bcb0a3c5",
   "metadata": {},
   "outputs": [],
   "source": []
  }
 ],
 "metadata": {
  "kernelspec": {
   "display_name": "Python 3",
   "language": "python",
   "name": "python3"
  },
  "language_info": {
   "codemirror_mode": {
    "name": "ipython",
    "version": 3
   },
   "file_extension": ".py",
   "mimetype": "text/x-python",
   "name": "python",
   "nbconvert_exporter": "python",
   "pygments_lexer": "ipython3",
   "version": "3.8.3"
  }
 },
 "nbformat": 4,
 "nbformat_minor": 5
}
