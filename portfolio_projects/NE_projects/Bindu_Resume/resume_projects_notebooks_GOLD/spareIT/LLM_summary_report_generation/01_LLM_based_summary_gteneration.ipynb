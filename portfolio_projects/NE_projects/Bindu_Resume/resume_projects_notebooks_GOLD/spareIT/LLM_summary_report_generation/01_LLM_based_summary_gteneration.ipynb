{
 "cells": [
  {
   "cell_type": "code",
   "execution_count": null,
   "id": "ed837b82",
   "metadata": {},
   "outputs": [],
   "source": [
    "# # Segment images\n",
    "# from image_segmentation import segment_images \n",
    "\n",
    "# image_segments = segment_images(images)\n",
    "\n",
    "# # Image to text \n",
    "# from dalle import DALLE\n",
    "\n",
    "# dalle = DALLE()\n",
    "# text_summaries = []\n",
    "# for segment in image_segments:\n",
    "#   text_summaries.append(dalle.generate_text(segment))\n",
    "  \n",
    "# # Aggregate text \n",
    "# full_text = \"\".join(text_summaries)\n",
    "\n",
    "# # Fine-tune language model\n",
    "# from transformers import GPT2LMHeadModel, GPT2Tokenizer\n",
    "\n",
    "# tokenizer = GPT2Tokenizer.from_pretrained(\"gpt2\")\n",
    "# model = GPT2LMHeadModel.from_pretrained(\"gpt2\")\n",
    "# model.train(text_report_dataset)\n",
    "\n",
    "# # Generate summary\n",
    "\n",
    "# prompt = f\"Summarize the key points from this report: {full_text}\"\n",
    "# input_ids = tokenizer.encode(prompt)\n",
    "# output = model.generate(input_ids)\n",
    "# summary = tokenizer.decode(output)\n",
    "\n",
    "# # Refine and evaluate\n",
    "# # Use human feedback to further fine-tune"
   ]
  }
 ],
 "metadata": {
  "kernelspec": {
   "display_name": "Python 3",
   "language": "python",
   "name": "python3"
  },
  "language_info": {
   "codemirror_mode": {
    "name": "ipython",
    "version": 3
   },
   "file_extension": ".py",
   "mimetype": "text/x-python",
   "name": "python",
   "nbconvert_exporter": "python",
   "pygments_lexer": "ipython3",
   "version": "3.8.3"
  }
 },
 "nbformat": 4,
 "nbformat_minor": 5
}
