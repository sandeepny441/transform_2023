{
 "cells": [
  {
   "cell_type": "code",
   "execution_count": null,
   "id": "e3fe47fe",
   "metadata": {},
   "outputs": [],
   "source": [
    "import pandas as pd\n",
    "from scipy import stats\n",
    "\n",
    "# Sample data\n",
    "data = pd.DataFrame({\n",
    "    'user_id': range(1, 201),\n",
    "    'group': ['A'] * 100 + ['B'] * 100,  # A = Control, B = Treatment\n",
    "    'engagement_rate': list(np.random.uniform(0.3, 0.5, 100)) + list(np.random.uniform(0.4, 0.6, 100))\n",
    "})\n",
    "\n",
    "group_a = data[data['group'] == 'A']\n",
    "group_b = data[data['group'] == 'B']\n",
    "\n",
    "# Two-sample t-test for engagement rate\n",
    "t_stat, p_val = stats.ttest_ind(group_a['engagement_rate'], group_b['engagement_rate'])\n",
    "\n",
    "print(f\"t-statistic: {t_stat}, p-value: {p_val}\")\n",
    "\n",
    "# Drawing conclusions\n",
    "if p_val < 0.05:\n",
    "    print(\"The Quick Summary View has a statistically significant impact on user engagement.\")\n",
    "else:\n",
    "    print(\"No statistically significant impact observed.\")\n"
   ]
  }
 ],
 "metadata": {
  "kernelspec": {
   "display_name": "Python 3",
   "language": "python",
   "name": "python3"
  },
  "language_info": {
   "codemirror_mode": {
    "name": "ipython",
    "version": 3
   },
   "file_extension": ".py",
   "mimetype": "text/x-python",
   "name": "python",
   "nbconvert_exporter": "python",
   "pygments_lexer": "ipython3",
   "version": "3.8.3"
  }
 },
 "nbformat": 4,
 "nbformat_minor": 5
}
