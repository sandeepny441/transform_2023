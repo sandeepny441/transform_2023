{
 "cells": [
  {
   "cell_type": "markdown",
   "id": "9b35ae28",
   "metadata": {},
   "source": [
    "# 1. Imports"
   ]
  },
  {
   "cell_type": "code",
   "execution_count": 1,
   "id": "f6f91664",
   "metadata": {},
   "outputs": [],
   "source": [
    "import pandas as pd\n",
    "import numpy as np\n",
    "from sklearn.ensemble import IsolationForest\n",
    "from sklearn.model_selection import train_test_split\n",
    "from sklearn.metrics import classification_report"
   ]
  },
  {
   "cell_type": "markdown",
   "id": "e4d43d18",
   "metadata": {},
   "source": [
    "# 2. Data Loading"
   ]
  },
  {
   "cell_type": "code",
   "execution_count": 2,
   "id": "944091a1",
   "metadata": {},
   "outputs": [],
   "source": [
    "# Generate synthetic data\n",
    "n = 1000  # Number of transactions\n",
    "\n",
    "# Generate transaction IDs\n",
    "transaction_ids = np.arange(1, n + 1)\n",
    "\n",
    "# Generate random amounts between 1 and 1000\n",
    "amounts = np.random.randint(1, 1001, n)\n",
    "\n",
    "# Generate random sender and receiver IDs\n",
    "senders = np.random.randint(1, 101, n)\n",
    "receivers = np.random.randint(1, 101, n)\n",
    "\n",
    "# Generate random timestamps\n",
    "timestamps = pd.date_range(start='2021-01-01', end='2021-12-31', periods=n)\n",
    "\n",
    "# Generate account creation dates (for the sake of this example, we'll assume the same for sender and receiver)\n",
    "account_creation_dates = pd.date_range(start='2020-01-01', end='2020-12-31', periods=n)\n"
   ]
  },
  {
   "cell_type": "code",
   "execution_count": 3,
   "id": "43ef771c",
   "metadata": {},
   "outputs": [],
   "source": [
    "# Generate user profile data: Age (20-60), Location (1-5 as different regions), Employment (0-unemployed, 1-employed)\n",
    "ages = np.random.randint(20, 61, n)\n",
    "locations = np.random.randint(1, 6, n)\n",
    "employments = np.random.randint(0, 2, n)\n",
    "\n",
    "# Create the data frame\n",
    "df = pd.DataFrame({\n",
    "    'Transaction_ID': transaction_ids,\n",
    "    'Amount': amounts,\n",
    "    'Sender': senders,\n",
    "    'Receiver': receivers,\n",
    "    'Timestamp': timestamps,\n",
    "    'Account_Creation_Date': account_creation_dates,\n",
    "    'Age': ages,\n",
    "    'Location': locations,\n",
    "    'Employment': employments,\n",
    "})\n",
    "\n"
   ]
  },
  {
   "cell_type": "code",
   "execution_count": 4,
   "id": "bcb0dddf",
   "metadata": {},
   "outputs": [],
   "source": [
    "# Introduce some fraudulent transactions (for the sake of this example, we'll flag transactions over 900 as fraudulent)\n",
    "df['Is_Fraud'] = (df['Amount'] > 900).astype(int)"
   ]
  },
  {
   "cell_type": "code",
   "execution_count": 5,
   "id": "002465bb",
   "metadata": {},
   "outputs": [
    {
     "data": {
      "text/html": [
       "<div>\n",
       "<style scoped>\n",
       "    .dataframe tbody tr th:only-of-type {\n",
       "        vertical-align: middle;\n",
       "    }\n",
       "\n",
       "    .dataframe tbody tr th {\n",
       "        vertical-align: top;\n",
       "    }\n",
       "\n",
       "    .dataframe thead th {\n",
       "        text-align: right;\n",
       "    }\n",
       "</style>\n",
       "<table border=\"1\" class=\"dataframe\">\n",
       "  <thead>\n",
       "    <tr style=\"text-align: right;\">\n",
       "      <th></th>\n",
       "      <th>Transaction_ID</th>\n",
       "      <th>Amount</th>\n",
       "      <th>Sender</th>\n",
       "      <th>Receiver</th>\n",
       "      <th>Timestamp</th>\n",
       "      <th>Account_Creation_Date</th>\n",
       "      <th>Age</th>\n",
       "      <th>Location</th>\n",
       "      <th>Employment</th>\n",
       "      <th>Is_Fraud</th>\n",
       "    </tr>\n",
       "  </thead>\n",
       "  <tbody>\n",
       "    <tr>\n",
       "      <th>0</th>\n",
       "      <td>1</td>\n",
       "      <td>237</td>\n",
       "      <td>69</td>\n",
       "      <td>38</td>\n",
       "      <td>2021-01-01 00:00:00.000000000</td>\n",
       "      <td>2020-01-01 00:00:00.000000000</td>\n",
       "      <td>27</td>\n",
       "      <td>5</td>\n",
       "      <td>0</td>\n",
       "      <td>0</td>\n",
       "    </tr>\n",
       "    <tr>\n",
       "      <th>1</th>\n",
       "      <td>2</td>\n",
       "      <td>617</td>\n",
       "      <td>42</td>\n",
       "      <td>85</td>\n",
       "      <td>2021-01-01 08:44:41.081081081</td>\n",
       "      <td>2020-01-01 08:46:07.567567567</td>\n",
       "      <td>34</td>\n",
       "      <td>2</td>\n",
       "      <td>1</td>\n",
       "      <td>0</td>\n",
       "    </tr>\n",
       "    <tr>\n",
       "      <th>2</th>\n",
       "      <td>3</td>\n",
       "      <td>170</td>\n",
       "      <td>14</td>\n",
       "      <td>66</td>\n",
       "      <td>2021-01-01 17:29:22.162162162</td>\n",
       "      <td>2020-01-01 17:32:15.135135135</td>\n",
       "      <td>49</td>\n",
       "      <td>5</td>\n",
       "      <td>1</td>\n",
       "      <td>0</td>\n",
       "    </tr>\n",
       "    <tr>\n",
       "      <th>3</th>\n",
       "      <td>4</td>\n",
       "      <td>470</td>\n",
       "      <td>8</td>\n",
       "      <td>57</td>\n",
       "      <td>2021-01-02 02:14:03.243243243</td>\n",
       "      <td>2020-01-02 02:18:22.702702702</td>\n",
       "      <td>41</td>\n",
       "      <td>2</td>\n",
       "      <td>0</td>\n",
       "      <td>0</td>\n",
       "    </tr>\n",
       "    <tr>\n",
       "      <th>4</th>\n",
       "      <td>5</td>\n",
       "      <td>408</td>\n",
       "      <td>58</td>\n",
       "      <td>93</td>\n",
       "      <td>2021-01-02 10:58:44.324324324</td>\n",
       "      <td>2020-01-02 11:04:30.270270270</td>\n",
       "      <td>28</td>\n",
       "      <td>3</td>\n",
       "      <td>0</td>\n",
       "      <td>0</td>\n",
       "    </tr>\n",
       "    <tr>\n",
       "      <th>...</th>\n",
       "      <td>...</td>\n",
       "      <td>...</td>\n",
       "      <td>...</td>\n",
       "      <td>...</td>\n",
       "      <td>...</td>\n",
       "      <td>...</td>\n",
       "      <td>...</td>\n",
       "      <td>...</td>\n",
       "      <td>...</td>\n",
       "      <td>...</td>\n",
       "    </tr>\n",
       "    <tr>\n",
       "      <th>995</th>\n",
       "      <td>996</td>\n",
       "      <td>802</td>\n",
       "      <td>32</td>\n",
       "      <td>11</td>\n",
       "      <td>2021-12-29 13:01:15.675675676</td>\n",
       "      <td>2020-12-29 12:55:29.729729728</td>\n",
       "      <td>44</td>\n",
       "      <td>3</td>\n",
       "      <td>0</td>\n",
       "      <td>0</td>\n",
       "    </tr>\n",
       "    <tr>\n",
       "      <th>996</th>\n",
       "      <td>997</td>\n",
       "      <td>249</td>\n",
       "      <td>83</td>\n",
       "      <td>74</td>\n",
       "      <td>2021-12-29 21:45:56.756756756</td>\n",
       "      <td>2020-12-29 21:41:37.297297296</td>\n",
       "      <td>50</td>\n",
       "      <td>1</td>\n",
       "      <td>0</td>\n",
       "      <td>0</td>\n",
       "    </tr>\n",
       "    <tr>\n",
       "      <th>997</th>\n",
       "      <td>998</td>\n",
       "      <td>272</td>\n",
       "      <td>60</td>\n",
       "      <td>94</td>\n",
       "      <td>2021-12-30 06:30:37.837837840</td>\n",
       "      <td>2020-12-30 06:27:44.864864864</td>\n",
       "      <td>45</td>\n",
       "      <td>4</td>\n",
       "      <td>0</td>\n",
       "      <td>0</td>\n",
       "    </tr>\n",
       "    <tr>\n",
       "      <th>998</th>\n",
       "      <td>999</td>\n",
       "      <td>387</td>\n",
       "      <td>31</td>\n",
       "      <td>90</td>\n",
       "      <td>2021-12-30 15:15:18.918918920</td>\n",
       "      <td>2020-12-30 15:13:52.432432432</td>\n",
       "      <td>58</td>\n",
       "      <td>3</td>\n",
       "      <td>0</td>\n",
       "      <td>0</td>\n",
       "    </tr>\n",
       "    <tr>\n",
       "      <th>999</th>\n",
       "      <td>1000</td>\n",
       "      <td>106</td>\n",
       "      <td>38</td>\n",
       "      <td>11</td>\n",
       "      <td>2021-12-31 00:00:00.000000000</td>\n",
       "      <td>2020-12-31 00:00:00.000000000</td>\n",
       "      <td>36</td>\n",
       "      <td>5</td>\n",
       "      <td>0</td>\n",
       "      <td>0</td>\n",
       "    </tr>\n",
       "  </tbody>\n",
       "</table>\n",
       "<p>1000 rows × 10 columns</p>\n",
       "</div>"
      ],
      "text/plain": [
       "     Transaction_ID  Amount  Sender  Receiver                     Timestamp  \\\n",
       "0                 1     237      69        38 2021-01-01 00:00:00.000000000   \n",
       "1                 2     617      42        85 2021-01-01 08:44:41.081081081   \n",
       "2                 3     170      14        66 2021-01-01 17:29:22.162162162   \n",
       "3                 4     470       8        57 2021-01-02 02:14:03.243243243   \n",
       "4                 5     408      58        93 2021-01-02 10:58:44.324324324   \n",
       "..              ...     ...     ...       ...                           ...   \n",
       "995             996     802      32        11 2021-12-29 13:01:15.675675676   \n",
       "996             997     249      83        74 2021-12-29 21:45:56.756756756   \n",
       "997             998     272      60        94 2021-12-30 06:30:37.837837840   \n",
       "998             999     387      31        90 2021-12-30 15:15:18.918918920   \n",
       "999            1000     106      38        11 2021-12-31 00:00:00.000000000   \n",
       "\n",
       "            Account_Creation_Date  Age  Location  Employment  Is_Fraud  \n",
       "0   2020-01-01 00:00:00.000000000   27         5           0         0  \n",
       "1   2020-01-01 08:46:07.567567567   34         2           1         0  \n",
       "2   2020-01-01 17:32:15.135135135   49         5           1         0  \n",
       "3   2020-01-02 02:18:22.702702702   41         2           0         0  \n",
       "4   2020-01-02 11:04:30.270270270   28         3           0         0  \n",
       "..                            ...  ...       ...         ...       ...  \n",
       "995 2020-12-29 12:55:29.729729728   44         3           0         0  \n",
       "996 2020-12-29 21:41:37.297297296   50         1           0         0  \n",
       "997 2020-12-30 06:27:44.864864864   45         4           0         0  \n",
       "998 2020-12-30 15:13:52.432432432   58         3           0         0  \n",
       "999 2020-12-31 00:00:00.000000000   36         5           0         0  \n",
       "\n",
       "[1000 rows x 10 columns]"
      ]
     },
     "execution_count": 5,
     "metadata": {},
     "output_type": "execute_result"
    }
   ],
   "source": [
    "df"
   ]
  },
  {
   "cell_type": "code",
   "execution_count": 6,
   "id": "7430c32f",
   "metadata": {},
   "outputs": [
    {
     "data": {
      "text/plain": [
       "0    892\n",
       "1    108\n",
       "Name: Is_Fraud, dtype: int64"
      ]
     },
     "execution_count": 6,
     "metadata": {},
     "output_type": "execute_result"
    }
   ],
   "source": [
    "df.Is_Fraud.value_counts()"
   ]
  },
  {
   "cell_type": "markdown",
   "id": "c435ffe8",
   "metadata": {},
   "source": [
    "# 3. Data Pre - Processoing"
   ]
  },
  {
   "cell_type": "code",
   "execution_count": 7,
   "id": "5dc977a3",
   "metadata": {},
   "outputs": [],
   "source": [
    "# Feature engineering: Extract time-based features from the timestamp\n",
    "df['Hour'] = df['Timestamp'].dt.hour\n",
    "df['Day'] = df['Timestamp'].dt.day\n",
    "df['Weekday'] = df['Timestamp'].dt.weekday\n",
    "\n",
    "# Let's use these engineered features plus the Amount for anomaly detection\n",
    "features = ['Amount', 'Hour', 'Day', 'Weekday']\n"
   ]
  },
  {
   "cell_type": "code",
   "execution_count": 9,
   "id": "d8533d92",
   "metadata": {},
   "outputs": [
    {
     "data": {
      "text/plain": [
       "['Amount', 'Hour', 'Day', 'Weekday']"
      ]
     },
     "execution_count": 9,
     "metadata": {},
     "output_type": "execute_result"
    }
   ],
   "source": [
    "features"
   ]
  },
  {
   "cell_type": "code",
   "execution_count": 10,
   "id": "6366638e",
   "metadata": {},
   "outputs": [
    {
     "name": "stdout",
     "output_type": "stream",
     "text": [
      "              precision    recall  f1-score   support\n",
      "\n",
      "           0       0.79      0.15      0.25       181\n",
      "           1       0.07      0.63      0.13        19\n",
      "\n",
      "    accuracy                           0.20       200\n",
      "   macro avg       0.43      0.39      0.19       200\n",
      "weighted avg       0.73      0.20      0.24       200\n",
      "\n"
     ]
    },
    {
     "name": "stderr",
     "output_type": "stream",
     "text": [
      "C:\\ProgramData\\Anaconda3\\lib\\site-packages\\sklearn\\base.py:439: UserWarning: X does not have valid feature names, but IsolationForest was fitted with feature names\n",
      "  warnings.warn(\n"
     ]
    }
   ],
   "source": [
    "X = df[features]\n",
    "y = df['Is_Fraud']\n",
    "\n",
    "# Train/test split\n",
    "X_train, X_test, y_train, y_test = train_test_split(X, y, test_size=0.2, random_state=42)\n",
    "\n",
    "# Initialize and train the model\n",
    "model = IsolationForest(contamination=0.1)\n",
    "model.fit(X_train)\n",
    "\n",
    "# Get predictions (1 for inliers, -1 for outliers)\n",
    "y_pred = model.predict(X_test)\n",
    "y_pred = [1 if x == 1 else 0 for x in y_pred]  # Convert to 0 and 1\n",
    "\n",
    "# Evaluate the model\n",
    "print(classification_report(y_test, y_pred))\n"
   ]
  },
  {
   "cell_type": "code",
   "execution_count": null,
   "id": "7dd375d5",
   "metadata": {},
   "outputs": [],
   "source": []
  },
  {
   "cell_type": "code",
   "execution_count": null,
   "id": "a297d8bf",
   "metadata": {},
   "outputs": [],
   "source": []
  }
 ],
 "metadata": {
  "kernelspec": {
   "display_name": "Python 3",
   "language": "python",
   "name": "python3"
  },
  "language_info": {
   "codemirror_mode": {
    "name": "ipython",
    "version": 3
   },
   "file_extension": ".py",
   "mimetype": "text/x-python",
   "name": "python",
   "nbconvert_exporter": "python",
   "pygments_lexer": "ipython3",
   "version": "3.8.3"
  }
 },
 "nbformat": 4,
 "nbformat_minor": 5
}
